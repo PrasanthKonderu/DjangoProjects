{
 "cells": [
  {
   "cell_type": "code",
   "execution_count": 3,
   "metadata": {},
   "outputs": [
    {
     "name": "stdout",
     "output_type": "stream",
     "text": [
      "wellcome to  pavanbank\n",
      "enter your name:pavan\n",
      "d-deposit\n",
      " w-withdra\n",
      " e-exit\n",
      "choice your option:d\n",
      "enter ammout:10000\n",
      "affter balance  10000.0\n",
      "d-deposit\n",
      " w-withdra\n",
      " e-exit\n",
      "choice your option:w\n",
      "enter withdra  ammount is :500\n"
     ]
    },
    {
     "ename": "SystemExit",
     "evalue": "",
     "output_type": "error",
     "traceback": [
      "An exception has occurred, use %tb to see the full traceback.\n",
      "\u001b[1;31mSystemExit\u001b[0m\n"
     ]
    },
    {
     "name": "stderr",
     "output_type": "stream",
     "text": [
      "C:\\Users\\DELL\\Anaconda2\\lib\\site-packages\\IPython\\core\\interactiveshell.py:2886: UserWarning: To exit: use 'exit', 'quit', or Ctrl-D.\n",
      "  warn(\"To exit: use 'exit', 'quit', or Ctrl-D.\", stacklevel=1)\n"
     ]
    }
   ],
   "source": [
    "import sys\n",
    "class Customer:\n",
    "    bankname=\"pavanbank\"\n",
    "    def __init__(self,name,balance=0):\n",
    "        self.name=name\n",
    "        self.balance=balance\n",
    "    def deposit(self,amt):\n",
    "        self.balance=self.balance+amt\n",
    "        print \"affter balance \",self.balance\n",
    "    def withdra(self,amt):\n",
    "        if amt>self.balance:\n",
    "            print \"no sofficent\"\n",
    "        sys.exit()\n",
    "        self.balance=self.balance-amt\n",
    "        print \"affter withdra balance \",self.balance\n",
    "print \"wellcome to \",Customer.bankname\n",
    "name=raw_input(\"enter your name:\")\n",
    "\n",
    "c=Customer(name)\n",
    "\n",
    "while True:\n",
    "    print 'd-deposit\\n w-withdra\\n e-exit'\n",
    "    option=raw_input(\"choice your option:\")\n",
    "    if option=='d' or option=='D':\n",
    "        amt=float(input(\"enter ammout:\"))\n",
    "        c.deposit(amt)\n",
    "    elif option=='w' or option=='W':\n",
    "        amt=float(input(\"enter withdra  ammount is :\"))\n",
    "        c.withdra(amt)\n",
    "    elif option=='e' or option=='E':\n",
    "        print \"thank you banking\"\n",
    "        sys.exit()\n",
    "        \n",
    "    else:\n",
    "        print \"chose valid options\"\n",
    "\n",
    "        \n",
    "        \n",
    "\n"
   ]
  },
  {
   "cell_type": "code",
   "execution_count": null,
   "metadata": {},
   "outputs": [],
   "source": []
  }
 ],
 "metadata": {
  "kernelspec": {
   "display_name": "Python 2",
   "language": "python",
   "name": "python2"
  },
  "language_info": {
   "codemirror_mode": {
    "name": "ipython",
    "version": 2
   },
   "file_extension": ".py",
   "mimetype": "text/x-python",
   "name": "python",
   "nbconvert_exporter": "python",
   "pygments_lexer": "ipython2",
   "version": "2.7.15"
  }
 },
 "nbformat": 4,
 "nbformat_minor": 2
}
