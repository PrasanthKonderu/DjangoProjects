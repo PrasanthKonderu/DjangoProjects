{
 "cells": [
  {
   "cell_type": "code",
   "execution_count": 2,
   "metadata": {},
   "outputs": [],
   "source": [
    "import re\n",
    "# re.match()\n",
    "# re.search()\n",
    "# re.findall()\n",
    "# re.split()\n",
    "# re.sub()\n",
    "# re.compile()\n",
    "re.match?\n",
    "\n"
   ]
  },
  {
   "cell_type": "code",
   "execution_count": 3,
   "metadata": {},
   "outputs": [
    {
     "name": "stdout",
     "output_type": "stream",
     "text": [
      "<_sre.SRE_Match object at 0x00000000042E7850>\n"
     ]
    }
   ],
   "source": [
    "s=\"AV Analytics Vidhya AV\"\n",
    "result=re.match(\"AV\",s)\n",
    "print result\n"
   ]
  },
  {
   "cell_type": "code",
   "execution_count": 10,
   "metadata": {},
   "outputs": [
    {
     "name": "stdout",
     "output_type": "stream",
     "text": [
      "<_sre.SRE_Match object at 0x00000000042E7C60>\n",
      "pa\n"
     ]
    }
   ],
   "source": [
    "s1=\"pavan kalevaru\"\n",
    "r=re.match(\"pa\",s1)\n",
    "print r\n",
    "print r.group()"
   ]
  },
  {
   "cell_type": "code",
   "execution_count": 6,
   "metadata": {},
   "outputs": [
    {
     "name": "stdout",
     "output_type": "stream",
     "text": [
      "AV\n"
     ]
    }
   ],
   "source": [
    "print result.group()"
   ]
  },
  {
   "cell_type": "code",
   "execution_count": null,
   "metadata": {},
   "outputs": [],
   "source": []
  },
  {
   "cell_type": "code",
   "execution_count": 9,
   "metadata": {},
   "outputs": [
    {
     "name": "stdout",
     "output_type": "stream",
     "text": [
      "None\n"
     ]
    }
   ],
   "source": [
    "s=\" Analytics Vidhya AV\"\n",
    "result=re.match(\"AV\",s)# match function serach for only straing of string .\n",
    "# if string find retun index\n",
    "# other wise NONE\n",
    "print result"
   ]
  },
  {
   "cell_type": "code",
   "execution_count": 11,
   "metadata": {},
   "outputs": [
    {
     "name": "stdout",
     "output_type": "stream",
     "text": [
      "<_sre.SRE_Match object at 0x0000000004460AC0>\n",
      "p\n"
     ]
    }
   ],
   "source": [
    "s=\"pavan kalevaru pavan star\"\n",
    "result=re.match('p',s)\n",
    "print result\n",
    "print result.group()"
   ]
  },
  {
   "cell_type": "code",
   "execution_count": 12,
   "metadata": {},
   "outputs": [
    {
     "name": "stdout",
     "output_type": "stream",
     "text": [
      "None\n"
     ]
    },
    {
     "ename": "AttributeError",
     "evalue": "'NoneType' object has no attribute 'group'",
     "output_type": "error",
     "traceback": [
      "\u001b[1;31m---------------------------------------------------------------------------\u001b[0m",
      "\u001b[1;31mAttributeError\u001b[0m                            Traceback (most recent call last)",
      "\u001b[1;32m<ipython-input-12-5d271d826c99>\u001b[0m in \u001b[0;36m<module>\u001b[1;34m()\u001b[0m\n\u001b[0;32m      2\u001b[0m \u001b[0mresult\u001b[0m\u001b[1;33m=\u001b[0m\u001b[0mre\u001b[0m\u001b[1;33m.\u001b[0m\u001b[0mmatch\u001b[0m\u001b[1;33m(\u001b[0m\u001b[1;34m'a'\u001b[0m\u001b[1;33m,\u001b[0m\u001b[0ms\u001b[0m\u001b[1;33m)\u001b[0m\u001b[1;33m\u001b[0m\u001b[0m\n\u001b[0;32m      3\u001b[0m \u001b[1;32mprint\u001b[0m \u001b[0mresult\u001b[0m\u001b[1;33m\u001b[0m\u001b[0m\n\u001b[1;32m----> 4\u001b[1;33m \u001b[1;32mprint\u001b[0m \u001b[0mresult\u001b[0m\u001b[1;33m.\u001b[0m\u001b[0mgroup\u001b[0m\u001b[1;33m(\u001b[0m\u001b[1;33m)\u001b[0m\u001b[1;33m\u001b[0m\u001b[0m\n\u001b[0m",
      "\u001b[1;31mAttributeError\u001b[0m: 'NoneType' object has no attribute 'group'"
     ]
    }
   ],
   "source": [
    "s=\"pavan kalevaru pavan star\"\n",
    "result=re.match('a',s)\n",
    "print result\n",
    "print result.group()"
   ]
  },
  {
   "cell_type": "code",
   "execution_count": 11,
   "metadata": {},
   "outputs": [
    {
     "name": "stdout",
     "output_type": "stream",
     "text": [
      "is\n"
     ]
    }
   ],
   "source": [
    "# search\n",
    "s=\"pavan kalevaru is a good boy\"\n",
    "result=re.search('is',s)# this metho seach for total string\n",
    "print result.group(0)"
   ]
  },
  {
   "cell_type": "code",
   "execution_count": 16,
   "metadata": {},
   "outputs": [
    {
     "name": "stdout",
     "output_type": "stream",
     "text": [
      "<_sre.SRE_Match object at 0x0000000004312098>\n",
      "f\n"
     ]
    }
   ],
   "source": [
    "s4=\"pavan is a failure boy\"\n",
    "res=re.search('f',s4)\n",
    "print res\n",
    "print res.group()"
   ]
  },
  {
   "cell_type": "code",
   "execution_count": 69,
   "metadata": {
    "scrolled": true
   },
   "outputs": [
    {
     "name": "stdout",
     "output_type": "stream",
     "text": [
      "pavan\n"
     ]
    }
   ],
   "source": [
    "s=\"pavan kalevaru is a good boy pavan\"\n",
    "result=re.search('pavan',s)# this metho seach for total string\n",
    "print result.group(0)"
   ]
  },
  {
   "cell_type": "code",
   "execution_count": 23,
   "metadata": {},
   "outputs": [
    {
     "name": "stdout",
     "output_type": "stream",
     "text": [
      "None\n",
      "pavan\n",
      "['a', 'a', 'a', 'a', 'a']\n"
     ]
    }
   ],
   "source": [
    "s4=\"pavan kalevaru is a good boy pavan\"\n",
    "s11=re.match(\"o\",s)\n",
    "s12=re.search(\"pavan\",s)\n",
    "s13=re.findall(\"a\",s)\n",
    "print s11\n",
    "print s12.group()\n",
    "print s13\n",
    "\n",
    "\n",
    "\n"
   ]
  },
  {
   "cell_type": "code",
   "execution_count": 21,
   "metadata": {},
   "outputs": [
    {
     "name": "stdout",
     "output_type": "stream",
     "text": [
      "['pavan']\n"
     ]
    }
   ],
   "source": [
    "#re.findall (pattern, string):\n",
    "s=\"pavan kalevaru is a good boy\"\n",
    "result=re.findall('pavan',s)# this metho seach for total string return list of accurence\n",
    "print result"
   ]
  },
  {
   "cell_type": "code",
   "execution_count": 22,
   "metadata": {},
   "outputs": [
    {
     "name": "stdout",
     "output_type": "stream",
     "text": [
      "['pavan', 'pavan', 'pavan']\n"
     ]
    }
   ],
   "source": [
    "s=\"pavan kalevaru is a good boy kalay pavan sai pavan\"\n",
    "result=re.findall('pavan',s)# this metho seach for total string return list of accurence\n",
    "print result"
   ]
  },
  {
   "cell_type": "code",
   "execution_count": 23,
   "metadata": {},
   "outputs": [
    {
     "name": "stdout",
     "output_type": "stream",
     "text": [
      "['p', 'v', 'n k', 'ly', 'n']\n"
     ]
    }
   ],
   "source": [
    "s=\"pavan kalyan\" #This methods helps to split string by the occurrences of given pattern.\n",
    "\n",
    "\n",
    "result=re.split('a',s)# It has performed all the splits that can be done by pattern \"a\"\n",
    "print result"
   ]
  },
  {
   "cell_type": "code",
   "execution_count": 27,
   "metadata": {},
   "outputs": [
    {
     "name": "stdout",
     "output_type": "stream",
     "text": [
      "pavan is lover boy\n"
     ]
    }
   ],
   "source": [
    "#It helps to search a pattern and replace with a new sub string. If the pattern is not found, string is returned unchanged.\n",
    "\n",
    "s=\"pavan is good boy\"\n",
    "result=re.sub(\"good\",\"lover\",s)\n",
    "print result"
   ]
  },
  {
   "cell_type": "code",
   "execution_count": 28,
   "metadata": {},
   "outputs": [
    {
     "name": "stdout",
     "output_type": "stream",
     "text": [
      "['AV', 'AV']\n",
      "['AV']\n"
     ]
    }
   ],
   "source": [
    "import re\n",
    "pattern=re.compile('AV')# it can user to  the patern matching.It also helps to search a pattern again without rewriting it.\n",
    "result=pattern.findall('AV Analytics Vidhya AV')\n",
    "print result\n",
    "result2=pattern.findall('AV is largest analytics community of India')\n",
    "print result2\n"
   ]
  },
  {
   "cell_type": "code",
   "execution_count": 31,
   "metadata": {},
   "outputs": [
    {
     "name": "stdout",
     "output_type": "stream",
     "text": [
      "['pavan']\n"
     ]
    }
   ],
   "source": [
    "pattern=re.compile('pavan')\n",
    "r1=pattern.findall('pavan is good boy')\n",
    "print r1"
   ]
  },
  {
   "cell_type": "code",
   "execution_count": 32,
   "metadata": {},
   "outputs": [
    {
     "name": "stdout",
     "output_type": "stream",
     "text": [
      "['pavan']\n"
     ]
    }
   ],
   "source": [
    "r2=pattern.findall('pavan is a lover boy')\n",
    "print r2"
   ]
  },
  {
   "cell_type": "code",
   "execution_count": 34,
   "metadata": {},
   "outputs": [
    {
     "name": "stdout",
     "output_type": "stream",
     "text": [
      "['A', 'V', ' ', 'i', 's', ' ', 'l', 'a', 'r', 'g', 'e', 's', 't', ' ', 'A', 'n', 'a', 'l', 'y', 't', 'i', 'c', 's', ' ', 'c', 'o', 'm', 'm', 'u', 'n', 'i', 't', 'y', ' ', 'o', 'f', ' ', 'I', 'n', 'd', 'i', 'a', ' ', '1', '2', '3', '0']\n"
     ]
    }
   ],
   "source": [
    "import re\n",
    "result=re.findall(r'.','AV is largest Analytics community of India 1230')\n",
    "print result\n"
   ]
  },
  {
   "cell_type": "code",
   "execution_count": 39,
   "metadata": {},
   "outputs": [
    {
     "name": "stdout",
     "output_type": "stream",
     "text": [
      "['A', 'V', 'i', 's', 'l', 'a', 'r', 'g', 'e', 's', 't', 'A', 'n', 'a', 'l', 'y', 't', 'i', 'c', 's', 'c', 'o', 'm', 'm', 'u', 'n', 'i', 't', 'y', 'o', 'f', 'I', 'n', 'd', 'i', 'a']\n"
     ]
    }
   ],
   "source": [
    "import re\n",
    "result=re.findall(r'\\w','AV is largest Analytics community of India')\n",
    "print result\n"
   ]
  },
  {
   "cell_type": "code",
   "execution_count": 40,
   "metadata": {},
   "outputs": [
    {
     "name": "stdout",
     "output_type": "stream",
     "text": [
      "['AV', 'is', 'largest', 'Analytics', 'community', 'of', 'India']\n"
     ]
    }
   ],
   "source": [
    "import re\n",
    "result=re.findall(r'\\w+','AV is largest Analytics community of India')\n",
    "print result\n"
   ]
  },
  {
   "cell_type": "code",
   "execution_count": 41,
   "metadata": {},
   "outputs": [
    {
     "name": "stdout",
     "output_type": "stream",
     "text": [
      "['AV', '', 'is', '', 'largest', '', 'Analytics', '', 'community', '', 'of', '', 'India', '']\n"
     ]
    }
   ],
   "source": [
    "import re\n",
    "result=re.findall(r'\\w*','AV is largest Analytics community of India')\n",
    "print result\n",
    "#^\n"
   ]
  },
  {
   "cell_type": "code",
   "execution_count": 42,
   "metadata": {},
   "outputs": [
    {
     "name": "stdout",
     "output_type": "stream",
     "text": [
      "['AV']\n"
     ]
    }
   ],
   "source": [
    "import re\n",
    "result=re.findall(r'^\\w*','AV is largest Analytics community of India')\n",
    "print result # string of string\n"
   ]
  },
  {
   "cell_type": "code",
   "execution_count": 44,
   "metadata": {},
   "outputs": [
    {
     "name": "stdout",
     "output_type": "stream",
     "text": [
      "['India']\n"
     ]
    }
   ],
   "source": [
    "import re\n",
    "result=re.findall(r'\\w+$','AV is largest Analytics community of India')\n",
    "print result # end of word\n"
   ]
  },
  {
   "cell_type": "code",
   "execution_count": 46,
   "metadata": {},
   "outputs": [
    {
     "name": "stdout",
     "output_type": "stream",
     "text": [
      "['AV is largest Analytics community of India', '']\n"
     ]
    }
   ],
   "source": [
    "import re\n",
    "result=re.findall(r'.*','AV is largest Analytics community of India')\n",
    "print result\n"
   ]
  },
  {
   "cell_type": "code",
   "execution_count": 52,
   "metadata": {},
   "outputs": [
    {
     "name": "stdout",
     "output_type": "stream",
     "text": [
      "['A', 'V', 'i', 's', 'l', 'a', 'r', 'g', 'e', 's', 't', 'A', 'n', 'a', 'l', 'y', 't', 'i', 'c', 's', 'c', 'o', 'm', 'm', 'u', 'n', 'i', 't', 'y', 'o', 'f', 'I', 'n', 'd', 'i', 'a']\n"
     ]
    }
   ],
   "source": [
    "#Problem 2: Return the first two character of each word\n",
    "import re\n",
    "result=re.findall(r'\\w','AV is largest Analytics community of India') # match only sing charter\n",
    "\n",
    "print result # end of word\n"
   ]
  },
  {
   "cell_type": "code",
   "execution_count": 54,
   "metadata": {},
   "outputs": [
    {
     "name": "stdout",
     "output_type": "stream",
     "text": [
      "['AV', 'is', 'largest', 'Analytics', 'community', 'of', 'India']\n",
      "['AV', 'is', 'la', 'rg', 'es', 'An', 'al', 'yt', 'ic', 'co', 'mm', 'un', 'it', 'of', 'In', 'di']\n"
     ]
    }
   ],
   "source": [
    "result=re.findall(r'\\w+','AV is largest Analytics community of India') # return the match of all world\n",
    "result1=re.findall(r'\\w\\w','AV is largest Analytics community of India') # first to char in each word\n",
    "\n",
    "print result \n",
    "print result1\n"
   ]
  },
  {
   "cell_type": "code",
   "execution_count": 59,
   "metadata": {},
   "outputs": [
    {
     "name": "stdout",
     "output_type": "stream",
     "text": [
      "['abc', 'test', 'gmail', 'com', 'xyz', 'test', 'in', 'test', 'first', 'analyticsvidhya', 'com', 'first', 'test', 'rest', 'biz']\n",
      "['@gmail', '@test', '@analyticsvidhya', '@rest']\n",
      "['@gmail.com', '@test.in', '@analyticsvidhya.com', '@rest.biz']\n"
     ]
    }
   ],
   "source": [
    "result=re.findall(r'\\w+','abc.test@gmail.com, xyz@test.in, test.first@analyticsvidhya.com, first.test@rest.biz') \n",
    "print result # only charterc\n",
    "result1=re.findall(r'@\\w+','abc.test@gmail.com, xyz@test.in, test.first@analyticsvidhya.com, first.test@rest.biz') \n",
    "print result1 # nly @ after \n",
    "result2=re.findall(r'@\\w+.\\w+','abc.test@gmail.com, xyz@test.in, test.first@analyticsvidhya.com, first.test@rest.biz') \n",
    "print result2 \n",
    "\n"
   ]
  },
  {
   "cell_type": "code",
   "execution_count": 61,
   "metadata": {},
   "outputs": [
    {
     "name": "stdout",
     "output_type": "stream",
     "text": [
      "['1', '0', '2', '1', '0', '2', '1', '0', '2', '1', '0', '3']\n"
     ]
    }
   ],
   "source": [
    "result=re.findall(r'[0-9]','abc.test@gmail.com102, xyz@test.in102, test.first@analyticsvidhya.com102, first.test@rest.biz103') \n",
    "print result \n"
   ]
  },
  {
   "cell_type": "code",
   "execution_count": 66,
   "metadata": {},
   "outputs": [
    {
     "name": "stdout",
     "output_type": "stream",
     "text": [
      "['102', '102', '102', '103']\n"
     ]
    }
   ],
   "source": [
    "result=re.findall(r'[0-9]+','abc.test@gmail.com102, xyz@test.in102, test.first@analyticsvidhya.com102, first.test@rest.biz103') \n",
    "print result \n"
   ]
  },
  {
   "cell_type": "code",
   "execution_count": 64,
   "metadata": {},
   "outputs": [
    {
     "name": "stdout",
     "output_type": "stream",
     "text": [
      "['abc', 'test', 'gmail', 'com', 'xyz', 'test', 'in', 'test', 'first', 'analyticsvidhya', 'com', 'first', 'test', 'rest', 'biz']\n"
     ]
    }
   ],
   "source": [
    "result=re.findall(r'[a-z]+','abc.test@gmail.com102, xyz@test.in102, test.first@analyticsvidhya.com102, first.test@rest.biz103') \n",
    "print result \n"
   ]
  },
  {
   "cell_type": "code",
   "execution_count": 68,
   "metadata": {},
   "outputs": [
    {
     "name": "stdout",
     "output_type": "stream",
     "text": [
      "['m102', 'n102', 'm102', 'z103']\n"
     ]
    }
   ],
   "source": [
    "result=re.findall(r'[a-z][0-9]+','abc.test@gmail.com102, xyz@test.in102, test.first@analyticsvidhya.com102, first.test@rest.biz103') \n",
    "print result "
   ]
  },
  {
   "cell_type": "code",
   "execution_count": 2,
   "metadata": {},
   "outputs": [
    {
     "data": {
      "text/plain": [
       "10"
      ]
     },
     "execution_count": 2,
     "metadata": {},
     "output_type": "execute_result"
    }
   ],
   "source": [
    "d={\"pavan\":[10,20,30]}\n",
    "d['pavan'][0]"
   ]
  },
  {
   "cell_type": "code",
   "execution_count": 4,
   "metadata": {},
   "outputs": [
    {
     "name": "stdout",
     "output_type": "stream",
     "text": [
      "[0, 1, 1, 2, 3, 5, 8, 13, 21, 34, 55, 89]\n"
     ]
    }
   ],
   "source": [
    "p=[0,1]\n",
    "for i in range(0,10):\n",
    "    p.append(p[i-0]+p[i+1])\n",
    "print p"
   ]
  },
  {
   "cell_type": "code",
   "execution_count": 6,
   "metadata": {},
   "outputs": [
    {
     "name": "stdout",
     "output_type": "stream",
     "text": [
      "this is fun function\n",
      "prro\n"
     ]
    }
   ],
   "source": [
    "def fun(fun1):\n",
    "    def fun2():\n",
    "        print \"this is fun function\"\n",
    "        fun1()\n",
    "    return fun2\n",
    "@fun\n",
    "def fun3():\n",
    "    print \"prro\"\n",
    "fun3()\n",
    "    \n",
    "    "
   ]
  },
  {
   "cell_type": "code",
   "execution_count": 20,
   "metadata": {},
   "outputs": [
    {
     "data": {
      "text/plain": [
       "('name', 10)"
      ]
     },
     "execution_count": 20,
     "metadata": {},
     "output_type": "execute_result"
    }
   ],
   "source": [
    "class Student(object):\n",
    "    c=0\n",
    "    def __new__(cls,name,age):\n",
    "        if cls.c==0:\n",
    "            obj=object.__new__(cls)\n",
    "            cls.c=cls.c+1\n",
    "            return obj\n",
    "        else:\n",
    "            print \"it allow only one insistance\"\n",
    "    def __init__(self,name,age):\n",
    "        self.name=name\n",
    "        self.age=age\n",
    "    def display(self):\n",
    "        return self.name,self.age\n",
    "s=Student(\"name\",10)\n",
    "s.display()\n"
   ]
  },
  {
   "cell_type": "code",
   "execution_count": null,
   "metadata": {},
   "outputs": [],
   "source": []
  }
 ],
 "metadata": {
  "kernelspec": {
   "display_name": "Python 2",
   "language": "python",
   "name": "python2"
  },
  "language_info": {
   "codemirror_mode": {
    "name": "ipython",
    "version": 2
   },
   "file_extension": ".py",
   "mimetype": "text/x-python",
   "name": "python",
   "nbconvert_exporter": "python",
   "pygments_lexer": "ipython2",
   "version": "2.7.15"
  }
 },
 "nbformat": 4,
 "nbformat_minor": 2
}
