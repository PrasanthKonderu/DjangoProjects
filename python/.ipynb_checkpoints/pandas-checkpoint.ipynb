{
 "cells": [
  {
   "cell_type": "code",
   "execution_count": 1,
   "metadata": {},
   "outputs": [],
   "source": [
    "import pandas as pd\n",
    "import "
   ]
  },
  {
   "cell_type": "code",
   "execution_count": 1,
   "metadata": {},
   "outputs": [],
   "source": [
    "import pandas as pd\n",
    "\n"
   ]
  },
  {
   "cell_type": "code",
   "execution_count": 10,
   "metadata": {},
   "outputs": [],
   "source": [
    "p_info=[{\"id\":1,\"name\":\"pavan\",\"sal\":60000},\n",
    "        {\"id\":2,\"name\":\"pavan1\",\"sal\":80000},\n",
    "        {\"id\":3,\"name\":\"pavan2\",\"sal\":50000},\n",
    "        {\"id\":9,\"name\":\"pavan7,\",\"sal\":10000},\n",
    "        {\"id\":10,\"name\":\"pavan8,\",\"sal\":110000}]\n",
    "        # how to find max\n",
    "        # min"
   ]
  },
  {
   "cell_type": "code",
   "execution_count": 11,
   "metadata": {},
   "outputs": [
    {
     "data": {
      "text/plain": [
       "[{'id': 1, 'name': 'pavan', 'sal': 60000},\n",
       " {'id': 2, 'name': 'pavan1', 'sal': 80000},\n",
       " {'id': 3, 'name': 'pavan2', 'sal': 50000},\n",
       " {'id': 9, 'name': 'pavan7,', 'sal': 10000},\n",
       " {'id': 10, 'name': 'pavan8,', 'sal': 110000}]"
      ]
     },
     "execution_count": 11,
     "metadata": {},
     "output_type": "execute_result"
    }
   ],
   "source": [
    "p_info"
   ]
  },
  {
   "cell_type": "code",
   "execution_count": 14,
   "metadata": {},
   "outputs": [],
   "source": [
    "pf=pd.DataFrame(p_info)"
   ]
  },
  {
   "cell_type": "code",
   "execution_count": 15,
   "metadata": {},
   "outputs": [
    {
     "name": "stdout",
     "output_type": "stream",
     "text": [
      "   id     name     sal\n",
      "0   1    pavan   60000\n",
      "1   2   pavan1   80000\n",
      "2   3   pavan2   50000\n",
      "3   9  pavan7,   10000\n",
      "4  10  pavan8,  110000\n"
     ]
    }
   ],
   "source": [
    "print pf"
   ]
  },
  {
   "cell_type": "code",
   "execution_count": 17,
   "metadata": {},
   "outputs": [],
   "source": [
    "pf.to_csv(\"p_info.csv\") # create csv file \n"
   ]
  },
  {
   "cell_type": "code",
   "execution_count": null,
   "metadata": {},
   "outputs": [],
   "source": []
  }
 ],
 "metadata": {
  "kernelspec": {
   "display_name": "Python 2",
   "language": "python",
   "name": "python2"
  },
  "language_info": {
   "codemirror_mode": {
    "name": "ipython",
    "version": 2
   },
   "file_extension": ".py",
   "mimetype": "text/x-python",
   "name": "python",
   "nbconvert_exporter": "python",
   "pygments_lexer": "ipython2",
   "version": "2.7.15"
  }
 },
 "nbformat": 4,
 "nbformat_minor": 2
}
