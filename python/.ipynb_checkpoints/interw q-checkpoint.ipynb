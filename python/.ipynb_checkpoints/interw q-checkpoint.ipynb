{
 "cells": [
  {
   "cell_type": "code",
   "execution_count": 7,
   "metadata": {},
   "outputs": [
    {
     "name": "stdout",
     "output_type": "stream",
     "text": [
      "enter string:pavan kalevaru\n",
      "14\n",
      "2\n"
     ]
    }
   ],
   "source": [
    "# number word,words\n",
    "s=raw_input(\"enter string:\")\n",
    "char=0\n",
    "word=1\n",
    "for i in s:\n",
    "    char=char+1\n",
    "    if i==' ':\n",
    "        word=word+1\n",
    "print char\n",
    "print word"
   ]
  },
  {
   "cell_type": "code",
   "execution_count": 8,
   "metadata": {},
   "outputs": [],
   "source": [
    "import random\n",
    "names=[\"pavan,yash,prashanth,nani\"]\n",
    "data=random.choice(names)\n",
    "f=open(\"text3.txt\",\"w\")\n",
    "data1=f.write(data)\n",
    "f.close()\n"
   ]
  },
  {
   "cell_type": "code",
   "execution_count": 1,
   "metadata": {},
   "outputs": [],
   "source": [
    "f=open('p.txt','w')\n",
    "f.write('pavan kalevaru')\n",
    "f.close()"
   ]
  },
  {
   "cell_type": "code",
   "execution_count": 7,
   "metadata": {},
   "outputs": [
    {
     "name": "stdout",
     "output_type": "stream",
     "text": [
      "14\n",
      "2\n",
      "1\n"
     ]
    }
   ],
   "source": [
    "f=open('p.txt','r')\n",
    "d=f.read()\n",
    "print len(d)\n",
    "print len(d.split())\n",
    "print len(d.splitlines())\n"
   ]
  },
  {
   "cell_type": "code",
   "execution_count": 9,
   "metadata": {},
   "outputs": [
    {
     "name": "stdout",
     "output_type": "stream",
     "text": [
      "pavan,yash,prashanth,nani\n"
     ]
    }
   ],
   "source": [
    "f=open(\"text3.txt\")\n",
    "data2=f.read()\n",
    "print data2"
   ]
  },
  {
   "cell_type": "code",
   "execution_count": 10,
   "metadata": {},
   "outputs": [
    {
     "name": "stdout",
     "output_type": "stream",
     "text": [
      "25\n",
      "1\n",
      "1\n"
     ]
    }
   ],
   "source": [
    "f=open(\"text3.txt\")\n",
    "numberchar=len(data2)\n",
    "numberword=len(data2.split())\n",
    "numberlines=len(data2.splitlines())\n",
    "print numberchar\n",
    "print numberword\n",
    "print numberlines"
   ]
  },
  {
   "cell_type": "code",
   "execution_count": 3,
   "metadata": {},
   "outputs": [
    {
     "name": "stdout",
     "output_type": "stream",
     "text": [
      "Number of Lines,Words,Chars in the given file respectively are 1 1 25\n"
     ]
    }
   ],
   "source": [
    "chars=0\n",
    "words=0\n",
    "lines=0\n",
    "f=open('text3.txt','r')\n",
    "for i in f:\n",
    "    lines=lines+1\n",
    "    words=len(i.split())+words\n",
    "    chars=len(i)+chars\n",
    "print \"Number of Lines,Words,Chars in the given file respectively are\",lines,words,chars\n"
   ]
  },
  {
   "cell_type": "code",
   "execution_count": 12,
   "metadata": {},
   "outputs": [
    {
     "name": "stdout",
     "output_type": "stream",
     "text": [
      "pavan,yash,prashanth,nani\n",
      "['pavan,yash,prashanth,nani']\n",
      "[\"pavan,yash,prashanth,nani\"]\n",
      "[u'pavan,yash,prashanth,nani']\n"
     ]
    }
   ],
   "source": [
    "#json to txt\n",
    "import json\n",
    "f=open(\"text3.txt\")\n",
    "data3=f.readlines()\n",
    "print data2\n",
    "print data3\n",
    "d_son=json.dumps(data3)\n",
    "d_son1=json.loads(d_son)\n",
    "print d_son\n",
    "print d_son1\n",
    "f.close()\n"
   ]
  },
  {
   "cell_type": "code",
   "execution_count": 13,
   "metadata": {},
   "outputs": [
    {
     "name": "stdout",
     "output_type": "stream",
     "text": [
      "data ['pavan,yash,prashanth,nani']\n",
      "JSON: [\"pavan,yash,prashanth,nani\"]\n",
      "[u'pavan,yash,prashanth,nani']\n"
     ]
    }
   ],
   "source": [
    "import json\n",
    "f=open(\"text3.txt\",'r')\n",
    "data1=f.readlines()\n",
    "print 'data',data1\n",
    "data_string = json.dumps(data1)\n",
    "json_loads=json.loads(data_string)\n",
    "print 'JSON:', data_string\n",
    "print json_loads\n",
    "f.close()\n"
   ]
  },
  {
   "cell_type": "code",
   "execution_count": 1,
   "metadata": {},
   "outputs": [
    {
     "ename": "NameError",
     "evalue": "name 'database' is not defined",
     "output_type": "error",
     "traceback": [
      "\u001b[1;31m---------------------------------------------------------------------------\u001b[0m",
      "\u001b[1;31mNameError\u001b[0m                                 Traceback (most recent call last)",
      "\u001b[1;32m<ipython-input-1-2508920a6caf>\u001b[0m in \u001b[0;36m<module>\u001b[1;34m()\u001b[0m\n\u001b[0;32m     16\u001b[0m         \u001b[0mcur\u001b[0m\u001b[1;33m.\u001b[0m\u001b[0mexecute\u001b[0m\u001b[1;33m(\u001b[0m\u001b[1;34m\"delete from emp where id=?\"\u001b[0m\u001b[1;33m,\u001b[0m\u001b[1;33m(\u001b[0m\u001b[0muserid\u001b[0m\u001b[1;33m)\u001b[0m\u001b[1;33m)\u001b[0m\u001b[1;33m\u001b[0m\u001b[0m\n\u001b[0;32m     17\u001b[0m         \u001b[0mcon\u001b[0m\u001b[1;33m.\u001b[0m\u001b[0mcommit\u001b[0m\u001b[1;33m(\u001b[0m\u001b[1;33m)\u001b[0m\u001b[1;33m\u001b[0m\u001b[0m\n\u001b[1;32m---> 18\u001b[1;33m \u001b[0md\u001b[0m\u001b[1;33m=\u001b[0m\u001b[0mdatabase\u001b[0m\u001b[1;33m(\u001b[0m\u001b[1;33m)\u001b[0m\u001b[1;33m\u001b[0m\u001b[0m\n\u001b[0m\u001b[0;32m     19\u001b[0m \u001b[0mcon\u001b[0m\u001b[1;33m,\u001b[0m\u001b[0mcur\u001b[0m\u001b[1;33m=\u001b[0m\u001b[0mconnect\u001b[0m\u001b[1;33m(\u001b[0m\u001b[1;33m)\u001b[0m\u001b[1;33m\u001b[0m\u001b[0m\n\u001b[0;32m     20\u001b[0m \u001b[0md\u001b[0m\u001b[1;33m.\u001b[0m\u001b[0mconnection\u001b[0m\u001b[1;33m(\u001b[0m\u001b[0mcur\u001b[0m\u001b[1;33m)\u001b[0m\u001b[1;33m\u001b[0m\u001b[0m\n",
      "\u001b[1;31mNameError\u001b[0m: name 'database' is not defined"
     ]
    }
   ],
   "source": [
    "#oops concepts\n",
    "import sqlite3\n",
    "class databse:\n",
    "    def connection(self):\n",
    "        con=sqlite3.connect(\"text.db\")\n",
    "        cur=con.cursor()\n",
    "        return con.cur\n",
    "    def create(self,cur):\n",
    "        cur.execute(\"create table emp(USERID INT, NAME TEXT, PASSWD VARCHAR(50))\")\n",
    "        print \"create table sucessfully\"\n",
    "    def insert(self,userid,name,passwd,cur,con):\n",
    "        a=[userid,name,passwd]\n",
    "        cur.execute(\"insert into emp(?,?,?)\",a)\n",
    "        print \"sucesfully insert\"\n",
    "    def delete(self,userid,name,passwd,con,cur):\n",
    "        cur.execute(\"delete from emp where id=?\",(userid))\n",
    "        con.commit()\n",
    "d=database()\n",
    "con,cur=connect()\n",
    "d.connection(cur)\n",
    "    \n"
   ]
  },
  {
   "cell_type": "code",
   "execution_count": 2,
   "metadata": {},
   "outputs": [
    {
     "name": "stdout",
     "output_type": "stream",
     "text": [
      "create database\n",
      "create table\n",
      "insert in suu\n"
     ]
    }
   ],
   "source": [
    "import sqlite3\n",
    "import random\n",
    "con=sqlite3.connect(\"d1.db\")\n",
    "cur=con.cursor()\n",
    "print \"create database\"\n",
    "cur.execute(\"create table pavan(id int,name varchar)\")\n",
    "print \"create table\"\n",
    "name=[\"pavan\",\"yash\",\"pavani\"]\n",
    "for i in range(5):\n",
    "    cur.execute(\"insert into pavan values('%s','%s')\"%(id,random.choice(name)))\n",
    "con.commit()\n",
    "print \"insert in suu\"\n",
    "con.close()"
   ]
  },
  {
   "cell_type": "code",
   "execution_count": null,
   "metadata": {},
   "outputs": [],
   "source": [
    "import sqlite3\n",
    "class database:\n",
    "\tdef create_db(self):\n",
    "\t\tcon=sqlite3.connect(\"d7.db\")\n",
    "\t\tcur=con.cursor()\n",
    "\t\tcur.execute(\"create table database(id int ,name varchar)\")\n",
    "\t\tprint \"create table sucessfully\"\n",
    "\t\tcon.close()\n",
    "\tdef create_table(self):\n",
    "\t\tcon=sqlite3.connect(\"d7.db\")\n",
    "\t\tcur=con.cursor()\n",
    "\t\tcur.execute(\"insert into database values(1,'pavan')\")\n",
    "\t\tcur.execute(\"insert into database values(1,'pavani')\")\n",
    "\t\tcon.commit()\n",
    "\t\tprint \"insert sucessfully\"\n",
    "\t\tcon.execute(\"select  id,name from database\")\n",
    "\t\tfor i in cur:\n",
    "\t\t\tprint \"id=\",i[0]\n",
    "\t\t\tprint \"id=\",i[1],\"/n\"\n",
    "\n",
    "\t\tcon.close()\n",
    "\tdef update(self):\n",
    "\t\tcon=sqlite3.connect(\"d7.db\")\n",
    "\t\tcur=con.cursor()\n",
    "\t\tcur.execute(\"update database set name='yash' where id=1\")\n",
    "\t\tcon.commit()\n",
    "\t\tcon.execute(\"select  id,name from database\")\n",
    "\t\tfor i in cur:\n",
    "\t\t\tprint \"id=\",i[0]\n",
    "\t\t\tprint \"id=\",i[1],\"/n\"\n",
    "\n",
    "\n",
    "\t\tcon.close()\n",
    "\n",
    "\n",
    "    "
   ]
  },
  {
   "cell_type": "code",
   "execution_count": null,
   "metadata": {},
   "outputs": [],
   "source": [
    "import databaseop\n",
    "d=databaseop.database()\n",
    "d.create_db()\n",
    "d.create_table()\n",
    "d.update()"
   ]
  },
  {
   "cell_type": "code",
   "execution_count": 10,
   "metadata": {},
   "outputs": [
    {
     "name": "stdout",
     "output_type": "stream",
     "text": [
      "navap\n"
     ]
    }
   ],
   "source": [
    "def reverse(str):\n",
    "    rs=\"\"\n",
    "    for i in str:\n",
    "        rs=i+rs\n",
    "    print rs\n",
    "        \n",
    "str=\"pavan\"\n",
    "reverse(str)"
   ]
  },
  {
   "cell_type": "code",
   "execution_count": 16,
   "metadata": {},
   "outputs": [
    {
     "name": "stdout",
     "output_type": "stream",
     "text": [
      "enter the given number is:4\n",
      "not prime number\n"
     ]
    }
   ],
   "source": [
    "n=int(raw_input(\"enter the given number is:\"))\n",
    "if n>1:\n",
    "    for i in range(2,n):\n",
    "        if n%i==0:\n",
    "            print \"not prime number\"\n",
    "            break\n",
    "    else:\n",
    "        print \"yes\"\n",
    "else:\n",
    "    print \"no\""
   ]
  },
  {
   "cell_type": "code",
   "execution_count": 4,
   "metadata": {},
   "outputs": [],
   "source": [
    "for n in range(0,50):\n",
    "    for i in range(2,50):\n",
    "        if n%1==0:\n",
    "            break;\n",
    "    else:\n",
    "        print n"
   ]
  },
  {
   "cell_type": "code",
   "execution_count": 2,
   "metadata": {},
   "outputs": [],
   "source": [
    "l=1\n",
    "u=10\n",
    "for n ra"
   ]
  },
  {
   "cell_type": "code",
   "execution_count": 9,
   "metadata": {},
   "outputs": [
    {
     "name": "stdout",
     "output_type": "stream",
     "text": [
      "enter the given number is:1\n",
      "enter the given number is:3\n",
      "2\n",
      "3\n"
     ]
    }
   ],
   "source": [
    "l=int(raw_input(\"enter the given number is:\"))\n",
    "v=int(raw_input(\"enter the given number is:\"))\n",
    "for n in range(l,v+1):\n",
    "    if n>1:\n",
    "        for i in range(2,n):\n",
    "            if n%i==0:\n",
    "                break\n",
    "        else:\n",
    "            print n \n",
    "    \n",
    "\n",
    "\n"
   ]
  },
  {
   "cell_type": "code",
   "execution_count": 12,
   "metadata": {},
   "outputs": [
    {
     "name": "stdout",
     "output_type": "stream",
     "text": [
      "enter the given number is:10\n",
      "1\n",
      "2\n",
      "5\n",
      "10\n"
     ]
    }
   ],
   "source": [
    "n=int(raw_input(\"enter the given number is:\"))\n",
    "for i in range(1,n+1):\n",
    "    if n%i==0:\n",
    "        print i\n",
    "    \n"
   ]
  },
  {
   "cell_type": "code",
   "execution_count": null,
   "metadata": {},
   "outputs": [],
   "source": [
    "m_str=raw_input(\"enter the main string\")\n",
    "s_str=raw_input(\"enter the main string is \")\n",
    "n=input(\"'enter the number of occurence u want to fond:\")\n",
    "def fun(m_str,s_str,n):\n",
    "    oc=m_str.find(s_str)\n",
    "    while oc>=0 and n>1:\n",
    "        oc=m_str.find(s_str,oc+1)\n",
    "        n-=1\n",
    "    return oc\n",
    "index=fun(m_str,s_str,n)\n",
    "print index"
   ]
  },
  {
   "cell_type": "code",
   "execution_count": 4,
   "metadata": {},
   "outputs": [
    {
     "ename": "RuntimeError",
     "evalue": "maximum recursion depth exceeded while calling a Python object",
     "output_type": "error",
     "traceback": [
      "\u001b[1;31m---------------------------------------------------------------------------\u001b[0m",
      "\u001b[1;31mRuntimeError\u001b[0m                              Traceback (most recent call last)",
      "\u001b[1;32m<ipython-input-4-5f89c918d402>\u001b[0m in \u001b[0;36m<module>\u001b[1;34m()\u001b[0m\n\u001b[0;32m      8\u001b[0m             \u001b[0ml2\u001b[0m\u001b[1;33m.\u001b[0m\u001b[0mappend\u001b[0m\u001b[1;33m(\u001b[0m\u001b[0mi\u001b[0m\u001b[1;33m)\u001b[0m\u001b[1;33m\u001b[0m\u001b[0m\n\u001b[0;32m      9\u001b[0m     \u001b[1;32mreturn\u001b[0m \u001b[0ml2\u001b[0m\u001b[1;33m\u001b[0m\u001b[0m\n\u001b[1;32m---> 10\u001b[1;33m \u001b[1;32mprint\u001b[0m \u001b[0msingle\u001b[0m\u001b[1;33m(\u001b[0m\u001b[0ml\u001b[0m\u001b[1;33m)\u001b[0m\u001b[1;33m\u001b[0m\u001b[0m\n\u001b[0m",
      "\u001b[1;32m<ipython-input-4-5f89c918d402>\u001b[0m in \u001b[0;36msingle\u001b[1;34m(l)\u001b[0m\n\u001b[0;32m      4\u001b[0m     \u001b[1;32mfor\u001b[0m \u001b[0mi\u001b[0m \u001b[1;32min\u001b[0m \u001b[0ml\u001b[0m\u001b[1;33m:\u001b[0m\u001b[1;33m\u001b[0m\u001b[0m\n\u001b[0;32m      5\u001b[0m         \u001b[1;32mif\u001b[0m \u001b[0mtype\u001b[0m\u001b[1;33m(\u001b[0m\u001b[0mi\u001b[0m\u001b[1;33m)\u001b[0m\u001b[1;33m==\u001b[0m\u001b[0mlist\u001b[0m\u001b[1;33m:\u001b[0m\u001b[1;33m\u001b[0m\u001b[0m\n\u001b[1;32m----> 6\u001b[1;33m             \u001b[0msingle\u001b[0m\u001b[1;33m(\u001b[0m\u001b[0ml\u001b[0m\u001b[1;33m)\u001b[0m\u001b[1;33m\u001b[0m\u001b[0m\n\u001b[0m\u001b[0;32m      7\u001b[0m         \u001b[1;32melse\u001b[0m\u001b[1;33m:\u001b[0m\u001b[1;33m\u001b[0m\u001b[0m\n\u001b[0;32m      8\u001b[0m             \u001b[0ml2\u001b[0m\u001b[1;33m.\u001b[0m\u001b[0mappend\u001b[0m\u001b[1;33m(\u001b[0m\u001b[0mi\u001b[0m\u001b[1;33m)\u001b[0m\u001b[1;33m\u001b[0m\u001b[0m\n",
      "... last 1 frames repeated, from the frame below ...\n",
      "\u001b[1;32m<ipython-input-4-5f89c918d402>\u001b[0m in \u001b[0;36msingle\u001b[1;34m(l)\u001b[0m\n\u001b[0;32m      4\u001b[0m     \u001b[1;32mfor\u001b[0m \u001b[0mi\u001b[0m \u001b[1;32min\u001b[0m \u001b[0ml\u001b[0m\u001b[1;33m:\u001b[0m\u001b[1;33m\u001b[0m\u001b[0m\n\u001b[0;32m      5\u001b[0m         \u001b[1;32mif\u001b[0m \u001b[0mtype\u001b[0m\u001b[1;33m(\u001b[0m\u001b[0mi\u001b[0m\u001b[1;33m)\u001b[0m\u001b[1;33m==\u001b[0m\u001b[0mlist\u001b[0m\u001b[1;33m:\u001b[0m\u001b[1;33m\u001b[0m\u001b[0m\n\u001b[1;32m----> 6\u001b[1;33m             \u001b[0msingle\u001b[0m\u001b[1;33m(\u001b[0m\u001b[0ml\u001b[0m\u001b[1;33m)\u001b[0m\u001b[1;33m\u001b[0m\u001b[0m\n\u001b[0m\u001b[0;32m      7\u001b[0m         \u001b[1;32melse\u001b[0m\u001b[1;33m:\u001b[0m\u001b[1;33m\u001b[0m\u001b[0m\n\u001b[0;32m      8\u001b[0m             \u001b[0ml2\u001b[0m\u001b[1;33m.\u001b[0m\u001b[0mappend\u001b[0m\u001b[1;33m(\u001b[0m\u001b[0mi\u001b[0m\u001b[1;33m)\u001b[0m\u001b[1;33m\u001b[0m\u001b[0m\n",
      "\u001b[1;31mRuntimeError\u001b[0m: maximum recursion depth exceeded while calling a Python object"
     ]
    }
   ],
   "source": [
    "l=[10,20,[40,50]]\n",
    "l1=[]\n",
    "def single(l):\n",
    "    for i in l:\n",
    "        if type(i)==list:\n",
    "            single(l)\n",
    "        else:\n",
    "            l2.append(i)\n",
    "    return l2\n",
    "print single(l)\n"
   ]
  },
  {
   "cell_type": "code",
   "execution_count": 1,
   "metadata": {},
   "outputs": [
    {
     "name": "stdout",
     "output_type": "stream",
     "text": [
      "[10, 20, 30, 40, 50, 60, 70, 80, 90, 20]\n"
     ]
    }
   ],
   "source": [
    "l=[10,20,30,[40,50,60],70,[80,90,20]]\n",
    "l2=[]\n",
    "def sing(l):\n",
    "    for i in l:\n",
    "        if type(i)==list:\n",
    "            sing(i)\n",
    "        else:\n",
    "            l2.append(i)\n",
    "    return l2\n",
    "print sing(l)\n",
    "\n",
    "            \n",
    "            \n"
   ]
  },
  {
   "cell_type": "code",
   "execution_count": 5,
   "metadata": {},
   "outputs": [
    {
     "name": "stdout",
     "output_type": "stream",
     "text": [
      "{'a': 2, 'p': 1, 'n': 1, 'v': 1}\n"
     ]
    }
   ],
   "source": [
    "s=\"pavan\"\n",
    "d={}\n",
    "for i in s:\n",
    "    d[i]=s.count(i)\n",
    "print d\n",
    "   "
   ]
  },
  {
   "cell_type": "code",
   "execution_count": 9,
   "metadata": {},
   "outputs": [
    {
     "name": "stdout",
     "output_type": "stream",
     "text": [
      "enter stringA\n",
      "2\n"
     ]
    }
   ],
   "source": [
    "l=['a','b','c','A','B']\n",
    "s=raw_input(\"enter string\")\n",
    "count=0\n",
    "for i in l:\n",
    "    if i.lower()==s.lower():\n",
    "        count=count+1\n",
    "if count>=1:\n",
    "    print count\n",
    "else:\n",
    "    print \"lckn\"\n",
    "    \n",
    "    "
   ]
  },
  {
   "cell_type": "code",
   "execution_count": 14,
   "metadata": {},
   "outputs": [
    {
     "name": "stdout",
     "output_type": "stream",
     "text": [
      "number is7\n",
      "no\n"
     ]
    }
   ],
   "source": [
    "n=int(raw_input(\"number is\"))\n",
    "rs=0\n",
    "for i in range(1,n):\n",
    "    if n%i==0:\n",
    "        rs=rs+i\n",
    "if rs==n:\n",
    "    print \"number is perfect\",n\n",
    "else:\n",
    "    print \"no\""
   ]
  },
  {
   "cell_type": "code",
   "execution_count": 19,
   "metadata": {},
   "outputs": [
    {
     "name": "stdout",
     "output_type": "stream",
     "text": [
      "lower number is1\n",
      " upper number is10\n",
      "1\n"
     ]
    }
   ],
   "source": [
    "l=int(raw_input(\"lower number is\"))\n",
    "u=int(raw_input(\" upper number is\"))\n",
    "for n in range(l,u+1):\n",
    "    for i in range(1,n):\n",
    "        if n%i==0:\n",
    "            break\n",
    "    else:\n",
    "\n",
    "        print n\n"
   ]
  },
  {
   "cell_type": "code",
   "execution_count": 35,
   "metadata": {},
   "outputs": [
    {
     "name": "stdout",
     "output_type": "stream",
     "text": [
      "pavan kalevar\n",
      "  is god boy\n",
      "5\n",
      "2\n",
      "26\n"
     ]
    }
   ],
   "source": [
    "a=\"pavan kalevar\\n  is god boy\"\n",
    "print a\n",
    "\n",
    "ch=0\n",
    "w=0\n",
    "for i in a:\n",
    "    ch=ch+1\n",
    "    if i==\" \":\n",
    "        w=w+1\n",
    "print w\n",
    "l=len( a.splitlines())\n",
    "print l\n",
    "print ch\n"
   ]
  },
  {
   "cell_type": "code",
   "execution_count": 36,
   "metadata": {},
   "outputs": [
    {
     "data": {
      "text/plain": [
       "{'mohan': 80, 'purnesh': 40, 'satish': 90, 'venkat': 30}"
      ]
     },
     "execution_count": 36,
     "metadata": {},
     "output_type": "execute_result"
    }
   ],
   "source": [
    "marks = [(\"mohan\", 80), (\"satish\", 90), (\"purnesh\", 40), (\"venkat\", 30)]\n",
    "dict(marks)"
   ]
  },
  {
   "cell_type": "code",
   "execution_count": 41,
   "metadata": {},
   "outputs": [
    {
     "ename": "TypeError",
     "evalue": "descriptor 'values' of 'dict' object needs an argument",
     "output_type": "error",
     "traceback": [
      "\u001b[1;31m---------------------------------------------------------------------------\u001b[0m",
      "\u001b[1;31mTypeError\u001b[0m                                 Traceback (most recent call last)",
      "\u001b[1;32m<ipython-input-41-3528f50e5d84>\u001b[0m in \u001b[0;36m<module>\u001b[1;34m()\u001b[0m\n\u001b[1;32m----> 1\u001b[1;33m \u001b[0mdict\u001b[0m\u001b[1;33m.\u001b[0m\u001b[0mvalues\u001b[0m\u001b[1;33m(\u001b[0m\u001b[1;33m)\u001b[0m\u001b[1;33m\u001b[0m\u001b[0m\n\u001b[0m",
      "\u001b[1;31mTypeError\u001b[0m: descriptor 'values' of 'dict' object needs an argument"
     ]
    }
   ],
   "source": [
    "dict.values()\n"
   ]
  },
  {
   "cell_type": "code",
   "execution_count": 45,
   "metadata": {},
   "outputs": [
    {
     "ename": "TypeError",
     "evalue": "descriptor 'keys' of 'dict' object needs an argument",
     "output_type": "error",
     "traceback": [
      "\u001b[1;31m---------------------------------------------------------------------------\u001b[0m",
      "\u001b[1;31mTypeError\u001b[0m                                 Traceback (most recent call last)",
      "\u001b[1;32m<ipython-input-45-9eb3220f73be>\u001b[0m in \u001b[0;36m<module>\u001b[1;34m()\u001b[0m\n\u001b[1;32m----> 1\u001b[1;33m \u001b[0mdict\u001b[0m\u001b[1;33m.\u001b[0m\u001b[0mkeys\u001b[0m\u001b[1;33m(\u001b[0m\u001b[1;33m)\u001b[0m\u001b[1;33m\u001b[0m\u001b[0m\n\u001b[0m",
      "\u001b[1;31mTypeError\u001b[0m: descriptor 'keys' of 'dict' object needs an argument"
     ]
    }
   ],
   "source": []
  },
  {
   "cell_type": "code",
   "execution_count": 46,
   "metadata": {},
   "outputs": [
    {
     "ename": "TypeError",
     "evalue": "descriptor 'keys' of 'dict' object needs an argument",
     "output_type": "error",
     "traceback": [
      "\u001b[1;31m---------------------------------------------------------------------------\u001b[0m",
      "\u001b[1;31mTypeError\u001b[0m                                 Traceback (most recent call last)",
      "\u001b[1;32m<ipython-input-46-edecb219d4d6>\u001b[0m in \u001b[0;36m<module>\u001b[1;34m()\u001b[0m\n\u001b[1;32m----> 1\u001b[1;33m \u001b[1;32mprint\u001b[0m \u001b[0mdict\u001b[0m\u001b[1;33m.\u001b[0m\u001b[0mkeys\u001b[0m\u001b[1;33m(\u001b[0m\u001b[1;33m)\u001b[0m\u001b[1;33m\u001b[0m\u001b[0m\n\u001b[0m",
      "\u001b[1;31mTypeError\u001b[0m: descriptor 'keys' of 'dict' object needs an argument"
     ]
    }
   ],
   "source": [
    "print dict.keys()"
   ]
  },
  {
   "cell_type": "code",
   "execution_count": 51,
   "metadata": {},
   "outputs": [
    {
     "name": "stdout",
     "output_type": "stream",
     "text": [
      "no\n"
     ]
    }
   ],
   "source": [
    "number=151\n",
    "sum=0\n",
    "tem=number \n",
    "n=len(str(number))\n",
    "while tem>0:\n",
    "    d=tem%10\n",
    "    sum=sum+d**n\n",
    "    tem//=10\n",
    "if sum==number:\n",
    "    print \"yes\"\n",
    "else:\n",
    "    print \"no\"\n"
   ]
  },
  {
   "cell_type": "code",
   "execution_count": 52,
   "metadata": {},
   "outputs": [
    {
     "name": "stdout",
     "output_type": "stream",
     "text": [
      "True\n"
     ]
    }
   ],
   "source": [
    "def fun(str1,str2):\n",
    "    list1=list(str1)\n",
    "    list2=list(str2)\n",
    "    list2.sort()\n",
    "    list1.sort()\n",
    "    return (list1==list2)\n",
    "print fun(\"pavan\",\"navap\")\n"
   ]
  },
  {
   "cell_type": "code",
   "execution_count": 53,
   "metadata": {},
   "outputs": [
    {
     "name": "stdout",
     "output_type": "stream",
     "text": [
      "yse\n"
     ]
    }
   ],
   "source": [
    "s=\"abcba\"\n",
    "s=s.lower()\n",
    "rs=reversed(s)\n",
    "if list(s)==list(rs):\n",
    "    print \"yse\""
   ]
  },
  {
   "cell_type": "code",
   "execution_count": 63,
   "metadata": {},
   "outputs": [
    {
     "name": "stdout",
     "output_type": "stream",
     "text": [
      "navap uravelak\n"
     ]
    }
   ],
   "source": [
    "s=\"pavan kalevaru\"\n",
    "s2=' '.join(word[::-1] for word in s.split(\" \"))\n",
    "print s2"
   ]
  },
  {
   "cell_type": "code",
   "execution_count": 57,
   "metadata": {},
   "outputs": [
    {
     "name": "stdout",
     "output_type": "stream",
     "text": [
      "p a v a n   k a l e v a r u\n"
     ]
    }
   ],
   "source": [
    "print ' '.join()"
   ]
  },
  {
   "cell_type": "code",
   "execution_count": 66,
   "metadata": {},
   "outputs": [
    {
     "name": "stdout",
     "output_type": "stream",
     "text": [
      "a 2\n"
     ]
    }
   ],
   "source": [
    "s=\"pavan\"# repated char\n",
    "dict={}\n",
    "for i in s:\n",
    "    dict[i]=0\n",
    "for i in s:\n",
    "    dict[i]+=1\n",
    "for i ,count in dict.items():\n",
    "       if count > 1 and i!= ' ':\n",
    "            print i,count\n",
    "\n",
    "    "
   ]
  },
  {
   "cell_type": "code",
   "execution_count": 69,
   "metadata": {},
   "outputs": [
    {
     "ename": "SyntaxError",
     "evalue": "invalid syntax (<ipython-input-69-9e43992386fe>, line 7)",
     "output_type": "error",
     "traceback": [
      "\u001b[1;36m  File \u001b[1;32m\"<ipython-input-69-9e43992386fe>\"\u001b[1;36m, line \u001b[1;32m7\u001b[0m\n\u001b[1;33m    for i not  in  fist_time:\u001b[0m\n\u001b[1;37m            ^\u001b[0m\n\u001b[1;31mSyntaxError\u001b[0m\u001b[1;31m:\u001b[0m invalid syntax\n"
     ]
    }
   ],
   "source": [
    "#non repated \n",
    "s=\"pavan\"\n",
    "dublicate=[]\n",
    "fist_time=[]\n",
    "unique=[]\n",
    "for i in s:\n",
    "    for i not  in  fist_time:\n",
    "        first_time.append(i)\n",
    "    else:\n",
    "        dublicate.append(i)\n",
    "for p in s:\n",
    "    if p in first_time and p not in dublicate:\n",
    "        unique.append(i)\n",
    "print unique\n",
    "        \n",
    "    "
   ]
  },
  {
   "cell_type": "code",
   "execution_count": null,
   "metadata": {},
   "outputs": [],
   "source": [
    "duplicate = []\n",
    "first_time = []\n",
    "unique = []\n",
    "\n",
    "a= input(\"pavan\")\n",
    "\n",
    "for i in a:\n",
    "\n",
    "    if i not in first_time:\n",
    "\n",
    "        first_time.append(i)\n",
    "\n",
    "    else:\n",
    "        duplicate.append(i)\n",
    "\n",
    "for p in a:\n",
    "    if p in first_time and p not in duplicate:\n",
    "\n",
    "        unique.append(p)\n",
    "print(unique[0])\n"
   ]
  },
  {
   "cell_type": "code",
   "execution_count": null,
   "metadata": {},
   "outputs": [],
   "source": [
    "import time\n",
    "time.asctime()\n"
   ]
  },
  {
   "cell_type": "code",
   "execution_count": null,
   "metadata": {},
   "outputs": [],
   "source": [
    "import calendar\n",
    "print calendar.month(2000,4)"
   ]
  },
  {
   "cell_type": "code",
   "execution_count": null,
   "metadata": {},
   "outputs": [],
   "source": [
    "import calendar\n",
    "print calendar.month(2000,4)"
   ]
  },
  {
   "cell_type": "code",
   "execution_count": null,
   "metadata": {},
   "outputs": [],
   "source": [
    "import time\n",
    "time.time"
   ]
  },
  {
   "cell_type": "code",
   "execution_count": 8,
   "metadata": {},
   "outputs": [
    {
     "data": {
      "text/plain": [
       "'Pavan'"
      ]
     },
     "execution_count": 8,
     "metadata": {},
     "output_type": "execute_result"
    }
   ],
   "source": [
    "s=\"pavan\"\n",
    "s.capitalize()"
   ]
  },
  {
   "cell_type": "code",
   "execution_count": 9,
   "metadata": {},
   "outputs": [
    {
     "name": "stdout",
     "output_type": "stream",
     "text": [
      "2\n"
     ]
    }
   ],
   "source": [
    "print s.count('a')"
   ]
  },
  {
   "cell_type": "code",
   "execution_count": 10,
   "metadata": {},
   "outputs": [
    {
     "name": "stdout",
     "output_type": "stream",
     "text": [
      "True\n"
     ]
    }
   ],
   "source": [
    "print s.endswith(\"an\")"
   ]
  },
  {
   "cell_type": "code",
   "execution_count": 11,
   "metadata": {},
   "outputs": [
    {
     "data": {
      "text/plain": [
       "'Tue Jun 19 23:21:53 2018'"
      ]
     },
     "execution_count": 11,
     "metadata": {},
     "output_type": "execute_result"
    }
   ],
   "source": [
    "import time \n",
    "time.asctime()"
   ]
  },
  {
   "cell_type": "code",
   "execution_count": 12,
   "metadata": {},
   "outputs": [],
   "source": [
    "import calendar"
   ]
  },
  {
   "cell_type": "code",
   "execution_count": 14,
   "metadata": {},
   "outputs": [
    {
     "data": {
      "text/plain": [
       "'                                                       2019\\n\\n             January                                 February                                 March\\nMon  Tue  Wed  Thu  Fri  Sat  Sun       Mon  Tue  Wed  Thu  Fri  Sat  Sun       Mon  Tue  Wed  Thu  Fri  Sat  Sun\\n       1    2    3    4    5    6                             1    2    3                             1    2    3\\n  7    8    9   10   11   12   13         4    5    6    7    8    9   10         4    5    6    7    8    9   10\\n 14   15   16   17   18   19   20        11   12   13   14   15   16   17        11   12   13   14   15   16   17\\n 21   22   23   24   25   26   27        18   19   20   21   22   23   24        18   19   20   21   22   23   24\\n 28   29   30   31                       25   26   27   28                       25   26   27   28   29   30   31\\n\\n              April                                    May                                     June\\nMon  Tue  Wed  Thu  Fri  Sat  Sun       Mon  Tue  Wed  Thu  Fri  Sat  Sun       Mon  Tue  Wed  Thu  Fri  Sat  Sun\\n  1    2    3    4    5    6    7                   1    2    3    4    5                                  1    2\\n  8    9   10   11   12   13   14         6    7    8    9   10   11   12         3    4    5    6    7    8    9\\n 15   16   17   18   19   20   21        13   14   15   16   17   18   19        10   11   12   13   14   15   16\\n 22   23   24   25   26   27   28        20   21   22   23   24   25   26        17   18   19   20   21   22   23\\n 29   30                                 27   28   29   30   31                  24   25   26   27   28   29   30\\n\\n               July                                   August                                September\\nMon  Tue  Wed  Thu  Fri  Sat  Sun       Mon  Tue  Wed  Thu  Fri  Sat  Sun       Mon  Tue  Wed  Thu  Fri  Sat  Sun\\n  1    2    3    4    5    6    7                        1    2    3    4                                       1\\n  8    9   10   11   12   13   14         5    6    7    8    9   10   11         2    3    4    5    6    7    8\\n 15   16   17   18   19   20   21        12   13   14   15   16   17   18         9   10   11   12   13   14   15\\n 22   23   24   25   26   27   28        19   20   21   22   23   24   25        16   17   18   19   20   21   22\\n 29   30   31                            26   27   28   29   30   31             23   24   25   26   27   28   29\\n                                                                                 30\\n\\n             October                                 November                                December\\nMon  Tue  Wed  Thu  Fri  Sat  Sun       Mon  Tue  Wed  Thu  Fri  Sat  Sun       Mon  Tue  Wed  Thu  Fri  Sat  Sun\\n       1    2    3    4    5    6                             1    2    3                                       1\\n  7    8    9   10   11   12   13         4    5    6    7    8    9   10         2    3    4    5    6    7    8\\n 14   15   16   17   18   19   20        11   12   13   14   15   16   17         9   10   11   12   13   14   15\\n 21   22   23   24   25   26   27        18   19   20   21   22   23   24        16   17   18   19   20   21   22\\n 28   29   30   31                       25   26   27   28   29   30             23   24   25   26   27   28   29\\n                                                                                 30   31\\n'"
      ]
     },
     "execution_count": 14,
     "metadata": {},
     "output_type": "execute_result"
    }
   ],
   "source": [
    "calendar.calendar(2019,4)"
   ]
  },
  {
   "cell_type": "code",
   "execution_count": 17,
   "metadata": {},
   "outputs": [
    {
     "data": {
      "text/plain": [
       "True"
      ]
     },
     "execution_count": 17,
     "metadata": {},
     "output_type": "execute_result"
    }
   ],
   "source": [
    "calendar.isleap(2108)"
   ]
  },
  {
   "cell_type": "code",
   "execution_count": 18,
   "metadata": {},
   "outputs": [],
   "source": [
    "d={\"pavan\":1,\"yash\":2}"
   ]
  },
  {
   "cell_type": "code",
   "execution_count": 19,
   "metadata": {},
   "outputs": [
    {
     "name": "stdout",
     "output_type": "stream",
     "text": [
      "{'pavan': 1, 'yash': 2}\n"
     ]
    }
   ],
   "source": [
    "print d\n"
   ]
  },
  {
   "cell_type": "code",
   "execution_count": 20,
   "metadata": {},
   "outputs": [
    {
     "name": "stdout",
     "output_type": "stream",
     "text": [
      "['pavan', 'yash']\n"
     ]
    }
   ],
   "source": [
    "print d.keys()"
   ]
  },
  {
   "cell_type": "code",
   "execution_count": 21,
   "metadata": {},
   "outputs": [
    {
     "name": "stdout",
     "output_type": "stream",
     "text": [
      "[1, 2]\n"
     ]
    }
   ],
   "source": [
    "print d.values()"
   ]
  },
  {
   "cell_type": "code",
   "execution_count": 24,
   "metadata": {},
   "outputs": [
    {
     "ename": "NameError",
     "evalue": "name 'pavan' is not defined",
     "output_type": "error",
     "traceback": [
      "\u001b[1;31m---------------------------------------------------------------------------\u001b[0m",
      "\u001b[1;31mNameError\u001b[0m                                 Traceback (most recent call last)",
      "\u001b[1;32m<ipython-input-24-d12664daa1d2>\u001b[0m in \u001b[0;36m<module>\u001b[1;34m()\u001b[0m\n\u001b[1;32m----> 1\u001b[1;33m \u001b[1;32mprint\u001b[0m \u001b[0md\u001b[0m\u001b[1;33m[\u001b[0m\u001b[0mpavan\u001b[0m\u001b[1;33m]\u001b[0m\u001b[1;33m\u001b[0m\u001b[0m\n\u001b[0m",
      "\u001b[1;31mNameError\u001b[0m: name 'pavan' is not defined"
     ]
    }
   ],
   "source": [
    "print d[pavan]"
   ]
  },
  {
   "cell_type": "code",
   "execution_count": 25,
   "metadata": {},
   "outputs": [
    {
     "data": {
      "text/plain": [
       "1"
      ]
     },
     "execution_count": 25,
     "metadata": {},
     "output_type": "execute_result"
    }
   ],
   "source": [
    "d['pavan']"
   ]
  },
  {
   "cell_type": "code",
   "execution_count": 27,
   "metadata": {},
   "outputs": [
    {
     "data": {
      "text/plain": [
       "10"
      ]
     },
     "execution_count": 27,
     "metadata": {},
     "output_type": "execute_result"
    }
   ],
   "source": [
    "d.setdefault(\"pavank\",10)"
   ]
  },
  {
   "cell_type": "code",
   "execution_count": 28,
   "metadata": {},
   "outputs": [
    {
     "name": "stdout",
     "output_type": "stream",
     "text": [
      "{'pavan': 1, 'yash': 2, 'pavank': 10}\n"
     ]
    }
   ],
   "source": [
    "print d"
   ]
  },
  {
   "cell_type": "code",
   "execution_count": 29,
   "metadata": {},
   "outputs": [],
   "source": [
    "d.update({\"pavank\":10})"
   ]
  },
  {
   "cell_type": "code",
   "execution_count": 30,
   "metadata": {},
   "outputs": [
    {
     "data": {
      "text/plain": [
       "{'pavan': 1, 'pavank': 10, 'yash': 2}"
      ]
     },
     "execution_count": 30,
     "metadata": {},
     "output_type": "execute_result"
    }
   ],
   "source": [
    "d"
   ]
  },
  {
   "cell_type": "code",
   "execution_count": null,
   "metadata": {},
   "outputs": [],
   "source": [
    "# find no of  characters,words,lines,\n",
    "# f=open(\"data.txt\",'r')\n",
    "# data=f.read()\n",
    "# print len(data)\n",
    "# print len(data.split())\n",
    "# print len(data.splitlines())"
   ]
  }
 ],
 "metadata": {
  "kernelspec": {
   "display_name": "Python 2",
   "language": "python",
   "name": "python2"
  },
  "language_info": {
   "codemirror_mode": {
    "name": "ipython",
    "version": 2
   },
   "file_extension": ".py",
   "mimetype": "text/x-python",
   "name": "python",
   "nbconvert_exporter": "python",
   "pygments_lexer": "ipython2",
   "version": "2.7.14"
  }
 },
 "nbformat": 4,
 "nbformat_minor": 2
}
