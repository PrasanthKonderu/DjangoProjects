{
 "cells": [
  {
   "cell_type": "code",
   "execution_count": 4,
   "metadata": {},
   "outputs": [
    {
     "data": {
      "text/plain": [
       "'y'"
      ]
     },
     "execution_count": 4,
     "metadata": {},
     "output_type": "execute_result"
    }
   ],
   "source": [
    "l=[\"x\",\"y\",\"z\"]\n",
    "l.insert(1,\"w\")\n",
    "l\n",
    "l[2]"
   ]
  },
  {
   "cell_type": "code",
   "execution_count": 4,
   "metadata": {},
   "outputs": [
    {
     "name": "stdout",
     "output_type": "stream",
     "text": [
      "[0, 3, 6, 9]\n",
      "4\n",
      "18\n",
      "9\n"
     ]
    }
   ],
   "source": [
    "func=lambda x:x%3==0\n",
    "l=filter(func,range(10))\n",
    "print l\n",
    "print len(l)\n",
    "print  sum(l)\n",
    "print max(l)"
   ]
  },
  {
   "cell_type": "code",
   "execution_count": 2,
   "metadata": {},
   "outputs": [
    {
     "name": "stdout",
     "output_type": "stream",
     "text": [
      "entert number:in11\n",
      "not even\n"
     ]
    }
   ],
   "source": [
    "# even number\n",
    "num=int(raw_input(\"entert number:in\"))\n",
    "if num%2==0:\n",
    "    print \"given number is even\"\n",
    "else:\n",
    "    print \"not even\"\n"
   ]
  },
  {
   "cell_type": "code",
   "execution_count": 10,
   "metadata": {},
   "outputs": [
    {
     "name": "stdout",
     "output_type": "stream",
     "text": [
      "-24\n"
     ]
    }
   ],
   "source": [
    "def something(number):\n",
    "    if number==0:\n",
    "        return -1\n",
    "    else:\n",
    "        return number*something(number-1);\n",
    "print something(4)"
   ]
  },
  {
   "cell_type": "code",
   "execution_count": 3,
   "metadata": {},
   "outputs": [
    {
     "name": "stdout",
     "output_type": "stream",
     "text": [
      "0\n"
     ]
    }
   ],
   "source": [
    "print 0%3"
   ]
  },
  {
   "cell_type": "code",
   "execution_count": 12,
   "metadata": {},
   "outputs": [
    {
     "name": "stdout",
     "output_type": "stream",
     "text": [
      "120\n"
     ]
    }
   ],
   "source": [
    "def f(r):\n",
    "    j=range(r)\n",
    "    e=eval(\"*\".join([str(i+1)for i in j]))\n",
    "    print  e\n",
    "f(5)"
   ]
  },
  {
   "cell_type": "code",
   "execution_count": 5,
   "metadata": {},
   "outputs": [
    {
     "data": {
      "text/plain": [
       "8"
      ]
     },
     "execution_count": 5,
     "metadata": {},
     "output_type": "execute_result"
    }
   ],
   "source": [
    "def p(x,y):\n",
    "    if y==0:\n",
    "        \n",
    "        return 1\n",
    "    else:\n",
    "        return x*p(x,y-1)\n",
    "p(2,3)\n"
   ]
  },
  {
   "cell_type": "code",
   "execution_count": 17,
   "metadata": {},
   "outputs": [
    {
     "data": {
      "text/plain": [
       "120"
      ]
     },
     "execution_count": 17,
     "metadata": {},
     "output_type": "execute_result"
    }
   ],
   "source": [
    "k=range(5)\n",
    "e=eval(\"*\".join([str(i+1)for i in k]))\n",
    "e"
   ]
  },
  {
   "cell_type": "code",
   "execution_count": 8,
   "metadata": {},
   "outputs": [
    {
     "name": "stdout",
     "output_type": "stream",
     "text": [
      "[0, 2, 4, 6, 8, 10, 12, 14, 16, 18, 20, 22, 24, 26, 28, 30, 32, 34, 36, 38, 40, 42, 44, 46, 48]\n"
     ]
    }
   ],
   "source": [
    "#range of even numbers\n",
    "l=[]\n",
    "for i in range(50):\n",
    "    \n",
    "    if i%2==0:\n",
    "        l.append(i)\n",
    "print l\n",
    "        "
   ]
  },
  {
   "cell_type": "code",
   "execution_count": 23,
   "metadata": {},
   "outputs": [],
   "source": [
    "for i in range(20,1):\n",
    "    print i"
   ]
  },
  {
   "cell_type": "code",
   "execution_count": 24,
   "metadata": {},
   "outputs": [
    {
     "name": "stdout",
     "output_type": "stream",
     "text": [
      "30\n"
     ]
    }
   ],
   "source": [
    "def tripler(org_func):\n",
    "    def my_function(orig_val):\n",
    "        return(org_func(orig_val*3))\n",
    "    return my_function\n",
    "@tripler\n",
    "def doubler(a):\n",
    "    return a*2\n",
    "print doubler(5)"
   ]
  },
  {
   "cell_type": "code",
   "execution_count": 29,
   "metadata": {},
   "outputs": [
    {
     "name": "stdout",
     "output_type": "stream",
     "text": [
      "36\n"
     ]
    }
   ],
   "source": [
    "def funm(n):\n",
    "    i=n\n",
    "    if i%3==0:\n",
    "        print  i*i\n",
    "    i-=1\n",
    "r=funm(6)\n"
   ]
  },
  {
   "cell_type": "code",
   "execution_count": 8,
   "metadata": {},
   "outputs": [
    {
     "name": "stdout",
     "output_type": "stream",
     "text": [
      "70\n",
      "73.0\n"
     ]
    }
   ],
   "source": [
    "s=\"7\"\n",
    "s=s+\"0\"\n",
    "print s\n",
    "e=int(s)+3\n",
    "print(float(e))\n"
   ]
  },
  {
   "cell_type": "code",
   "execution_count": 31,
   "metadata": {},
   "outputs": [
    {
     "data": {
      "text/plain": [
       "132"
      ]
     },
     "execution_count": 31,
     "metadata": {},
     "output_type": "execute_result"
    }
   ],
   "source": [
    "def ap(func,arg):\n",
    "    return func(func(arg))\n",
    "def add_10(x):\n",
    "    return x-44\n",
    "abs(ap(add_10,-44))"
   ]
  },
  {
   "cell_type": "code",
   "execution_count": 35,
   "metadata": {},
   "outputs": [
    {
     "name": "stdout",
     "output_type": "stream",
     "text": [
      "(5, 8, 0)\n",
      "(2, 4)\n",
      "[]\n"
     ]
    }
   ],
   "source": [
    "a=[(5,8,0),(2,4)]\n",
    "sum=[]\n",
    "for x  in a:\n",
    "    print x\n",
    "print sum"
   ]
  },
  {
   "cell_type": "code",
   "execution_count": 8,
   "metadata": {},
   "outputs": [],
   "source": [
    "import random\n",
    "names=[\"pavan,yash,prashanth,nani\"]\n",
    "data=random.choice(names)\n",
    "f=open(\"text3.txt\",\"w\")\n",
    "data1=f.write(data)\n",
    "f.close()\n"
   ]
  },
  {
   "cell_type": "code",
   "execution_count": 1,
   "metadata": {},
   "outputs": [],
   "source": [
    "f=open('p.txt','w')\n",
    "f.write('pavan kalevaru')\n",
    "f.close()"
   ]
  },
  {
   "cell_type": "code",
   "execution_count": 7,
   "metadata": {},
   "outputs": [
    {
     "name": "stdout",
     "output_type": "stream",
     "text": [
      "14\n",
      "2\n",
      "1\n"
     ]
    }
   ],
   "source": [
    "f=open('p.txt','r')\n",
    "d=f.read()\n",
    "print len(d)\n",
    "print len(d.split())\n",
    "print len(d.splitlines())\n"
   ]
  },
  {
   "cell_type": "code",
   "execution_count": 9,
   "metadata": {},
   "outputs": [
    {
     "name": "stdout",
     "output_type": "stream",
     "text": [
      "pavan,yash,prashanth,nani\n"
     ]
    }
   ],
   "source": [
    "f=open(\"text3.txt\")\n",
    "data2=f.read()\n",
    "print data2"
   ]
  },
  {
   "cell_type": "code",
   "execution_count": 10,
   "metadata": {},
   "outputs": [
    {
     "name": "stdout",
     "output_type": "stream",
     "text": [
      "25\n",
      "1\n",
      "1\n"
     ]
    }
   ],
   "source": [
    "f=open(\"text3.txt\")\n",
    "numberchar=len(data2)\n",
    "numberword=len(data2.split())\n",
    "numberlines=len(data2.splitlines())\n",
    "print numberchar\n",
    "print numberword\n",
    "print numberlines"
   ]
  },
  {
   "cell_type": "code",
   "execution_count": 3,
   "metadata": {},
   "outputs": [
    {
     "name": "stdout",
     "output_type": "stream",
     "text": [
      "Number of Lines,Words,Chars in the given file respectively are 1 1 25\n"
     ]
    }
   ],
   "source": [
    "chars=0\n",
    "words=0\n",
    "lines=0\n",
    "f=open('text3.txt','r')\n",
    "for i in f:\n",
    "    lines=lines+1\n",
    "    words=len(i.split())+words\n",
    "    chars=len(i)+chars\n",
    "print \"Number of Lines,Words,Chars in the given file respectively are\",lines,words,chars\n"
   ]
  },
  {
   "cell_type": "code",
   "execution_count": 12,
   "metadata": {},
   "outputs": [
    {
     "name": "stdout",
     "output_type": "stream",
     "text": [
      "pavan,yash,prashanth,nani\n",
      "['pavan,yash,prashanth,nani']\n",
      "[\"pavan,yash,prashanth,nani\"]\n",
      "[u'pavan,yash,prashanth,nani']\n"
     ]
    }
   ],
   "source": [
    "#json to txt\n",
    "import json\n",
    "f=open(\"text3.txt\")\n",
    "data3=f.readlines()\n",
    "print data2\n",
    "print data3\n",
    "d_son=json.dumps(data3)\n",
    "d_son1=json.loads(d_son)\n",
    "print d_son\n",
    "print d_son1\n",
    "f.close()\n"
   ]
  },
  {
   "cell_type": "code",
   "execution_count": 13,
   "metadata": {},
   "outputs": [
    {
     "name": "stdout",
     "output_type": "stream",
     "text": [
      "data ['pavan,yash,prashanth,nani']\n",
      "JSON: [\"pavan,yash,prashanth,nani\"]\n",
      "[u'pavan,yash,prashanth,nani']\n"
     ]
    }
   ],
   "source": [
    "import json\n",
    "f=open(\"text3.txt\",'r')\n",
    "data1=f.readlines()\n",
    "print 'data',data1\n",
    "data_string = json.dumps(data1)\n",
    "json_loads=json.loads(data_string)\n",
    "print 'JSON:', data_string\n",
    "print json_loads\n",
    "f.close()\n"
   ]
  },
  {
   "cell_type": "code",
   "execution_count": 2,
   "metadata": {},
   "outputs": [
    {
     "name": "stdout",
     "output_type": "stream",
     "text": [
      "enter positive number:123\n",
      "6\n"
     ]
    }
   ],
   "source": [
    "#positive number sum\n"
   ]
  },
  {
   "cell_type": "code",
   "execution_count": null,
   "metadata": {},
   "outputs": [],
   "source": []
  },
  {
   "cell_type": "code",
   "execution_count": null,
   "metadata": {},
   "outputs": [],
   "source": [
    "    "
   ]
  },
  {
   "cell_type": "code",
   "execution_count": null,
   "metadata": {},
   "outputs": [],
   "source": []
  },
  {
   "cell_type": "code",
   "execution_count": 6,
   "metadata": {},
   "outputs": [
    {
     "name": "stdout",
     "output_type": "stream",
     "text": [
      "navap\n"
     ]
    }
   ],
   "source": [
    "# rever stvring\n",
    "# def fun(str):\n",
    "#     rs=\"\"\n",
    "#     for i in str:\n",
    "#         rs=i+rs\n",
    "#     print rs\n",
    "        \n",
    "# str=\"pavan\"\n",
    "# fun(str)\n",
    "s=\"pavan\"\n",
    "res=s[::-1]\n",
    "print res"
   ]
  },
  {
   "cell_type": "code",
   "execution_count": 16,
   "metadata": {},
   "outputs": [
    {
     "name": "stdout",
     "output_type": "stream",
     "text": [
      "enter the given number is:4\n",
      "not prime number\n"
     ]
    }
   ],
   "source": [
    "#given number prime number or not\n",
    "\n"
   ]
  },
  {
   "cell_type": "code",
   "execution_count": 4,
   "metadata": {},
   "outputs": [],
   "source": [
    "\n",
    "for n in range(0,50):\n",
    "    for i in range(2,50):\n",
    "        if n%1==0:\n",
    "            break;\n",
    "    else:\n",
    "        print n"
   ]
  },
  {
   "cell_type": "code",
   "execution_count": 2,
   "metadata": {},
   "outputs": [],
   "source": []
  },
  {
   "cell_type": "code",
   "execution_count": 1,
   "metadata": {},
   "outputs": [
    {
     "name": "stdout",
     "output_type": "stream",
     "text": [
      "enter the given number is:5\n",
      "enter the given number is:15\n",
      "5\n",
      "7\n",
      "11\n",
      "13\n"
     ]
    }
   ],
   "source": [
    "\n"
   ]
  },
  {
   "cell_type": "code",
   "execution_count": 12,
   "metadata": {},
   "outputs": [
    {
     "name": "stdout",
     "output_type": "stream",
     "text": [
      "enter the given number is:10\n",
      "1\n",
      "2\n",
      "5\n",
      "10\n"
     ]
    }
   ],
   "source": [
    "#fatoril\n",
    "    \n"
   ]
  },
  {
   "cell_type": "code",
   "execution_count": 3,
   "metadata": {},
   "outputs": [
    {
     "name": "stdout",
     "output_type": "stream",
     "text": [
      "1\n",
      "2\n",
      "6\n",
      "24\n",
      "120\n",
      "720\n",
      "5040\n",
      "40320\n",
      "362880\n"
     ]
    }
   ],
   "source": [
    "# factor \n",
    "f=1\n",
    "for i in range(1,10):\n",
    "    f=f*i\n",
    "    print f"
   ]
  },
  {
   "cell_type": "code",
   "execution_count": null,
   "metadata": {},
   "outputs": [],
   "source": [
    "l=[10,20,[40]]\n",
    "l1=[]\n",
    "def fun(l):\n",
    "    for i in l:\n",
    "        if type(l[i])==type(List):\n",
    "            "
   ]
  },
  {
   "cell_type": "code",
   "execution_count": 19,
   "metadata": {},
   "outputs": [
    {
     "name": "stdout",
     "output_type": "stream",
     "text": [
      "dddd\n"
     ]
    }
   ],
   "source": [
    "#find the large number in string\n",
    "a=\"a aa bb ccc dddd\"\n",
    "c= max(a.split())\n",
    "print (c)\n",
    "\n",
    "\n"
   ]
  },
  {
   "cell_type": "code",
   "execution_count": 36,
   "metadata": {},
   "outputs": [
    {
     "data": {
      "text/plain": [
       "100"
      ]
     },
     "execution_count": 36,
     "metadata": {},
     "output_type": "execute_result"
    }
   ],
   "source": [
    "def my_max(lst):\n",
    "    max_val = lst[0]       # initialize with the first value from the list\n",
    "    for item in lst:       # loop over the items in the list\n",
    "        if item > max_val: # compare current item with the maximum seen so far\n",
    "            max_val = item # set new max\n",
    "    return max_val \n",
    "lst=[10,80,100]# return the max\n",
    "my_max(lst)"
   ]
  },
  {
   "cell_type": "code",
   "execution_count": 14,
   "metadata": {},
   "outputs": [
    {
     "name": "stdout",
     "output_type": "stream",
     "text": [
      "['pavan', 'kalevaru']\n",
      "8\n"
     ]
    },
    {
     "data": {
      "text/plain": [
       "['kalevaru']"
      ]
     },
     "execution_count": 14,
     "metadata": {},
     "output_type": "execute_result"
    }
   ],
   "source": [
    "import re\n",
    "string = \"pavan kalevaru\"\n",
    "string = re.findall(r'\\S+',string)\n",
    "#\\S+ looks for all the non-whitespace characters and puts them in a list:\n",
    "\n",
    "print  string\n",
    "#['Hello', 'I', 'like', 'cookies']\n",
    "#Now you can find the length of the list element containing the longest word and then use list comprehension to retrieve the element itself:\n",
    "\n",
    "maxlen = max(len(word) for word in string)\n",
    "print  maxlen\n",
    " \n",
    "[word for word in string if len(word) == maxlen]\n"
   ]
  },
  {
   "cell_type": "code",
   "execution_count": 25,
   "metadata": {},
   "outputs": [
    {
     "name": "stdout",
     "output_type": "stream",
     "text": [
      "['pavan', 'is', 'a', 'goodboy']\n",
      "7\n"
     ]
    },
    {
     "data": {
      "text/plain": [
       "['goodboy']"
      ]
     },
     "execution_count": 25,
     "metadata": {},
     "output_type": "execute_result"
    }
   ],
   "source": [
    "import re\n",
    "s=\"pavan is a goodboy\"\n",
    "s=re.findall('\\S+',s)\n",
    "print s\n",
    "long_str=max(len(i)for i in s)\n",
    "print long_str\n",
    "[i for i in s if len(i)==long_str]"
   ]
  },
  {
   "cell_type": "code",
   "execution_count": 1,
   "metadata": {},
   "outputs": [
    {
     "name": "stdout",
     "output_type": "stream",
     "text": [
      "[10, 20, 30, 40, 50, 60, 70, 80, 90, 20]\n"
     ]
    }
   ],
   "source": [
    "l=[10,20,30,[40,50,60],70,[80,90,20]]\n",
    "l2=[]\n",
    "def sing(l):\n",
    "    for i in l:\n",
    "        if type(i)==list:\n",
    "            sing(i)\n",
    "        else:\n",
    "            l2.append(i)\n",
    "    return l2\n",
    "print sing(l)\n",
    "\n",
    "            \n",
    "            \n"
   ]
  },
  {
   "cell_type": "code",
   "execution_count": 26,
   "metadata": {},
   "outputs": [
    {
     "name": "stdout",
     "output_type": "stream",
     "text": [
      "gvO Ujnft!\n"
     ]
    }
   ],
   "source": [
    "#Using the Python language, have the function LetterChanges(str) take the str parameter being passed and modify \n",
    "#it using the following algorithm. \n",
    "#Replace every letter in the string with the letter following it in the alphabet \n",
    "#(ie. c becomes d, z becomes a). Then capitalize every vowel in this new string (a, e, i, o, u)\n",
    "#and finally return this modified string. \n",
    "\n",
    "\n",
    "\n",
    "def LetterChanges(str): \n",
    "  \n",
    "  # our new string with the modified characters\n",
    "  newString = \"\"\n",
    "\n",
    "  # begin by looping through each character in the string\n",
    "  for char in str:\n",
    "    \n",
    "    # check if the current character is an alphabetic character\n",
    "    if char.isalpha():\n",
    "\n",
    "      # check if character is z\n",
    "      if char.lower() == 'z':\n",
    "        char = 'a'\n",
    "\n",
    "      # if alphabetic character then add 1 to its ASCII value \n",
    "      # by using the built-in ord function then convert back to character\n",
    "      else:\n",
    "        char = chr(ord(char) + 1)\n",
    "\n",
    "    # if new character is a vowel then capitalize it\n",
    "    if char in 'aeiou':\n",
    "      char = char.upper()\n",
    "\n",
    "    # add this modified character to the new string\n",
    "    newString = newString + char\n",
    "\n",
    "  return newString\n",
    "       \n",
    "print LetterChanges(\"fun times!\")  \n"
   ]
  },
  {
   "cell_type": "code",
   "execution_count": 30,
   "metadata": {},
   "outputs": [
    {
     "name": "stdout",
     "output_type": "stream",
     "text": [
      " qbwbOA\n"
     ]
    }
   ],
   "source": [
    "s=\"pavanz\"\n",
    "new_str=\" \"\n",
    "for i in s:\n",
    "    if i.lower()=='z':\n",
    "        i='a'\n",
    "    else:\n",
    "        i=chr(ord(i)+1)\n",
    "    if i in 'aeiou':\n",
    "        i=i.upper()\n",
    "    new_str=new_str+i\n",
    "print new_str"
   ]
  },
  {
   "cell_type": "code",
   "execution_count": 35,
   "metadata": {},
   "outputs": [
    {
     "name": "stdout",
     "output_type": "stream",
     "text": [
      "0\n",
      "1\n",
      "3\n",
      "6\n",
      "10\n"
     ]
    }
   ],
   "source": [
    "#Using the Python language, have the function SimpleAdding(num) add up all the numbers\n",
    "#from 1 to num. For example: if the input is 4 then your program should return 10 because 1 + 2 + 3 + 4 = 10.\n",
    "#For the test cases, the parameter num will be any number from 1 to 1000. \n",
    "n=4\n",
    "k=0\n",
    "for i in range(0,n+1):\n",
    "    k=k+i\n",
    "    print k"
   ]
  },
  {
   "cell_type": "code",
   "execution_count": 5,
   "metadata": {},
   "outputs": [
    {
     "name": "stdout",
     "output_type": "stream",
     "text": [
      "{'a': 2, 'p': 1, 'n': 1, 'v': 1}\n"
     ]
    }
   ],
   "source": [
    "s=\"pavan\"\n",
    "d={}\n",
    "for i in s:\n",
    "    d[i]=s.count(i)\n",
    "print d\n",
    "   "
   ]
  },
  {
   "cell_type": "code",
   "execution_count": 38,
   "metadata": {},
   "outputs": [
    {
     "name": "stdout",
     "output_type": "stream",
     "text": [
      "Aavan\n"
     ]
    }
   ],
   "source": [
    "s=\"aavan\"\n",
    "c=s.capitalize()\n",
    "print c"
   ]
  },
  {
   "cell_type": "code",
   "execution_count": 39,
   "metadata": {},
   "outputs": [
    {
     "name": "stdout",
     "output_type": "stream",
     "text": [
      "2:4\n"
     ]
    }
   ],
   "source": [
    "import math\n",
    "\n",
    "def TimeConvert(num): \n",
    "\n",
    "  # to get the hours, we divide num by 60 and round it down\n",
    "  # e.g. 61 / 60 = 1 hour\n",
    "  # e.g. 43 / 60 = 0 hours\n",
    "  hours = int(math.floor(num / 60))\n",
    "\n",
    "  # to get the minutes, now we use the remainder that we discarded above\n",
    "  # the modulo operation is represented by the % symbol\n",
    "  # e.g. 61 % 60 = 1 minute\n",
    "  # e.g. 43 % 60 = 43 minutes\n",
    "  minutes = num % 60\n",
    "\n",
    "  # combine the hours and minutes\n",
    "  return str(hours) + ':' + str(minutes);\n",
    "    \n",
    "print TimeConvert(124)  \n"
   ]
  },
  {
   "cell_type": "code",
   "execution_count": 41,
   "metadata": {},
   "outputs": [
    {
     "name": "stdout",
     "output_type": "stream",
     "text": [
      "5:50\n"
     ]
    }
   ],
   "source": [
    "import math\n",
    "def timeconver(num):\n",
    "    hour=int(math.floor(num/60))\n",
    "    minutes=num%60\n",
    "    return str(hour)+\":\"+str(minutes)\n",
    "print timeconver(350)\n",
    "    "
   ]
  },
  {
   "cell_type": "code",
   "execution_count": 44,
   "metadata": {},
   "outputs": [
    {
     "name": "stdout",
     "output_type": "stream",
     "text": [
      "navap\n"
     ]
    }
   ],
   "source": [
    "s=\"pavan\"\n",
    "s1=\"\"\n",
    "for i in s:\n",
    "    s1=i+s1\n",
    "    \n",
    "print s1"
   ]
  },
  {
   "cell_type": "code",
   "execution_count": 47,
   "metadata": {},
   "outputs": [
    {
     "name": "stdout",
     "output_type": "stream",
     "text": [
      "bcdeeorty\n"
     ]
    }
   ],
   "source": [
    "def AlphabetSoup(str): \n",
    "\n",
    "  # convert the string into a list of characters\n",
    "  chars = list(str)\n",
    "\n",
    "  # sort the list in alphabetical order\n",
    "  sortedChars = sorted(chars)\n",
    "\n",
    "  # return the newly joined string\n",
    "  return \"\".join(sortedChars)\n",
    "    \n",
    "print AlphabetSoup(\"coderbyte\")  \n"
   ]
  },
  {
   "cell_type": "code",
   "execution_count": 49,
   "metadata": {},
   "outputs": [
    {
     "name": "stdout",
     "output_type": "stream",
     "text": [
      "['p', 'a', 'v', 'a', 'n']\n",
      "aanpv\n"
     ]
    }
   ],
   "source": [
    "s=\"pavan\"\n",
    "char=list(s)\n",
    "print char\n",
    "sortedchar=sorted(char)\n",
    "print \"\".join(sortedchar)\n",
    "\n"
   ]
  },
  {
   "cell_type": "code",
   "execution_count": 17,
   "metadata": {},
   "outputs": [
    {
     "name": "stdout",
     "output_type": "stream",
     "text": [
      "enter stringd\n",
      "lckn\n"
     ]
    }
   ],
   "source": [
    "# count case sentive\n",
    "l=['a','b','c','A','B']\n",
    "s=raw_input(\"enter string\")\n",
    "count=0\n",
    "for i in l:\n",
    "    if i.lower()==s.lower():\n",
    "        count=count+1\n",
    "if count>=1:\n",
    "    print count\n",
    "else:\n",
    "    print \"lckn\"\n",
    "    \n",
    "    "
   ]
  },
  {
   "cell_type": "code",
   "execution_count": 10,
   "metadata": {},
   "outputs": [],
   "source": [
    "l=[10,20,10]\n",
    "l3=[]"
   ]
  },
  {
   "cell_type": "code",
   "execution_count": 11,
   "metadata": {},
   "outputs": [
    {
     "name": "stdout",
     "output_type": "stream",
     "text": [
      "[10, 20]\n"
     ]
    }
   ],
   "source": [
    "for i in l:\n",
    "    if i not in l3:\n",
    "        l3.append(i)\n",
    "print l3"
   ]
  },
  {
   "cell_type": "code",
   "execution_count": 21,
   "metadata": {},
   "outputs": [
    {
     "name": "stdout",
     "output_type": "stream",
     "text": [
      "number is6\n",
      "number is perfect 6\n"
     ]
    }
   ],
   "source": [
    "# perpect number\n",
    "n=int(raw_input(\"number is\"))\n",
    "rs=0\n",
    "for i in range(1,n):\n",
    "    if n%i==0:\n",
    "        rs=rs+i\n",
    "if rs==n:\n",
    "    print \"number is perfect\",n\n",
    "else:\n",
    "    print \"no\""
   ]
  },
  {
   "cell_type": "code",
   "execution_count": 19,
   "metadata": {},
   "outputs": [
    {
     "name": "stdout",
     "output_type": "stream",
     "text": [
      "lower number is1\n",
      " upper number is10\n",
      "1\n"
     ]
    }
   ],
   "source": [
    "l=int(raw_input(\"lower number is\"))\n",
    "u=int(raw_input(\" upper number is\"))\n",
    "for n in range(l,u+1):\n",
    "    for i in range(1,n):\n",
    "        if n%i==0:\n",
    "            break\n",
    "    else:\n",
    "\n",
    "        print n\n"
   ]
  },
  {
   "cell_type": "code",
   "execution_count": 35,
   "metadata": {},
   "outputs": [
    {
     "name": "stdout",
     "output_type": "stream",
     "text": [
      "pavan kalevar\n",
      "  is god boy\n",
      "5\n",
      "2\n",
      "26\n"
     ]
    }
   ],
   "source": [
    "a=\"pavan kalevar\\n  is god boy\"\n",
    "print a\n",
    "\n",
    "ch=0\n",
    "w=0\n",
    "for i in a:\n",
    "    ch=ch+1\n",
    "    if i==\" \":\n",
    "        w=w+1\n",
    "print w\n",
    "l=len( a.splitlines())\n",
    "print l\n",
    "print ch\n"
   ]
  },
  {
   "cell_type": "code",
   "execution_count": 29,
   "metadata": {},
   "outputs": [],
   "source": [
    "marks = [(\"mohan\", 80), (\"satish\", 90), (\"purnesh\", 40), (\"venkat\", 30)]\n",
    "d=dict(marks)"
   ]
  },
  {
   "cell_type": "code",
   "execution_count": 30,
   "metadata": {},
   "outputs": [
    {
     "data": {
      "text/plain": [
       "[80, 90, 40, 30]"
      ]
     },
     "execution_count": 30,
     "metadata": {},
     "output_type": "execute_result"
    }
   ],
   "source": [
    "d.values()\n"
   ]
  },
  {
   "cell_type": "code",
   "execution_count": 31,
   "metadata": {},
   "outputs": [
    {
     "data": {
      "text/plain": [
       "['mohan', 'satish', 'purnesh', 'venkat']"
      ]
     },
     "execution_count": 31,
     "metadata": {},
     "output_type": "execute_result"
    }
   ],
   "source": [
    "d.keys()"
   ]
  },
  {
   "cell_type": "code",
   "execution_count": 32,
   "metadata": {},
   "outputs": [
    {
     "name": "stdout",
     "output_type": "stream",
     "text": [
      "2\n"
     ]
    }
   ],
   "source": [
    "# #vowel\n",
    "str=\"pavan\"\n",
    "v=0\n",
    "for i in str:\n",
    "    if i in \"AEIOUaeiou\":\n",
    "        v=v+1\n",
    "print v"
   ]
  },
  {
   "cell_type": "code",
   "execution_count": 35,
   "metadata": {},
   "outputs": [
    {
     "ename": "IndentationError",
     "evalue": "expected an indented block (<ipython-input-35-364406835608>, line 5)",
     "output_type": "error",
     "traceback": [
      "\u001b[1;36m  File \u001b[1;32m\"<ipython-input-35-364406835608>\"\u001b[1;36m, line \u001b[1;32m5\u001b[0m\n\u001b[1;33m    print i\u001b[0m\n\u001b[1;37m        ^\u001b[0m\n\u001b[1;31mIndentationError\u001b[0m\u001b[1;31m:\u001b[0m expected an indented block\n"
     ]
    }
   ],
   "source": [
    "str=\"pavan\"\n",
    "v=0\n",
    "for i in str:\n",
    "    if i in \"AEIOUaeiou\":\n",
    "      print i\n"
   ]
  },
  {
   "cell_type": "code",
   "execution_count": 28,
   "metadata": {},
   "outputs": [
    {
     "name": "stdout",
     "output_type": "stream",
     "text": [
      "pp\n"
     ]
    }
   ],
   "source": [
    "# paldram or not\n",
    "n=141\n",
    "s=0\n",
    "while n!=0:\n",
    "    rem=n%10\n",
    "    s=s*10+rem\n",
    "    n=n/10\n",
    "if s==n:\n",
    "    print \"palidram"
   ]
  },
  {
   "cell_type": "code",
   "execution_count": 25,
   "metadata": {},
   "outputs": [
    {
     "name": "stdout",
     "output_type": "stream",
     "text": [
      "enter string141\n",
      "141\n",
      "palidram\n"
     ]
    }
   ],
   "source": [
    "n=raw_input(\"enter string\")\n",
    "re=n[::-1]\n",
    "print re\n",
    "if re==n:\n",
    "    print \"palidram\"\n",
    "else:\n",
    "    print \"no\""
   ]
  },
  {
   "cell_type": "code",
   "execution_count": 21,
   "metadata": {},
   "outputs": [
    {
     "name": "stdout",
     "output_type": "stream",
     "text": [
      "True\n"
     ]
    }
   ],
   "source": [
    "\n",
    "#amgstrog\n",
    "def fun(str1,str2):\n",
    "    list1=list(str1)\n",
    "    list2=list(str2)\n",
    "    list2.sort()\n",
    "    list1.sort()\n",
    "    return (list1==list2)\n",
    "print fun(\"pavan\",\"navap\")\n"
   ]
  },
  {
   "cell_type": "code",
   "execution_count": 13,
   "metadata": {},
   "outputs": [
    {
     "name": "stdout",
     "output_type": "stream",
     "text": [
      "<reversed object at 0x0000000006F40400>\n",
      "yse\n"
     ]
    }
   ],
   "source": [
    "s=\"abcba\"\n",
    "s=s.lower()\n",
    "rs=reversed(s)\n",
    "print rs\n",
    "if list(s)==list(rs):\n",
    "    print \"yse\""
   ]
  },
  {
   "cell_type": "code",
   "execution_count": 63,
   "metadata": {},
   "outputs": [
    {
     "name": "stdout",
     "output_type": "stream",
     "text": [
      "navap uravelak\n"
     ]
    }
   ],
   "source": [
    "s=\"pavan kalevaru\"\n",
    "s2=' '.join(word[::-1] for word in s.split(\" \"))\n",
    "print s2"
   ]
  },
  {
   "cell_type": "code",
   "execution_count": 57,
   "metadata": {},
   "outputs": [
    {
     "name": "stdout",
     "output_type": "stream",
     "text": [
      "p a v a n   k a l e v a r u\n"
     ]
    }
   ],
   "source": [
    "print ' '.join()"
   ]
  },
  {
   "cell_type": "code",
   "execution_count": 30,
   "metadata": {},
   "outputs": [
    {
     "name": "stdout",
     "output_type": "stream",
     "text": [
      "{'p': 0}\n",
      "{'a': 0, 'p': 0}\n",
      "{'a': 0, 'p': 0, 'v': 0}\n",
      "{'a': 0, 'p': 0, 'v': 0}\n",
      "{'a': 0, 'p': 0, 'n': 0, 'v': 0}\n",
      "a 2\n"
     ]
    }
   ],
   "source": [
    "s=\"pavan\"# repated char\n",
    "dict={}\n",
    "for i in s:\n",
    "    dict[i]=0\n",
    "    print dict\n",
    "for i in s:\n",
    "    dict[i]+=1\n",
    "for i ,count in dict.items():\n",
    "       if count > 1 and i!= ' ':\n",
    "            print i,count\n",
    "\n",
    "    "
   ]
  },
  {
   "cell_type": "code",
   "execution_count": 69,
   "metadata": {},
   "outputs": [
    {
     "ename": "SyntaxError",
     "evalue": "invalid syntax (<ipython-input-69-9e43992386fe>, line 7)",
     "output_type": "error",
     "traceback": [
      "\u001b[1;36m  File \u001b[1;32m\"<ipython-input-69-9e43992386fe>\"\u001b[1;36m, line \u001b[1;32m7\u001b[0m\n\u001b[1;33m    for i not  in  fist_time:\u001b[0m\n\u001b[1;37m            ^\u001b[0m\n\u001b[1;31mSyntaxError\u001b[0m\u001b[1;31m:\u001b[0m invalid syntax\n"
     ]
    }
   ],
   "source": [
    "#non repated \n",
    "s=\"pavan\"\n",
    "dublicate=[]\n",
    "fist_time=[]\n",
    "unique=[]\n",
    "for i in s:\n",
    "    for i not  in  fist_time:\n",
    "        first_time.append(i)\n",
    "    else:\n",
    "        dublicate.append(i)\n",
    "for p in s:\n",
    "    if p in first_time and p not in dublicate:\n",
    "        unique.append(i)\n",
    "print unique\n",
    "        \n",
    "    "
   ]
  },
  {
   "cell_type": "code",
   "execution_count": null,
   "metadata": {},
   "outputs": [],
   "source": [
    "duplicate = []\n",
    "first_time = []\n",
    "unique = []\n",
    "\n",
    "a= input(\"pavan\")\n",
    "\n",
    "for i in a:\n",
    "\n",
    "    if i not in first_time:\n",
    "\n",
    "        first_time.append(i)\n",
    "\n",
    "    else:\n",
    "        duplicate.append(i)\n",
    "\n",
    "for p in a:\n",
    "    if p in first_time and p not in duplicate:\n",
    "\n",
    "        unique.append(p)\n",
    "print(unique[0])\n"
   ]
  },
  {
   "cell_type": "code",
   "execution_count": null,
   "metadata": {},
   "outputs": [],
   "source": [
    "import time\n",
    "time.asctime()\n"
   ]
  },
  {
   "cell_type": "code",
   "execution_count": null,
   "metadata": {},
   "outputs": [],
   "source": [
    "import calendar\n",
    "print calendar.month(2000,4)"
   ]
  },
  {
   "cell_type": "code",
   "execution_count": null,
   "metadata": {},
   "outputs": [],
   "source": [
    "import calendar\n",
    "print calendar.month(2000,4)"
   ]
  },
  {
   "cell_type": "code",
   "execution_count": null,
   "metadata": {},
   "outputs": [],
   "source": [
    "import time\n",
    "time.time"
   ]
  },
  {
   "cell_type": "code",
   "execution_count": 8,
   "metadata": {},
   "outputs": [
    {
     "data": {
      "text/plain": [
       "'Pavan'"
      ]
     },
     "execution_count": 8,
     "metadata": {},
     "output_type": "execute_result"
    }
   ],
   "source": [
    "s=\"pavan\"\n",
    "s.capitalize()"
   ]
  },
  {
   "cell_type": "code",
   "execution_count": 9,
   "metadata": {},
   "outputs": [
    {
     "name": "stdout",
     "output_type": "stream",
     "text": [
      "2\n"
     ]
    }
   ],
   "source": [
    "print s.count('a')"
   ]
  },
  {
   "cell_type": "code",
   "execution_count": 10,
   "metadata": {},
   "outputs": [
    {
     "name": "stdout",
     "output_type": "stream",
     "text": [
      "True\n"
     ]
    }
   ],
   "source": [
    "print s.endswith(\"an\")"
   ]
  },
  {
   "cell_type": "code",
   "execution_count": 11,
   "metadata": {},
   "outputs": [
    {
     "data": {
      "text/plain": [
       "'Tue Jun 19 23:21:53 2018'"
      ]
     },
     "execution_count": 11,
     "metadata": {},
     "output_type": "execute_result"
    }
   ],
   "source": [
    "import time \n",
    "time.asctime()"
   ]
  },
  {
   "cell_type": "code",
   "execution_count": 12,
   "metadata": {},
   "outputs": [],
   "source": [
    "import calendar"
   ]
  },
  {
   "cell_type": "code",
   "execution_count": 14,
   "metadata": {},
   "outputs": [
    {
     "data": {
      "text/plain": [
       "'                                                       2019\\n\\n             January                                 February                                 March\\nMon  Tue  Wed  Thu  Fri  Sat  Sun       Mon  Tue  Wed  Thu  Fri  Sat  Sun       Mon  Tue  Wed  Thu  Fri  Sat  Sun\\n       1    2    3    4    5    6                             1    2    3                             1    2    3\\n  7    8    9   10   11   12   13         4    5    6    7    8    9   10         4    5    6    7    8    9   10\\n 14   15   16   17   18   19   20        11   12   13   14   15   16   17        11   12   13   14   15   16   17\\n 21   22   23   24   25   26   27        18   19   20   21   22   23   24        18   19   20   21   22   23   24\\n 28   29   30   31                       25   26   27   28                       25   26   27   28   29   30   31\\n\\n              April                                    May                                     June\\nMon  Tue  Wed  Thu  Fri  Sat  Sun       Mon  Tue  Wed  Thu  Fri  Sat  Sun       Mon  Tue  Wed  Thu  Fri  Sat  Sun\\n  1    2    3    4    5    6    7                   1    2    3    4    5                                  1    2\\n  8    9   10   11   12   13   14         6    7    8    9   10   11   12         3    4    5    6    7    8    9\\n 15   16   17   18   19   20   21        13   14   15   16   17   18   19        10   11   12   13   14   15   16\\n 22   23   24   25   26   27   28        20   21   22   23   24   25   26        17   18   19   20   21   22   23\\n 29   30                                 27   28   29   30   31                  24   25   26   27   28   29   30\\n\\n               July                                   August                                September\\nMon  Tue  Wed  Thu  Fri  Sat  Sun       Mon  Tue  Wed  Thu  Fri  Sat  Sun       Mon  Tue  Wed  Thu  Fri  Sat  Sun\\n  1    2    3    4    5    6    7                        1    2    3    4                                       1\\n  8    9   10   11   12   13   14         5    6    7    8    9   10   11         2    3    4    5    6    7    8\\n 15   16   17   18   19   20   21        12   13   14   15   16   17   18         9   10   11   12   13   14   15\\n 22   23   24   25   26   27   28        19   20   21   22   23   24   25        16   17   18   19   20   21   22\\n 29   30   31                            26   27   28   29   30   31             23   24   25   26   27   28   29\\n                                                                                 30\\n\\n             October                                 November                                December\\nMon  Tue  Wed  Thu  Fri  Sat  Sun       Mon  Tue  Wed  Thu  Fri  Sat  Sun       Mon  Tue  Wed  Thu  Fri  Sat  Sun\\n       1    2    3    4    5    6                             1    2    3                                       1\\n  7    8    9   10   11   12   13         4    5    6    7    8    9   10         2    3    4    5    6    7    8\\n 14   15   16   17   18   19   20        11   12   13   14   15   16   17         9   10   11   12   13   14   15\\n 21   22   23   24   25   26   27        18   19   20   21   22   23   24        16   17   18   19   20   21   22\\n 28   29   30   31                       25   26   27   28   29   30             23   24   25   26   27   28   29\\n                                                                                 30   31\\n'"
      ]
     },
     "execution_count": 14,
     "metadata": {},
     "output_type": "execute_result"
    }
   ],
   "source": [
    "calendar.calendar(2019,4)"
   ]
  },
  {
   "cell_type": "code",
   "execution_count": 17,
   "metadata": {},
   "outputs": [
    {
     "data": {
      "text/plain": [
       "True"
      ]
     },
     "execution_count": 17,
     "metadata": {},
     "output_type": "execute_result"
    }
   ],
   "source": [
    "calendar.isleap(2108)"
   ]
  },
  {
   "cell_type": "code",
   "execution_count": 18,
   "metadata": {},
   "outputs": [],
   "source": [
    "d={\"pavan\":1,\"yash\":2}"
   ]
  },
  {
   "cell_type": "code",
   "execution_count": 19,
   "metadata": {},
   "outputs": [
    {
     "name": "stdout",
     "output_type": "stream",
     "text": [
      "{'pavan': 1, 'yash': 2}\n"
     ]
    }
   ],
   "source": [
    "print d\n"
   ]
  },
  {
   "cell_type": "code",
   "execution_count": 20,
   "metadata": {},
   "outputs": [
    {
     "name": "stdout",
     "output_type": "stream",
     "text": [
      "['pavan', 'yash']\n"
     ]
    }
   ],
   "source": [
    "print d.keys()"
   ]
  },
  {
   "cell_type": "code",
   "execution_count": 21,
   "metadata": {},
   "outputs": [
    {
     "name": "stdout",
     "output_type": "stream",
     "text": [
      "[1, 2]\n"
     ]
    }
   ],
   "source": [
    "print d.values()"
   ]
  },
  {
   "cell_type": "code",
   "execution_count": 24,
   "metadata": {},
   "outputs": [
    {
     "ename": "NameError",
     "evalue": "name 'pavan' is not defined",
     "output_type": "error",
     "traceback": [
      "\u001b[1;31m---------------------------------------------------------------------------\u001b[0m",
      "\u001b[1;31mNameError\u001b[0m                                 Traceback (most recent call last)",
      "\u001b[1;32m<ipython-input-24-d12664daa1d2>\u001b[0m in \u001b[0;36m<module>\u001b[1;34m()\u001b[0m\n\u001b[1;32m----> 1\u001b[1;33m \u001b[1;32mprint\u001b[0m \u001b[0md\u001b[0m\u001b[1;33m[\u001b[0m\u001b[0mpavan\u001b[0m\u001b[1;33m]\u001b[0m\u001b[1;33m\u001b[0m\u001b[0m\n\u001b[0m",
      "\u001b[1;31mNameError\u001b[0m: name 'pavan' is not defined"
     ]
    }
   ],
   "source": [
    "print d[pavan]"
   ]
  },
  {
   "cell_type": "code",
   "execution_count": 25,
   "metadata": {},
   "outputs": [
    {
     "data": {
      "text/plain": [
       "1"
      ]
     },
     "execution_count": 25,
     "metadata": {},
     "output_type": "execute_result"
    }
   ],
   "source": [
    "d['pavan']"
   ]
  },
  {
   "cell_type": "code",
   "execution_count": 27,
   "metadata": {},
   "outputs": [
    {
     "data": {
      "text/plain": [
       "10"
      ]
     },
     "execution_count": 27,
     "metadata": {},
     "output_type": "execute_result"
    }
   ],
   "source": [
    "d.setdefault(\"pavank\",10)"
   ]
  },
  {
   "cell_type": "code",
   "execution_count": 28,
   "metadata": {},
   "outputs": [
    {
     "name": "stdout",
     "output_type": "stream",
     "text": [
      "{'pavan': 1, 'yash': 2, 'pavank': 10}\n"
     ]
    }
   ],
   "source": [
    "print d"
   ]
  },
  {
   "cell_type": "code",
   "execution_count": 29,
   "metadata": {},
   "outputs": [],
   "source": [
    "d.update({\"pavank\":10})"
   ]
  },
  {
   "cell_type": "code",
   "execution_count": 30,
   "metadata": {},
   "outputs": [
    {
     "data": {
      "text/plain": [
       "{'pavan': 1, 'pavank': 10, 'yash': 2}"
      ]
     },
     "execution_count": 30,
     "metadata": {},
     "output_type": "execute_result"
    }
   ],
   "source": [
    "d"
   ]
  },
  {
   "cell_type": "code",
   "execution_count": 1,
   "metadata": {},
   "outputs": [],
   "source": [
    "# find no of  characters,words,lines,\n",
    "# f=open(\"data.txt\",'r')\n",
    "# data=f.read()\n",
    "# print len(data)\n",
    "# print len(data.split())\n",
    "# print len(data.splitlines())"
   ]
  },
  {
   "cell_type": "code",
   "execution_count": 8,
   "metadata": {},
   "outputs": [
    {
     "name": "stdout",
     "output_type": "stream",
     "text": [
      "enter your age:10\n",
      "<type 'int'>\n",
      "not vote\n"
     ]
    }
   ],
   "source": [
    "a=int(raw_input(\"enter your age:\"))\n",
    "print type(a)\n",
    "if 18<=a:\n",
    "    print \"vote\"\n",
    "else:\n",
    "    print \"not vote\""
   ]
  },
  {
   "cell_type": "code",
   "execution_count": null,
   "metadata": {},
   "outputs": [
    {
     "name": "stdout",
     "output_type": "stream",
     "text": [
      "1:go to 1st floar \n",
      "2:go to 2nd\n",
      "3:3rd\n"
     ]
    }
   ],
   "source": [
    "print \"1:go to 1st floar \\n2:go to 2nd\\n3:3rd\"\n",
    "a=int(raw_input(\"enter number\"))\n",
    "if a==1:\n",
    "    print \"go to 1st\"\n",
    "elif a==2:\n",
    "    print \"2nd\"\n",
    "elif a==3:\n",
    "    print \"3dr\"\n",
    "else:\n",
    "    print \"select only 3 number\""
   ]
  },
  {
   "cell_type": "code",
   "execution_count": 4,
   "metadata": {},
   "outputs": [
    {
     "name": "stdout",
     "output_type": "stream",
     "text": [
      "[10, 4, 5]\n"
     ]
    }
   ],
   "source": [
    "# remove dublicate number in list\n",
    "l=[10,10,4,5]\n",
    "l1=[]\n",
    "for i in l:\n",
    "    if  i not in l1:\n",
    "        l1.append(i)\n",
    "print l1"
   ]
  },
  {
   "cell_type": "code",
   "execution_count": 1,
   "metadata": {},
   "outputs": [
    {
     "name": "stdout",
     "output_type": "stream",
     "text": [
      "('pk', 24)\n"
     ]
    }
   ],
   "source": [
    "class Abc:\n",
    "    def __init__(self,name,age):\n",
    "        self.name=name\n",
    "        self.age=age\n",
    "    def result(self):\n",
    "        return self.name,self.age\n",
    "a=Abc(\"pk\",24)\n",
    "print a.result()"
   ]
  },
  {
   "cell_type": "code",
   "execution_count": 5,
   "metadata": {},
   "outputs": [
    {
     "name": "stdout",
     "output_type": "stream",
     "text": [
      "Eating...\n",
      "Barking...\n"
     ]
    }
   ],
   "source": [
    "class Animal:   \n",
    "    def eat(self):  \n",
    "        print 'Eating...'  \n",
    "class Dog(Animal):     \n",
    "    def bark(self):  \n",
    "          print 'Barking...'  \n",
    "d=Dog()  \n",
    "d.eat()  \n",
    "d.bark()  "
   ]
  },
  {
   "cell_type": "code",
   "execution_count": 5,
   "metadata": {},
   "outputs": [],
   "source": [
    "# ve or -ve"
   ]
  },
  {
   "cell_type": "code",
   "execution_count": 8,
   "metadata": {},
   "outputs": [
    {
     "name": "stdout",
     "output_type": "stream",
     "text": [
      "n\n"
     ]
    }
   ],
   "source": [
    "l=-1\n",
    "if l>0:\n",
    "    print \"p\"\n",
    "else:\n",
    "    print \"n\""
   ]
  },
  {
   "cell_type": "code",
   "execution_count": 11,
   "metadata": {},
   "outputs": [
    {
     "name": "stdout",
     "output_type": "stream",
     "text": [
      "0\n"
     ]
    }
   ],
   "source": [
    "f=1\n",
    "for i in range(10):\n",
    "    f= f*i\n",
    "print f"
   ]
  },
  {
   "cell_type": "code",
   "execution_count": null,
   "metadata": {},
   "outputs": [],
   "source": []
  }
 ],
 "metadata": {
  "kernelspec": {
   "display_name": "Python 2",
   "language": "python",
   "name": "python2"
  },
  "language_info": {
   "codemirror_mode": {
    "name": "ipython",
    "version": 2
   },
   "file_extension": ".py",
   "mimetype": "text/x-python",
   "name": "python",
   "nbconvert_exporter": "python",
   "pygments_lexer": "ipython2",
   "version": "2.7.15"
  }
 },
 "nbformat": 4,
 "nbformat_minor": 2
}
