{
 "cells": [
  {
   "cell_type": "code",
   "execution_count": 5,
   "metadata": {},
   "outputs": [
    {
     "name": "stdout",
     "output_type": "stream",
     "text": [
      "hellcome to oopconcept\n",
      "20\n",
      "30\n",
      "end \n"
     ]
    }
   ],
   "source": [
    "print \"hellcome to oopconcept\"\n",
    "def fun():\n",
    "    print function#didn't execute bcz fun wont call\n",
    "class emp:#cclass \n",
    "    a=20\n",
    "    b=30\n",
    "    print a\n",
    "    print b\n",
    "    print \"end \""
   ]
  },
  {
   "cell_type": "code",
   "execution_count": null,
   "metadata": {},
   "outputs": [],
   "source": []
  },
  {
   "cell_type": "code",
   "execution_count": 2,
   "metadata": {},
   "outputs": [
    {
     "name": "stdout",
     "output_type": "stream",
     "text": [
      "hellcome to oopconcept\n",
      "20\n",
      "30\n",
      "end \n",
      "out side loop\n"
     ]
    }
   ],
   "source": [
    "print \"hellcome to oopconcept\"\n",
    "def fun():\n",
    "    print function#\n",
    "class emp:#cclass \n",
    "    a=20\n",
    "    b=30\n",
    "    c=40\n",
    "    print a\n",
    "    print b\n",
    "    print c\n",
    "\n",
    "    print \"end \"\n",
    "print \"out side loop\""
   ]
  },
  {
   "cell_type": "code",
   "execution_count": 3,
   "metadata": {},
   "outputs": [
    {
     "name": "stdout",
     "output_type": "stream",
     "text": [
      "hellcome to oopconcept\n",
      "20\n",
      "30\n",
      "40\n",
      "end \n",
      "out side loop\n"
     ]
    },
    {
     "ename": "NameError",
     "evalue": "name 'c' is not defined",
     "output_type": "error",
     "traceback": [
      "\u001b[1;31m---------------------------------------------------------------------------\u001b[0m",
      "\u001b[1;31mNameError\u001b[0m                                 Traceback (most recent call last)",
      "\u001b[1;32m<ipython-input-3-1601fc23a750>\u001b[0m in \u001b[0;36m<module>\u001b[1;34m()\u001b[0m\n\u001b[0;32m     12\u001b[0m     \u001b[1;32mprint\u001b[0m \u001b[1;34m\"end \"\u001b[0m\u001b[1;33m\u001b[0m\u001b[0m\n\u001b[0;32m     13\u001b[0m \u001b[1;32mprint\u001b[0m \u001b[1;34m\"out side loop\"\u001b[0m\u001b[1;33m\u001b[0m\u001b[0m\n\u001b[1;32m---> 14\u001b[1;33m \u001b[1;32mprint\u001b[0m \u001b[0mc\u001b[0m\u001b[1;33m\u001b[0m\u001b[0m\n\u001b[0m",
      "\u001b[1;31mNameError\u001b[0m: name 'c' is not defined"
     ]
    }
   ],
   "source": [
    "print \"hellcome to oopconcept\"\n",
    "def fun():\n",
    "    print function\n",
    "class emp:#cclass \n",
    "    a=20\n",
    "    b=30\n",
    "    c=40\n",
    "    print a\n",
    "    print b\n",
    "    print c# inside class variables \n",
    "\n",
    "    print \"end \"\n",
    "print \"out side loop\"\n",
    "print c#inside class variables did not call the out side of the class"
   ]
  },
  {
   "cell_type": "code",
   "execution_count": 5,
   "metadata": {},
   "outputs": [
    {
     "name": "stdout",
     "output_type": "stream",
     "text": [
      "hellcome to oopconcept\n",
      "20\n",
      "30\n",
      "40\n",
      "hiii pavan\n",
      "end \n",
      "out side loop\n"
     ]
    }
   ],
   "source": [
    "print \"hellcome to oopconcept\"\n",
    "f=\"hiii pavan\"\n",
    "def fun():\n",
    "    print function#\n",
    "class emp:#cclass \n",
    "    a=20\n",
    "    b=30\n",
    "    c=40\n",
    "    print a\n",
    "    print b\n",
    "    print c# inside class variables \n",
    "    print f# it is  declared out side call but we can user inside class also\n",
    "\n",
    "    print \"end \"\n",
    "print \"out side loop\"\n",
    "#print c#inside class variables did not call the out side the class"
   ]
  },
  {
   "cell_type": "code",
   "execution_count": 8,
   "metadata": {},
   "outputs": [
    {
     "name": "stdout",
     "output_type": "stream",
     "text": [
      "hellcome to oopconcept\n",
      "20\n",
      "30\n",
      "40\n",
      "wellcome to inside class method\n",
      "end \n",
      "out side loop\n"
     ]
    }
   ],
   "source": [
    "print \"hellcome to oopconcept\"\n",
    "def fun():\n",
    "    print function#didnot excute bcz fun wont call\n",
    "class emp:#cclass \n",
    "    a=20\n",
    "    b=30\n",
    "    c=40\n",
    "    print a\n",
    "    print b\n",
    "    print c# inside class variables \n",
    "    def oop():\n",
    "        print \"wellcome to inside class method\"\n",
    "    oop()\n",
    "\n",
    "    print \"end \"\n",
    "print \"out side loop\"\n",
    "#print c#inside class variables did not call the out side the class"
   ]
  },
  {
   "cell_type": "code",
   "execution_count": 9,
   "metadata": {},
   "outputs": [
    {
     "name": "stdout",
     "output_type": "stream",
     "text": [
      "hellcome to oopconcept\n",
      "20\n",
      "30\n",
      "40\n"
     ]
    },
    {
     "ename": "NameError",
     "evalue": "name 'oop' is not defined",
     "output_type": "error",
     "traceback": [
      "\u001b[1;31m---------------------------------------------------------------------------\u001b[0m",
      "\u001b[1;31mNameError\u001b[0m                                 Traceback (most recent call last)",
      "\u001b[1;32m<ipython-input-9-d98d49f15d11>\u001b[0m in \u001b[0;36m<module>\u001b[1;34m()\u001b[0m\n\u001b[0;32m     11\u001b[0m     \u001b[1;32mdef\u001b[0m \u001b[0moop\u001b[0m\u001b[1;33m(\u001b[0m\u001b[1;33m)\u001b[0m\u001b[1;33m:\u001b[0m\u001b[1;33m\u001b[0m\u001b[0m\n\u001b[0;32m     12\u001b[0m         \u001b[1;32mprint\u001b[0m \u001b[1;34m\"wellcome to inside class method\"\u001b[0m\u001b[1;33m\u001b[0m\u001b[0m\n\u001b[1;32m---> 13\u001b[1;33m \u001b[0moop\u001b[0m\u001b[1;33m(\u001b[0m\u001b[1;33m)\u001b[0m\u001b[1;33m\u001b[0m\u001b[0m\n\u001b[0m\u001b[0;32m     14\u001b[0m \u001b[1;33m\u001b[0m\u001b[0m\n\u001b[0;32m     15\u001b[0m \u001b[1;32mprint\u001b[0m \u001b[1;34m\"out side loop\"\u001b[0m\u001b[1;33m\u001b[0m\u001b[0m\n",
      "\u001b[1;31mNameError\u001b[0m: name 'oop' is not defined"
     ]
    }
   ],
   "source": [
    "print \"hellcome to oopconcept\"\n",
    "def fun():\n",
    "    print function#didnot excute bcz fun wont call\n",
    "class emp:#cclass \n",
    "    a=20\n",
    "    b=30\n",
    "    c=40\n",
    "    print a\n",
    "    print b\n",
    "    print c# inside class variables \n",
    "    def oop():\n",
    "        print \"wellcome to inside class method\"\n",
    "oop()# this method declared only inside class to cll only inside call \n",
    "\n",
    "print \"out side loop\"\n",
    "#print c#inside class variables did not call the out side the class"
   ]
  },
  {
   "cell_type": "code",
   "execution_count": 11,
   "metadata": {},
   "outputs": [
    {
     "name": "stdout",
     "output_type": "stream",
     "text": [
      "hellcome to oopconcept\n",
      "20\n",
      "30\n",
      "40\n",
      "wellcome to inside class method\n",
      "------\n",
      "end class \n",
      "######\n",
      "out side class\n",
      "inside function\n"
     ]
    }
   ],
   "source": [
    "print \"hellcome to oopconcept\"\n",
    "def fun():\n",
    "    print \"inside function\"\n",
    "    #didnot excute bcz fun wont call\n",
    "class emp:#cclass \n",
    "    a=20\n",
    "    b=30\n",
    "    c=40\n",
    "    print a\n",
    "    print b\n",
    "    print c# inside class variables \n",
    "    def oop():\n",
    "        print \"wellcome to inside class method\"\n",
    "        print\"------\"\n",
    "    oop()\n",
    "\n",
    "    print \"end class \"\n",
    "print \"######\"\n",
    "print \"out side class\"\n",
    "\n",
    "fun()\n",
    "#print c#inside class variables did not call the out side the class"
   ]
  },
  {
   "cell_type": "code",
   "execution_count": 10,
   "metadata": {},
   "outputs": [
    {
     "name": "stdout",
     "output_type": "stream",
     "text": [
      "wellcome oops concept\n",
      "inside class\n",
      "out side function\n",
      "name out side class pavan\n"
     ]
    }
   ],
   "source": [
    "print \"wellcome oops concept\"\n",
    "def fun():\n",
    "    print \"out side function\"\n",
    "class student:\n",
    "    print \"inside class\"\n",
    "    name=\"pavan\"\n",
    "    age=23\n",
    "    def fun1(a,b):\n",
    "        print \"inside class fun\"\n",
    "        print a\n",
    "        print b\n",
    "fun()\n",
    "print \"name out side class\" ,student.name# to print inside class atributes call to the class name.atributes\n",
    "        "
   ]
  },
  {
   "cell_type": "code",
   "execution_count": 22,
   "metadata": {},
   "outputs": [
    {
     "name": "stdout",
     "output_type": "stream",
     "text": [
      "inside class\n",
      "name out side class pavan\n"
     ]
    },
    {
     "ename": "TypeError",
     "evalue": "unbound method fun1() must be called with student instance as first argument (got int instance instead)",
     "output_type": "error",
     "traceback": [
      "\u001b[1;31m---------------------------------------------------------------------------\u001b[0m",
      "\u001b[1;31mTypeError\u001b[0m                                 Traceback (most recent call last)",
      "\u001b[1;32m<ipython-input-22-5315bf151301>\u001b[0m in \u001b[0;36m<module>\u001b[1;34m()\u001b[0m\n\u001b[0;32m      8\u001b[0m         \u001b[1;32mprint\u001b[0m \u001b[0mb\u001b[0m\u001b[1;33m\u001b[0m\u001b[0m\n\u001b[0;32m      9\u001b[0m \u001b[1;32mprint\u001b[0m \u001b[1;34m\"name out side class\"\u001b[0m \u001b[1;33m,\u001b[0m\u001b[0mstudent\u001b[0m\u001b[1;33m.\u001b[0m\u001b[0mname\u001b[0m\u001b[1;31m# to print inside class atributes call to the class name.atributes.\u001b[0m\u001b[1;33m\u001b[0m\u001b[0m\n\u001b[1;32m---> 10\u001b[1;33m \u001b[0mstudent\u001b[0m\u001b[1;33m.\u001b[0m\u001b[0mfun1\u001b[0m\u001b[1;33m(\u001b[0m\u001b[1;36m10\u001b[0m\u001b[1;33m,\u001b[0m\u001b[1;36m20\u001b[0m\u001b[1;33m)\u001b[0m\u001b[1;33m\u001b[0m\u001b[0m\n\u001b[0m\u001b[0;32m     11\u001b[0m \u001b[1;33m\u001b[0m\u001b[0m\n",
      "\u001b[1;31mTypeError\u001b[0m: unbound method fun1() must be called with student instance as first argument (got int instance instead)"
     ]
    }
   ],
   "source": [
    "\n",
    "class student:\n",
    "    print \"inside class\"\n",
    "    name=\"pavan\"\n",
    "    def fun1(a,b):\n",
    "        print \"inside class \"\n",
    "        print a\n",
    "        print b\n",
    "print \"name out side class\" ,student.name# to print inside class atributes call to the class name.atributes.\n",
    "student.fun1(10,20)\n",
    "        "
   ]
  },
  {
   "cell_type": "code",
   "execution_count": 23,
   "metadata": {},
   "outputs": [
    {
     "name": "stdout",
     "output_type": "stream",
     "text": [
      "inside class\n",
      "name out side class pavan\n",
      "inside class \n",
      "a: <__main__.student instance at 0x0000000006F82D08>\n",
      "b 20\n"
     ]
    }
   ],
   "source": [
    "\n",
    "class student:\n",
    "    print \"inside class\"\n",
    "    name=\"pavan\"\n",
    "    def fun1(a,b):\n",
    "        print \"inside class \"\n",
    "        print \"a:\",a\n",
    "        print \"b\",b\n",
    "print \"name out side class\" ,student.name# to print inside class atributes call to the class name.atributes.\n",
    "st=student()\n",
    "student.fun1(st,20)"
   ]
  },
  {
   "cell_type": "code",
   "execution_count": 7,
   "metadata": {},
   "outputs": [
    {
     "name": "stdout",
     "output_type": "stream",
     "text": [
      "inside class\n",
      " to call class instance or data object student name pavan\n",
      "inside class  print a,b\n",
      "a: <__main__.student instance at 0x0000000006925B48>\n",
      "b 20\n"
     ]
    }
   ],
   "source": [
    "class student:\n",
    "    print \"inside class\"\n",
    "    name=\"pavan\"\n",
    "    def fun1(a,b):\n",
    "        print \"inside class  print a,b\"\n",
    "        print \"a:\",a\n",
    "        print \"b\",b\n",
    "#print \"name out side class\" ,student.name# to print inside class atributes call to the class name.atributes.\n",
    "st=student()\n",
    "print \" to call class instance or data object student name\",st.name\n",
    "student.fun1(st,20)"
   ]
  },
  {
   "cell_type": "code",
   "execution_count": 32,
   "metadata": {},
   "outputs": [
    {
     "name": "stdout",
     "output_type": "stream",
     "text": [
      "('pavan', 24)\n",
      "('su', 25)\n"
     ]
    }
   ],
   "source": [
    "class Student:\n",
    "    def data(self,name,age):\n",
    "        self.name=name\n",
    "        self.age=age\n",
    "    def getdata(self):\n",
    "        return self.name,self.age\n",
    "st=Student()\n",
    "st.data(\"pavan\",24)\n",
    "st1=Student()\n",
    "st1.data(\"su\",25)\n",
    "print st.getdata()\n",
    "print st1.getdata()\n",
    "        "
   ]
  },
  {
   "cell_type": "code",
   "execution_count": 33,
   "metadata": {},
   "outputs": [
    {
     "ename": "TypeError",
     "evalue": "data() takes exactly 3 arguments (1 given)",
     "output_type": "error",
     "traceback": [
      "\u001b[1;31m---------------------------------------------------------------------------\u001b[0m",
      "\u001b[1;31mTypeError\u001b[0m                                 Traceback (most recent call last)",
      "\u001b[1;32m<ipython-input-33-903da0b57a34>\u001b[0m in \u001b[0;36m<module>\u001b[1;34m()\u001b[0m\n\u001b[0;32m      8\u001b[0m \u001b[0mst\u001b[0m\u001b[1;33m.\u001b[0m\u001b[0mdata\u001b[0m\u001b[1;33m(\u001b[0m\u001b[1;34m\"pavan\"\u001b[0m\u001b[1;33m,\u001b[0m\u001b[1;36m24\u001b[0m\u001b[1;33m)\u001b[0m\u001b[1;33m\u001b[0m\u001b[0m\n\u001b[0;32m      9\u001b[0m \u001b[0mst1\u001b[0m\u001b[1;33m=\u001b[0m\u001b[0mStudent\u001b[0m\u001b[1;33m(\u001b[0m\u001b[1;33m)\u001b[0m\u001b[1;33m\u001b[0m\u001b[0m\n\u001b[1;32m---> 10\u001b[1;33m \u001b[0mst1\u001b[0m\u001b[1;33m.\u001b[0m\u001b[0mdata\u001b[0m\u001b[1;33m(\u001b[0m\u001b[1;33m)\u001b[0m\u001b[1;33m\u001b[0m\u001b[0m\n\u001b[0m\u001b[0;32m     11\u001b[0m \u001b[1;32mprint\u001b[0m \u001b[0mst\u001b[0m\u001b[1;33m.\u001b[0m\u001b[0mgetdata\u001b[0m\u001b[1;33m(\u001b[0m\u001b[1;33m)\u001b[0m\u001b[1;33m\u001b[0m\u001b[0m\n\u001b[0;32m     12\u001b[0m \u001b[1;32mprint\u001b[0m \u001b[0mst1\u001b[0m\u001b[1;33m.\u001b[0m\u001b[0mgetdata\u001b[0m\u001b[1;33m(\u001b[0m\u001b[1;33m)\u001b[0m\u001b[1;33m\u001b[0m\u001b[0m\n",
      "\u001b[1;31mTypeError\u001b[0m: data() takes exactly 3 arguments (1 given)"
     ]
    }
   ],
   "source": [
    "class Student:\n",
    "    def data(self,name,age):\n",
    "        self.name=name\n",
    "        self.age=age\n",
    "    def getdata(self):\n",
    "        return self.name,self.age\n",
    "st=Student()\n",
    "st.data(\"pavan\",24)\n",
    "st1=Student()\n",
    "st1.data()\n",
    "print st.getdata()\n",
    "print st1.getdata()\n",
    "        "
   ]
  },
  {
   "cell_type": "code",
   "execution_count": 34,
   "metadata": {},
   "outputs": [
    {
     "name": "stdout",
     "output_type": "stream",
     "text": [
      "this is class\n",
      "\n"
     ]
    }
   ],
   "source": [
    "class Student:\n",
    "    print \"this is class\"\n",
    "    def __init__():# did not class this mwthod\n",
    "        # st2:this is a  constructor,to intialize the data while creating an instance\n",
    "       # step1: It will call __new__. what __new__ will do?. __new__ creates an instance and returns.\n",
    "\n",
    "        print \"hello init function\"\n",
    "    def getdata(self):\n",
    "        return self.name,self.age\n",
    "print \n"
   ]
  },
  {
   "cell_type": "code",
   "execution_count": 37,
   "metadata": {},
   "outputs": [
    {
     "name": "stdout",
     "output_type": "stream",
     "text": [
      "this is class\n",
      "hello init function\n"
     ]
    }
   ],
   "source": [
    "class Student:\n",
    "    print \"this is class\"\n",
    "    def __init__(self):# did not class this mwthod\n",
    "        print \"hello init function\"\n",
    "st=Student()\n"
   ]
  },
  {
   "cell_type": "code",
   "execution_count": 39,
   "metadata": {},
   "outputs": [
    {
     "name": "stdout",
     "output_type": "stream",
     "text": [
      "this is class\n",
      "hello init function\n"
     ]
    },
    {
     "data": {
      "text/plain": [
       "('pavan', 24, 'uok')"
      ]
     },
     "execution_count": 39,
     "metadata": {},
     "output_type": "execute_result"
    }
   ],
   "source": [
    "class Student:\n",
    "    print \"this is class\"\n",
    "    def __init__(self,name,age,add):# did not class this mwthod\n",
    "        # self  is reference variable  which is always pointing to cuurent object\n",
    "        print \"hello init function\"\n",
    "        self.name=name\n",
    "        self.age=age\n",
    "        self.add=add\n",
    "    def getdata(self):\n",
    "        return self.name,self.age,self.add\n",
    "st=Student(\"pavan\",24,\"uok\")\n",
    "st.getdata()\n",
    " \n"
   ]
  },
  {
   "cell_type": "code",
   "execution_count": 44,
   "metadata": {},
   "outputs": [
    {
     "name": "stdout",
     "output_type": "stream",
     "text": [
      "this is class\n",
      "hello init function\n",
      "hello init function\n",
      "('pavan', 24, 'uok')\n",
      "('yashu', 18, 'hyd')\n"
     ]
    }
   ],
   "source": [
    "class Student:\n",
    "    print \"this is class\"\n",
    "    def __init__(self,name,age,add):# did not class this mwthod\n",
    "        print \"hello init function\"\n",
    "        self.name=name # inside constoutr useing self\n",
    "        self.age=age\n",
    "        self.add=add\n",
    "        return None\n",
    "    def getdata(self):\n",
    "        return self.name,self.age,self.add\n",
    "st=Student(\"pavan\",24,\"uok\")\n",
    "s11=Student(\"yashu\",18,\"hyd\")# varied from object to obect \n",
    "\n",
    "print st.getdata()\n",
    "print s11.getdata()\n",
    " \n"
   ]
  },
  {
   "cell_type": "code",
   "execution_count": 45,
   "metadata": {},
   "outputs": [
    {
     "name": "stdout",
     "output_type": "stream",
     "text": [
      "this is class\n",
      "hello init function\n"
     ]
    },
    {
     "ename": "TypeError",
     "evalue": "__init__() should return None",
     "output_type": "error",
     "traceback": [
      "\u001b[1;31m---------------------------------------------------------------------------\u001b[0m",
      "\u001b[1;31mTypeError\u001b[0m                                 Traceback (most recent call last)",
      "\u001b[1;32m<ipython-input-45-5749bf342aa9>\u001b[0m in \u001b[0;36m<module>\u001b[1;34m()\u001b[0m\n\u001b[0;32m      9\u001b[0m     \u001b[1;32mdef\u001b[0m \u001b[0mgetdata\u001b[0m\u001b[1;33m(\u001b[0m\u001b[0mself\u001b[0m\u001b[1;33m)\u001b[0m\u001b[1;33m:\u001b[0m\u001b[1;33m\u001b[0m\u001b[0m\n\u001b[0;32m     10\u001b[0m         \u001b[1;32mreturn\u001b[0m \u001b[0mself\u001b[0m\u001b[1;33m.\u001b[0m\u001b[0mname\u001b[0m\u001b[1;33m,\u001b[0m\u001b[0mself\u001b[0m\u001b[1;33m.\u001b[0m\u001b[0mage\u001b[0m\u001b[1;33m,\u001b[0m\u001b[0mself\u001b[0m\u001b[1;33m.\u001b[0m\u001b[0madd\u001b[0m\u001b[1;33m\u001b[0m\u001b[0m\n\u001b[1;32m---> 11\u001b[1;33m \u001b[0mst\u001b[0m\u001b[1;33m=\u001b[0m\u001b[0mStudent\u001b[0m\u001b[1;33m(\u001b[0m\u001b[1;34m\"pavan\"\u001b[0m\u001b[1;33m,\u001b[0m\u001b[1;36m24\u001b[0m\u001b[1;33m,\u001b[0m\u001b[1;34m\"uok\"\u001b[0m\u001b[1;33m)\u001b[0m\u001b[1;33m\u001b[0m\u001b[0m\n\u001b[0m\u001b[0;32m     12\u001b[0m \u001b[0ms11\u001b[0m\u001b[1;33m=\u001b[0m\u001b[0mStudent\u001b[0m\u001b[1;33m(\u001b[0m\u001b[1;34m\"yashu\"\u001b[0m\u001b[1;33m,\u001b[0m\u001b[1;36m18\u001b[0m\u001b[1;33m,\u001b[0m\u001b[1;34m\"hyd\"\u001b[0m\u001b[1;33m)\u001b[0m\u001b[1;33m\u001b[0m\u001b[0m\n\u001b[0;32m     13\u001b[0m \u001b[1;33m\u001b[0m\u001b[0m\n",
      "\u001b[1;31mTypeError\u001b[0m: __init__() should return None"
     ]
    }
   ],
   "source": [
    "class Student:\n",
    "    print \"this is class\"\n",
    "    def __init__(self,name,age,add):# did not class this mwthod\n",
    "        print \"hello init function\"\n",
    "        self.name=name\n",
    "        self.age=age\n",
    "        self.add=add\n",
    "        return \"hello\"\n",
    "    def getdata(self):\n",
    "        return self.name,self.age,self.add\n",
    "st=Student(\"pavan\",24,\"uok\")\n",
    "s11=Student(\"yashu\",18,\"hyd\")\n",
    "\n",
    "print st.getdata()\n",
    "print s11.getdata()\n",
    " \n"
   ]
  },
  {
   "cell_type": "code",
   "execution_count": 7,
   "metadata": {},
   "outputs": [
    {
     "name": "stdout",
     "output_type": "stream",
     "text": [
      " dogwalks with 4legs\n"
     ]
    }
   ],
   "source": [
    "class Animal:\n",
    "    #static variableeg\n",
    "    legs=4\n",
    "    @classmethod# inside method body if we r jusing static variable then it go for classmethod\n",
    "    # we can cll class name or object refrence\n",
    "    def wall(cls,name):\n",
    "        print '{}walks with {}legs'.format(name,cls.legs)\n",
    "Animal.wall('dog')"
   ]
  },
  {
   "cell_type": "code",
   "execution_count": null,
   "metadata": {},
   "outputs": [],
   "source": [
    "import sys\n",
    "class Customer:\n",
    "    bank=\"pavan\"\n",
    "    def __init__(self,name,balance=0):\n",
    "        self.name=name\n",
    "        self.balance=balance\n",
    "    def deposit(self,amt):\n",
    "        self.balance=self.balance+amt\n",
    "        print \"after deposit balance\",self.balance\n",
    "    def withdra(self,amt):\n",
    "        if amt>self.balance:\n",
    "            print \"insaficent found con not operation\"\n",
    "            sys.exit()\n",
    "        self.balance=self.balance-amt\n",
    "        print \"after withdra balance\",self.balance\n",
    "\n",
    "print \"wellcome to\",Customer.bank\n",
    "name=input(\"enter name\")\n",
    "c=Customer(name)\n",
    "while True:\n",
    "    \n",
    "    print \"d-deposit\\nw-withdra\\n e-exit\"\n",
    "    operation=input(\"enter ammount:\")\n",
    "    if operation=='d' or operation=='D':\n",
    "        amt=float(input(\"enter ammount\"))\n",
    "        c.deposit(amt)\n"
   ]
  },
  {
   "cell_type": "code",
   "execution_count": 1,
   "metadata": {},
   "outputs": [
    {
     "name": "stdout",
     "output_type": "stream",
     "text": [
      "hh\n"
     ]
    }
   ],
   "source": [
    "print \"hh\"\n"
   ]
  },
  {
   "cell_type": "code",
   "execution_count": 2,
   "metadata": {},
   "outputs": [
    {
     "name": "stdout",
     "output_type": "stream",
     "text": [
      "this is class\n",
      "hello this is class\n",
      "hello init function\n",
      "hello init function\n",
      "10\n",
      "20\n",
      "50\n",
      "60\n",
      "('pavan', 24, 'uok')\n",
      "('yashu', 18, 'hyd')\n"
     ]
    }
   ],
   "source": [
    "class Student:\n",
    "    print \"this is class\"\n",
    "    def __init__(self,name,age,add):# did not class this mwthod\n",
    "        print \"hello init function\"\n",
    "        self.name=name\n",
    "        self.age=age\n",
    "        self.add=add\n",
    "        return None\n",
    "    def getdata(self):\n",
    "        return self.name,self.age,self.add\n",
    "    @staticmethod\n",
    "    def static(a,b):#\n",
    "        print a\n",
    "        print b\n",
    "    @classmethod\n",
    "    def ma(cls):\n",
    "        print \"hello this is class\"\n",
    "Student.ma()\n",
    "\n",
    "\n",
    "st=Student(\"pavan\",24,\"uok\")\n",
    "s11=Student(\"yashu\",18,\"hyd\")\n",
    "st.static(10,20)\n",
    "Student.static(50,60)\n",
    "\n",
    "print st.getdata()\n",
    "print s11.getdata()\n",
    " \n"
   ]
  },
  {
   "cell_type": "code",
   "execution_count": null,
   "metadata": {},
   "outputs": [],
   "source": [
    "class Animal:\n",
    "    # sattic vari"
   ]
  },
  {
   "cell_type": "code",
   "execution_count": 50,
   "metadata": {},
   "outputs": [
    {
     "name": "stdout",
     "output_type": "stream",
     "text": [
      "this is class\n",
      "hello init function\n",
      "hello init function\n",
      "10\n",
      "20\n",
      "50\n",
      "60\n",
      "hello this is class\n",
      "hello this is class\n",
      "('pavan', 24, 'uok')\n",
      "('yashu', 18, 'hyd')\n"
     ]
    }
   ],
   "source": [
    "class Student:\n",
    "    print \"this is class\"\n",
    "    def __init__(self,name,age,add):# did not class this mwthod\n",
    "        print \"hello init function\"\n",
    "        self.name=name\n",
    "        self.age=age\n",
    "        self.add=add\n",
    "        return None\n",
    "    def getdata(self):\n",
    "        return self.name,self.age,self.add\n",
    "    @staticmethod\n",
    "    def static(a,b):#\n",
    "        print a\n",
    "        print b\n",
    "    @classmethod\n",
    "    def ma(cls):\n",
    "        print \"hello this is class\"\n",
    "\n",
    "\n",
    "st=Student(\"pavan\",24,\"uok\")\n",
    "s11=Student(\"yashu\",18,\"hyd\")\n",
    "st.static(10,20)\n",
    "Student.static(50,60)\n",
    "Student.ma()\n",
    "st.ma()\n",
    "\n",
    "print st.getdata()\n",
    "print s11.getdata()\n",
    " \n"
   ]
  },
  {
   "cell_type": "code",
   "execution_count": 52,
   "metadata": {},
   "outputs": [
    {
     "name": "stdout",
     "output_type": "stream",
     "text": [
      "('p1', 'ad1', 23456, 'KHYAATHI')\n",
      "('p1', 'ad1', 23456, 'KHYAATHI')\n",
      "class with class method\n"
     ]
    },
    {
     "ename": "TypeError",
     "evalue": "unbound method clm() must be called with Emp instance as first argument (got nothing instead)",
     "output_type": "error",
     "traceback": [
      "\u001b[1;31m---------------------------------------------------------------------------\u001b[0m",
      "\u001b[1;31mTypeError\u001b[0m                                 Traceback (most recent call last)",
      "\u001b[1;32m<ipython-input-52-b1437c8f097d>\u001b[0m in \u001b[0;36m<module>\u001b[1;34m()\u001b[0m\n\u001b[0;32m     30\u001b[0m \u001b[1;32mprint\u001b[0m \u001b[1;34m\"class with class method\"\u001b[0m\u001b[1;33m\u001b[0m\u001b[0m\n\u001b[0;32m     31\u001b[0m \u001b[1;33m\u001b[0m\u001b[0m\n\u001b[1;32m---> 32\u001b[1;33m \u001b[0mEmp\u001b[0m\u001b[1;33m.\u001b[0m\u001b[0mclm\u001b[0m\u001b[1;33m(\u001b[0m\u001b[1;33m)\u001b[0m\u001b[1;33m\u001b[0m\u001b[0m\n\u001b[0m\u001b[0;32m     33\u001b[0m \u001b[0mp1\u001b[0m\u001b[1;33m.\u001b[0m\u001b[0mclm\u001b[0m\u001b[1;33m(\u001b[0m\u001b[1;33m)\u001b[0m\u001b[1;33m\u001b[0m\u001b[0m\n\u001b[0;32m     34\u001b[0m \u001b[1;32mprint\u001b[0m \u001b[1;34m\"class with static method\"\u001b[0m\u001b[1;33m\u001b[0m\u001b[0m\n",
      "\u001b[1;31mTypeError\u001b[0m: unbound method clm() must be called with Emp instance as first argument (got nothing instead)"
     ]
    }
   ],
   "source": [
    "class Emp:\n",
    "    company=\"KHYAATHI\"\n",
    "    def __init__(self,name,address,sal):\n",
    "        self.name=name\n",
    "        self.address=address\n",
    "        self.sal=sal\n",
    "        \n",
    "    def inst(self):\n",
    "        print \"this is instance method\"\n",
    "        \n",
    "    def get(self):\n",
    "        return self.name, self.address, self.sal,self.company\n",
    "    \n",
    "#     @classmethod\n",
    "#     def classmethod_dup(cls):\n",
    "#         print \"this is class method\"\n",
    "#     @classmethod\n",
    "    def clm(cls):\n",
    "        print \"this is class method\"\n",
    "        \n",
    "    @staticmethod\n",
    "    def stam(a,b):\n",
    "        print \"this is static method\"\n",
    "        print \"a=%s, b=%s\"%(a,b)\n",
    "        print \"End static method\"\n",
    "p1=Emp(\"p1\",\"ad1\",23456)\n",
    "print Emp.get(p1)\n",
    "print p1.get()\n",
    "#print Emp.get()\n",
    "print \"class with class method\"\n",
    "\n",
    "Emp.clm()\n",
    "p1.clm()\n",
    "print \"class with static method\"\n",
    "Emp.stam(10,20)\n",
    "p1.stam(100,200)\n",
    "print Emp.company\n",
    "#print Emp.name\n",
    "print p1.company\n"
   ]
  },
  {
   "cell_type": "code",
   "execution_count": 55,
   "metadata": {},
   "outputs": [
    {
     "name": "stdout",
     "output_type": "stream",
     "text": [
      "this is c2 class\n",
      "hello thiss c1 class\n"
     ]
    }
   ],
   "source": [
    "## inheritance\n",
    "# accessing the parent calss methods and attributes in to child class using child class instance only\n",
    "class c1:\n",
    "    def op1(self):\n",
    "        print \"hello thiss c1 class\"\n",
    "class c2(c1):\n",
    "    def op2(self):\n",
    "        \n",
    "        print \"this is c2 class\"\n",
    "    \n",
    "    def oparation(self):\n",
    "        self.op2()\n",
    "        self.op1()\n",
    "c2=c2()\n",
    "c2.oparation()\n",
    "        \n",
    "        "
   ]
  },
  {
   "cell_type": "code",
   "execution_count": 56,
   "metadata": {},
   "outputs": [
    {
     "name": "stdout",
     "output_type": "stream",
     "text": [
      "this is c2 class\n",
      "this is c2 class op1 function\n"
     ]
    }
   ],
   "source": [
    "## inheritance\n",
    "# accessing the parent calss methods and attributes in to child class using child class instance only\n",
    "class c1:\n",
    "    def op1(self):\n",
    "        print \"hello thiss c1 class\"\n",
    "class c2(c1):\n",
    "    def op2(self):\n",
    "        \n",
    "        print \"this is c2 class\"\n",
    "    def op1(self):\n",
    "        print \"this is c2 class op1 function\"\n",
    "    \n",
    "    def oparation(self):\n",
    "        self.op2()\n",
    "        self.op1()\n",
    "c2=c2()\n",
    "c2.oparation()\n",
    "        \n",
    "        "
   ]
  },
  {
   "cell_type": "code",
   "execution_count": 59,
   "metadata": {},
   "outputs": [
    {
     "name": "stdout",
     "output_type": "stream",
     "text": [
      "this this college\n",
      "this is Employe\n",
      "this is student class\n"
     ]
    }
   ],
   "source": [
    "class person:#multilevel\n",
    "    def student(self):\n",
    "        print \"this is student class\"\n",
    "class emp(person):\n",
    "    def Employe(self):\n",
    "        print \"this is Employe\"\n",
    "class college(emp):\n",
    "    def fun(self):\n",
    "        print \"this this college\"\n",
    "c=college()\n",
    "c.fun()\n",
    "c.Employe()\n",
    "c.student()"
   ]
  },
  {
   "cell_type": "code",
   "execution_count": 61,
   "metadata": {},
   "outputs": [
    {
     "name": "stdout",
     "output_type": "stream",
     "text": [
      "this this child\n",
      "this is mother\n",
      "this is father class\n"
     ]
    }
   ],
   "source": [
    "class father:#multiple\n",
    "    def student(self):\n",
    "        print \"this is father class\"\n",
    "class mother(person):\n",
    "    def Employe(self):\n",
    "        print \"this is mother\"\n",
    "class child(father,mother):\n",
    "    def fun(self):\n",
    "        print \"this this child\"\n",
    "c=child()\n",
    "c.fun()\n",
    "c.Employe()\n",
    "c.student()"
   ]
  },
  {
   "cell_type": "code",
   "execution_count": 62,
   "metadata": {},
   "outputs": [
    {
     "name": "stdout",
     "output_type": "stream",
     "text": [
      "nokia 725\n"
     ]
    }
   ],
   "source": [
    "# method overriding\n",
    "class A:\n",
    "    def nokia(self):\n",
    "        print \"nokia 625\"\n",
    "class B(A):\n",
    "    def nokia(self):\n",
    "        print \"nokia 725\"\n",
    "b=B()\n",
    "b.nokia()"
   ]
  },
  {
   "cell_type": "code",
   "execution_count": 66,
   "metadata": {},
   "outputs": [
    {
     "name": "stdout",
     "output_type": "stream",
     "text": [
      "update\n",
      "drive a car\n"
     ]
    }
   ],
   "source": [
    "#encapsulation\n",
    "class car:\n",
    "    def __init__(self):\n",
    "        self.__updatesoftware()#__ is private \n",
    "    def disply(self):\n",
    "        print \"drive a car\"\n",
    "    def __updatesoftware(self):\n",
    "        print \"update\"\n",
    "c=car()\n",
    "c.disply()\n"
   ]
  },
  {
   "cell_type": "code",
   "execution_count": 67,
   "metadata": {},
   "outputs": [
    {
     "name": "stdout",
     "output_type": "stream",
     "text": [
      "drive a car\n"
     ]
    }
   ],
   "source": [
    "#encapsulation\n",
    "class car:\n",
    "#     def __init__(self):\n",
    "#         self.__updatesoftware()#__ is private \n",
    "    def disply(self):\n",
    "        print \"drive a car\"\n",
    "    def __updatesoftware(self):\n",
    "        print \"update\"\n",
    "c=car()\n",
    "c.disply()\n"
   ]
  },
  {
   "cell_type": "code",
   "execution_count": 68,
   "metadata": {},
   "outputs": [
    {
     "name": "stdout",
     "output_type": "stream",
     "text": [
      "update\n",
      "drive a car\n"
     ]
    },
    {
     "ename": "AttributeError",
     "evalue": "car instance has no attribute '__updatesofware'",
     "output_type": "error",
     "traceback": [
      "\u001b[1;31m---------------------------------------------------------------------------\u001b[0m",
      "\u001b[1;31mAttributeError\u001b[0m                            Traceback (most recent call last)",
      "\u001b[1;32m<ipython-input-68-a32d62006124>\u001b[0m in \u001b[0;36m<module>\u001b[1;34m()\u001b[0m\n\u001b[0;32m      9\u001b[0m \u001b[0mc\u001b[0m\u001b[1;33m=\u001b[0m\u001b[0mcar\u001b[0m\u001b[1;33m(\u001b[0m\u001b[1;33m)\u001b[0m\u001b[1;33m\u001b[0m\u001b[0m\n\u001b[0;32m     10\u001b[0m \u001b[0mc\u001b[0m\u001b[1;33m.\u001b[0m\u001b[0mdisply\u001b[0m\u001b[1;33m(\u001b[0m\u001b[1;33m)\u001b[0m\u001b[1;33m\u001b[0m\u001b[0m\n\u001b[1;32m---> 11\u001b[1;33m \u001b[0mc\u001b[0m\u001b[1;33m.\u001b[0m\u001b[0m__updatesofware\u001b[0m\u001b[1;33m(\u001b[0m\u001b[1;33m)\u001b[0m\u001b[1;33m\u001b[0m\u001b[0m\n\u001b[0m",
      "\u001b[1;31mAttributeError\u001b[0m: car instance has no attribute '__updatesofware'"
     ]
    }
   ],
   "source": [
    "#encapsulation\n",
    "class car:\n",
    "    def __init__(self):\n",
    "        self.__updatesoftware()#__ is private \n",
    "    def disply(self):\n",
    "        print \"drive a car\"\n",
    "    def __updatesoftware(self):\n",
    "        print \"update\"\n",
    "c=car()\n",
    "c.disply()\n",
    "c.__updatesofware()# cona not call out side call prive methid\n"
   ]
  },
  {
   "cell_type": "code",
   "execution_count": 70,
   "metadata": {},
   "outputs": [
    {
     "data": {
      "text/plain": [
       "(10, 20)"
      ]
     },
     "execution_count": 70,
     "metadata": {},
     "output_type": "execute_result"
    }
   ],
   "source": [
    "class emp:\n",
    "    def __init__(self,a,b):\n",
    "        self.a=a\n",
    "        self.b=b\n",
    "    def data(self):\n",
    "        return self.a,self.b\n",
    "e=emp(10,20)\n",
    "e.data()\n"
   ]
  },
  {
   "cell_type": "code",
   "execution_count": 74,
   "metadata": {},
   "outputs": [
    {
     "ename": "TypeError",
     "evalue": "unsupported operand type(s) for +: 'instance' and 'instance'",
     "output_type": "error",
     "traceback": [
      "\u001b[1;31m---------------------------------------------------------------------------\u001b[0m",
      "\u001b[1;31mTypeError\u001b[0m                                 Traceback (most recent call last)",
      "\u001b[1;32m<ipython-input-74-21aa799d8156>\u001b[0m in \u001b[0;36m<module>\u001b[1;34m()\u001b[0m\n\u001b[0;32m      9\u001b[0m \u001b[0me1\u001b[0m\u001b[1;33m.\u001b[0m\u001b[0mdata\u001b[0m\u001b[1;33m(\u001b[0m\u001b[1;33m)\u001b[0m\u001b[1;33m\u001b[0m\u001b[0m\n\u001b[0;32m     10\u001b[0m \u001b[0me\u001b[0m\u001b[1;33m.\u001b[0m\u001b[0mdata\u001b[0m\u001b[1;33m(\u001b[0m\u001b[1;33m)\u001b[0m\u001b[1;33m\u001b[0m\u001b[0m\n\u001b[1;32m---> 11\u001b[1;33m \u001b[1;32mprint\u001b[0m \u001b[0me\u001b[0m\u001b[1;33m+\u001b[0m\u001b[0me1\u001b[0m\u001b[1;33m\u001b[0m\u001b[0m\n\u001b[0m",
      "\u001b[1;31mTypeError\u001b[0m: unsupported operand type(s) for +: 'instance' and 'instance'"
     ]
    }
   ],
   "source": [
    "class emp:\n",
    "    def __init__(self,a,b):\n",
    "        self.a=a\n",
    "        self.b=b\n",
    "    def data(self):\n",
    "        return self.a,self.b\n",
    "e=emp(10,20)\n",
    "e1=emp(30,40)\n",
    "e1.data()\n",
    "e.data()\n",
    "print e+e1"
   ]
  },
  {
   "cell_type": "code",
   "execution_count": 77,
   "metadata": {},
   "outputs": [
    {
     "name": "stdout",
     "output_type": "stream",
     "text": [
      "(40, 60)\n"
     ]
    }
   ],
   "source": [
    "class emp:\n",
    "    def __init__(self,a,b):\n",
    "        self.a=a\n",
    "        self.b=b\n",
    "    def __add__(self1,self2):\n",
    "        return (self1.a+self2.a),(self1.b+self2.b)\n",
    "    \n",
    "e=emp(10,20)\n",
    "e1=emp(30,40)\n",
    "print e+e1"
   ]
  },
  {
   "cell_type": "code",
   "execution_count": 10,
   "metadata": {},
   "outputs": [
    {
     "ename": "TypeError",
     "evalue": "iteration over non-sequence",
     "output_type": "error",
     "traceback": [
      "\u001b[1;31m---------------------------------------------------------------------------\u001b[0m",
      "\u001b[1;31mTypeError\u001b[0m                                 Traceback (most recent call last)",
      "\u001b[1;32m<ipython-input-10-b998bedabc4c>\u001b[0m in \u001b[0;36m<module>\u001b[1;34m()\u001b[0m\n\u001b[0;32m      8\u001b[0m \u001b[1;33m\u001b[0m\u001b[0m\n\u001b[0;32m      9\u001b[0m \u001b[0me\u001b[0m\u001b[1;33m=\u001b[0m\u001b[0memp\u001b[0m\u001b[1;33m(\u001b[0m\u001b[1;34m\"name\"\u001b[0m\u001b[1;33m,\u001b[0m\u001b[1;34m\"pavan\"\u001b[0m\u001b[1;33m)\u001b[0m\u001b[1;33m\u001b[0m\u001b[0m\n\u001b[1;32m---> 10\u001b[1;33m \u001b[1;32mfor\u001b[0m \u001b[0mi\u001b[0m \u001b[1;32min\u001b[0m \u001b[0me\u001b[0m\u001b[1;33m:\u001b[0m\u001b[1;33m\u001b[0m\u001b[0m\n\u001b[0m\u001b[0;32m     11\u001b[0m     \u001b[1;32mprint\u001b[0m \u001b[0mi\u001b[0m\u001b[1;33m\u001b[0m\u001b[0m\n",
      "\u001b[1;31mTypeError\u001b[0m: iteration over non-sequence"
     ]
    }
   ],
   "source": [
    "        self.a=a\n"
   ]
  },
  {
   "cell_type": "code",
   "execution_count": 1,
   "metadata": {},
   "outputs": [
    {
     "ename": "SyntaxError",
     "evalue": "invalid syntax (<ipython-input-1-00a2712f8432>, line 17)",
     "output_type": "error",
     "traceback": [
      "\u001b[1;36m  File \u001b[1;32m\"<ipython-input-1-00a2712f8432>\"\u001b[1;36m, line \u001b[1;32m17\u001b[0m\n\u001b[1;33m    st1=Student(\"pavan1\",24)\u001b[0m\n\u001b[1;37m      ^\u001b[0m\n\u001b[1;31mSyntaxError\u001b[0m\u001b[1;31m:\u001b[0m invalid syntax\n"
     ]
    }
   ],
   "source": [
    "class Student(object):\n",
    "    count=0\n",
    "    def __new__(cls,name,age):\n",
    "        if cls.count==0:\n",
    "            obj=object.__new__(cls)\n",
    "            cls.count=cls.count+1\n",
    "            return obj\n",
    "        else:\n",
    "            raise Exception(\"can create only instance\")\n",
    "            \n",
    "    def __init__(self,name,age):\n",
    "        self.name=name\n",
    "        self.age=age\n",
    "    def diply(self):\n",
    "        return self.name,self.age\n",
    "st=Student(\"pavan\",24\n",
    "st1=Student(\"pavan1\",24)\n",
    "\n",
    "st.diply()\n",
    "st1.disply()"
   ]
  },
  {
   "cell_type": "code",
   "execution_count": 2,
   "metadata": {},
   "outputs": [
    {
     "data": {
      "text/plain": [
       "('pavan', 24)"
      ]
     },
     "execution_count": 2,
     "metadata": {},
     "output_type": "execute_result"
    }
   ],
   "source": [
    "class Student(object):\n",
    "    count=0\n",
    "    def __new__(cls,name,age):\n",
    "        if cls.count==0:\n",
    "            obj=object.__new__(cls)\n",
    "            cls.count=cls.count+1\n",
    "            return obj\n",
    "        else:\n",
    "            raise Exception(\"can create only instance\")\n",
    "            \n",
    "    def __init__(self,name,age):\n",
    "        self.name=name\n",
    "        self.age=age\n",
    "    def diply(self):\n",
    "        return self.name,self.age\n",
    "st=Student(\"pavan\",24)\n",
    "st.diply()"
   ]
  },
  {
   "cell_type": "code",
   "execution_count": 3,
   "metadata": {},
   "outputs": [
    {
     "ename": "Exception",
     "evalue": "can create only instance",
     "output_type": "error",
     "traceback": [
      "\u001b[1;31m---------------------------------------------------------------------------\u001b[0m",
      "\u001b[1;31mException\u001b[0m                                 Traceback (most recent call last)",
      "\u001b[1;32m<ipython-input-3-6231604acb2d>\u001b[0m in \u001b[0;36m<module>\u001b[1;34m()\u001b[0m\n\u001b[0;32m     15\u001b[0m         \u001b[1;32mreturn\u001b[0m \u001b[0mself\u001b[0m\u001b[1;33m.\u001b[0m\u001b[0mname\u001b[0m\u001b[1;33m,\u001b[0m\u001b[0mself\u001b[0m\u001b[1;33m.\u001b[0m\u001b[0mage\u001b[0m\u001b[1;33m\u001b[0m\u001b[0m\n\u001b[0;32m     16\u001b[0m \u001b[0mst\u001b[0m\u001b[1;33m=\u001b[0m\u001b[0mStudent\u001b[0m\u001b[1;33m(\u001b[0m\u001b[1;34m\"pavan\"\u001b[0m\u001b[1;33m,\u001b[0m\u001b[1;36m24\u001b[0m\u001b[1;33m)\u001b[0m\u001b[1;33m\u001b[0m\u001b[0m\n\u001b[1;32m---> 17\u001b[1;33m \u001b[0mst\u001b[0m\u001b[1;33m=\u001b[0m\u001b[0mStudent\u001b[0m\u001b[1;33m(\u001b[0m\u001b[1;34m\"kk\"\u001b[0m\u001b[1;33m,\u001b[0m\u001b[1;36m23\u001b[0m\u001b[1;33m)\u001b[0m\u001b[1;33m\u001b[0m\u001b[0m\n\u001b[0m\u001b[0;32m     18\u001b[0m \u001b[0ms2\u001b[0m\u001b[1;33m.\u001b[0m\u001b[0mdisply\u001b[0m\u001b[1;33m(\u001b[0m\u001b[1;33m)\u001b[0m\u001b[1;33m\u001b[0m\u001b[0m\n\u001b[0;32m     19\u001b[0m \u001b[0mst\u001b[0m\u001b[1;33m.\u001b[0m\u001b[0mdiply\u001b[0m\u001b[1;33m(\u001b[0m\u001b[1;33m)\u001b[0m\u001b[1;33m\u001b[0m\u001b[0m\n",
      "\u001b[1;32m<ipython-input-3-6231604acb2d>\u001b[0m in \u001b[0;36m__new__\u001b[1;34m(cls, name, age)\u001b[0m\n\u001b[0;32m      7\u001b[0m             \u001b[1;32mreturn\u001b[0m \u001b[0mobj\u001b[0m\u001b[1;33m\u001b[0m\u001b[0m\n\u001b[0;32m      8\u001b[0m         \u001b[1;32melse\u001b[0m\u001b[1;33m:\u001b[0m\u001b[1;33m\u001b[0m\u001b[0m\n\u001b[1;32m----> 9\u001b[1;33m             \u001b[1;32mraise\u001b[0m \u001b[0mException\u001b[0m\u001b[1;33m(\u001b[0m\u001b[1;34m\"can create only instance\"\u001b[0m\u001b[1;33m)\u001b[0m\u001b[1;33m\u001b[0m\u001b[0m\n\u001b[0m\u001b[0;32m     10\u001b[0m \u001b[1;33m\u001b[0m\u001b[0m\n\u001b[0;32m     11\u001b[0m     \u001b[1;32mdef\u001b[0m \u001b[0m__init__\u001b[0m\u001b[1;33m(\u001b[0m\u001b[0mself\u001b[0m\u001b[1;33m,\u001b[0m\u001b[0mname\u001b[0m\u001b[1;33m,\u001b[0m\u001b[0mage\u001b[0m\u001b[1;33m)\u001b[0m\u001b[1;33m:\u001b[0m\u001b[1;33m\u001b[0m\u001b[0m\n",
      "\u001b[1;31mException\u001b[0m: can create only instance"
     ]
    }
   ],
   "source": [
    "class Student(object):\n",
    "    count=0\n",
    "    def __new__(cls,name,age):\n",
    "        if cls.count==0:\n",
    "            obj=object.__new__(cls)\n",
    "            cls.count=cls.count+1\n",
    "            return obj\n",
    "        else:\n",
    "            raise Exception(\"can create only instance\")\n",
    "            \n",
    "    def __init__(self,name,age):\n",
    "        self.name=name\n",
    "        self.age=age\n",
    "    def diply(self):\n",
    "        return self.name,self.age\n",
    "st=Student(\"pavan\",24)\n",
    "st=Student(\"kk\",23)\n",
    "s2.disply()\n",
    "st.diply()"
   ]
  },
  {
   "cell_type": "code",
   "execution_count": null,
   "metadata": {},
   "outputs": [],
   "source": []
  },
  {
   "cell_type": "code",
   "execution_count": 92,
   "metadata": {},
   "outputs": [
    {
     "ename": "Exception",
     "evalue": "can create only instance",
     "output_type": "error",
     "traceback": [
      "\u001b[1;31m---------------------------------------------------------------------------\u001b[0m",
      "\u001b[1;31mException\u001b[0m                                 Traceback (most recent call last)",
      "\u001b[1;32m<ipython-input-92-1e49f0eaa55d>\u001b[0m in \u001b[0;36m<module>\u001b[1;34m()\u001b[0m\n\u001b[0;32m     14\u001b[0m     \u001b[1;32mdef\u001b[0m \u001b[0mdiply\u001b[0m\u001b[1;33m(\u001b[0m\u001b[0mself\u001b[0m\u001b[1;33m)\u001b[0m\u001b[1;33m:\u001b[0m\u001b[1;33m\u001b[0m\u001b[0m\n\u001b[0;32m     15\u001b[0m         \u001b[1;32mreturn\u001b[0m \u001b[0mself\u001b[0m\u001b[1;33m.\u001b[0m\u001b[0mname\u001b[0m\u001b[1;33m,\u001b[0m\u001b[0mself\u001b[0m\u001b[1;33m.\u001b[0m\u001b[0mage\u001b[0m\u001b[1;33m\u001b[0m\u001b[0m\n\u001b[1;32m---> 16\u001b[1;33m \u001b[0mst\u001b[0m\u001b[1;33m=\u001b[0m\u001b[0mStudent\u001b[0m\u001b[1;33m(\u001b[0m\u001b[1;34m\"pavan\"\u001b[0m\u001b[1;33m,\u001b[0m\u001b[1;36m24\u001b[0m\u001b[1;33m)\u001b[0m\u001b[1;33m\u001b[0m\u001b[0m\n\u001b[0m\u001b[0;32m     17\u001b[0m \u001b[0mst2\u001b[0m\u001b[1;33m=\u001b[0m\u001b[0mStudent\u001b[0m\u001b[1;33m(\u001b[0m\u001b[1;34m\"pavan\"\u001b[0m\u001b[1;33m,\u001b[0m\u001b[1;36m24\u001b[0m\u001b[1;33m)\u001b[0m\u001b[1;33m\u001b[0m\u001b[0m\n\u001b[0;32m     18\u001b[0m \u001b[1;33m\u001b[0m\u001b[0m\n",
      "\u001b[1;32m<ipython-input-92-1e49f0eaa55d>\u001b[0m in \u001b[0;36m__new__\u001b[1;34m(cls, name, age)\u001b[0m\n\u001b[0;32m      7\u001b[0m             \u001b[1;32mreturn\u001b[0m \u001b[0mobj\u001b[0m\u001b[1;33m\u001b[0m\u001b[0m\n\u001b[0;32m      8\u001b[0m         \u001b[1;32melse\u001b[0m\u001b[1;33m:\u001b[0m\u001b[1;33m\u001b[0m\u001b[0m\n\u001b[1;32m----> 9\u001b[1;33m             \u001b[1;32mraise\u001b[0m \u001b[0mException\u001b[0m\u001b[1;33m(\u001b[0m\u001b[1;34m\"can create only instance\"\u001b[0m\u001b[1;33m)\u001b[0m\u001b[1;33m\u001b[0m\u001b[0m\n\u001b[0m\u001b[0;32m     10\u001b[0m \u001b[1;33m\u001b[0m\u001b[0m\n\u001b[0;32m     11\u001b[0m     \u001b[1;32mdef\u001b[0m \u001b[0m__init__\u001b[0m\u001b[1;33m(\u001b[0m\u001b[0mself\u001b[0m\u001b[1;33m,\u001b[0m\u001b[0mname\u001b[0m\u001b[1;33m,\u001b[0m\u001b[0mage\u001b[0m\u001b[1;33m)\u001b[0m\u001b[1;33m:\u001b[0m\u001b[1;33m\u001b[0m\u001b[0m\n",
      "\u001b[1;31mException\u001b[0m: can create only instance"
     ]
    }
   ],
   "source": [
    "class Student(object):\n",
    "    count=0\n",
    "    def __new__(cls,name,age):\n",
    "        if cls.count==0:\n",
    "            obj=object.__new__(cls)\n",
    "            cls.count=cls.count+1\n",
    "            return obj\n",
    "        else:\n",
    "            raise Exception(\"can create only instance\")\n",
    "            \n",
    "    def __init__(self,name,age):\n",
    "        self.name=name\n",
    "        self.age=age\n",
    "    def diply(self):\n",
    "        return self.name,self.age\n",
    "st=Student(\"pavan\",24)\n",
    "st2=Student(\"pavan\",24)\n",
    "\n",
    "st.diply()\n",
    "st2.diply()"
   ]
  },
  {
   "cell_type": "code",
   "execution_count": 14,
   "metadata": {},
   "outputs": [
    {
     "name": "stdout",
     "output_type": "stream",
     "text": [
      "151\n",
      "palidram\n"
     ]
    }
   ],
   "source": [
    "num=151\n",
    "b=str(151)\n",
    "re=b[::-1]\n",
    "print re\n",
    "if b==re:\n",
    "    print \"palidram\"\n",
    "else:\n",
    "    print \"no\"\n"
   ]
  },
  {
   "cell_type": "code",
   "execution_count": null,
   "metadata": {},
   "outputs": [],
   "source": []
  },
  {
   "cell_type": "markdown",
   "metadata": {},
   "source": [
    "# class a:\n",
    "    def hell()"
   ]
  },
  {
   "cell_type": "code",
   "execution_count": null,
   "metadata": {},
   "outputs": [],
   "source": []
  },
  {
   "cell_type": "code",
   "execution_count": 14,
   "metadata": {},
   "outputs": [
    {
     "name": "stdout",
     "output_type": "stream",
     "text": [
      "('pavan', 446, 'TKR')\n",
      "TKR\n",
      "hellow this is static\n",
      "None\n",
      "hellow this is static\n",
      "None\n"
     ]
    }
   ],
   "source": [
    "class College:\n",
    "    c_name=\"TKR\" #static variable\n",
    "    def __init__(self,s_name,s_roolno):\n",
    "        self.s_name=s_name # inistace varible\n",
    "        self.s_roolno=s_roolno\n",
    "    def disply(self):\n",
    "        return self.s_name,self.s_roolno,College.c_name\n",
    "    @classmethod\n",
    "    def name(cls): # static variable\n",
    "        return cls.c_name\n",
    "    @staticmethod\n",
    "    def sum():\n",
    "        print \"hellow this is static\"\n",
    "        \n",
    "c=College('pavan',446)\n",
    "print c.disply()  \n",
    "print College.name()\n",
    "print College.sum()\n",
    "print c.sum()"
   ]
  },
  {
   "cell_type": "code",
   "execution_count": 12,
   "metadata": {},
   "outputs": [
    {
     "name": "stdout",
     "output_type": "stream",
     "text": [
      "('age', '228')\n",
      "('name', 'sambasiva')\n"
     ]
    }
   ],
   "source": [
    "class Emp:\n",
    "    def __init__(self, name,age):\n",
    "        self.name=name\n",
    "        self.age=age\n",
    "#     def __add__(self1,self2):\n",
    "#         return ((self1.name,self2.name),(self1.age,self2.age))\n",
    "#     def __sub__(self1,self2):\n",
    "#         return ((self1.name,self2.name),(self1.age-self2.age))\n",
    "#     def __len__(self):\n",
    "#         return len(self.__dict__)\n",
    "    def __iter__(self):\n",
    "        for elem in self.__dict__.items():\n",
    "            yield  elem\n",
    "        \n",
    "samba=Emp(\"sambasiva\",\"228\")\n",
    "# anil=Emp(\"Anil kumar\",\"229\",34,\"23456werty\")\n",
    "# print samba+anil\n",
    "# print samba-anil\n",
    "# print len(samba)\n",
    "for i in samba:\n",
    "    print i\n"
   ]
  },
  {
   "cell_type": "code",
   "execution_count": null,
   "metadata": {},
   "outputs": [],
   "source": []
  }
 ],
 "metadata": {
  "kernelspec": {
   "display_name": "Python 2",
   "language": "python",
   "name": "python2"
  },
  "language_info": {
   "codemirror_mode": {
    "name": "ipython",
    "version": 2
   },
   "file_extension": ".py",
   "mimetype": "text/x-python",
   "name": "python",
   "nbconvert_exporter": "python",
   "pygments_lexer": "ipython2",
   "version": "2.7.15"
  }
 },
 "nbformat": 4,
 "nbformat_minor": 2
}
