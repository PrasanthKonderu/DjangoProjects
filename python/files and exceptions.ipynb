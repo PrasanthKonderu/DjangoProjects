{
 "cells": [
  {
   "cell_type": "code",
   "execution_count": 1,
   "metadata": {},
   "outputs": [],
   "source": [
    "f=open(\"data.txt\",\"w\")# cretea a file"
   ]
  },
  {
   "cell_type": "code",
   "execution_count": 2,
   "metadata": {},
   "outputs": [],
   "source": [
    "f.write(\"pavan\")# data not thre in data.txt file bcz file not closed"
   ]
  },
  {
   "cell_type": "code",
   "execution_count": 3,
   "metadata": {},
   "outputs": [],
   "source": [
    "f.close()# after excute this line check your fil"
   ]
  },
  {
   "cell_type": "code",
   "execution_count": 4,
   "metadata": {},
   "outputs": [
    {
     "data": {
      "text/plain": [
       "['__class__',\n",
       " '__delattr__',\n",
       " '__doc__',\n",
       " '__enter__',\n",
       " '__exit__',\n",
       " '__format__',\n",
       " '__getattribute__',\n",
       " '__hash__',\n",
       " '__init__',\n",
       " '__iter__',\n",
       " '__new__',\n",
       " '__reduce__',\n",
       " '__reduce_ex__',\n",
       " '__repr__',\n",
       " '__setattr__',\n",
       " '__sizeof__',\n",
       " '__str__',\n",
       " '__subclasshook__',\n",
       " 'close',\n",
       " 'closed',\n",
       " 'encoding',\n",
       " 'errors',\n",
       " 'fileno',\n",
       " 'flush',\n",
       " 'isatty',\n",
       " 'mode',\n",
       " 'name',\n",
       " 'newlines',\n",
       " 'next',\n",
       " 'read',\n",
       " 'readinto',\n",
       " 'readline',\n",
       " 'readlines',\n",
       " 'seek',\n",
       " 'softspace',\n",
       " 'tell',\n",
       " 'truncate',\n",
       " 'write',\n",
       " 'writelines',\n",
       " 'xreadlines']"
      ]
     },
     "execution_count": 4,
     "metadata": {},
     "output_type": "execute_result"
    }
   ],
   "source": [
    "dir(f)"
   ]
  },
  {
   "cell_type": "code",
   "execution_count": 5,
   "metadata": {},
   "outputs": [
    {
     "name": "stdout",
     "output_type": "stream",
     "text": [
      "pavan\n"
     ]
    }
   ],
   "source": [
    "f=open(\"data.txt\",\"r\")# read the data in to file \n",
    "d=f.read()\n",
    "print d"
   ]
  },
  {
   "cell_type": "code",
   "execution_count": 7,
   "metadata": {},
   "outputs": [],
   "source": [
    "f=open(\"data1.txt\",\"w\")\n",
    "f.write(\"wellcome pavan/n\")\n",
    "f.write(\"print\")\n",
    "f.write(\"good\")\n",
    "f.close()"
   ]
  },
  {
   "cell_type": "code",
   "execution_count": 8,
   "metadata": {},
   "outputs": [],
   "source": [
    "f=open(\"data1.txt\",\"w\")\n",
    "f.write(\"venkatapavan\")#replace old data with new data\n",
    "f.close()"
   ]
  },
  {
   "cell_type": "code",
   "execution_count": 1,
   "metadata": {},
   "outputs": [],
   "source": [
    "f=open(\"data1.txt\",\"w\")\n",
    "\n",
    "f.write(\"kalevaru venkatapavan\")\n",
    "f.flush()\n",
    "f.write(\"pavankalevaru\")\n",
    "f.close()\n",
    "\n"
   ]
  },
  {
   "cell_type": "code",
   "execution_count": 14,
   "metadata": {},
   "outputs": [],
   "source": [
    "f=open(\"data1.txt\",\"a\")\n",
    "f.write(\"\\n goob boy\")\n",
    "f.close()\n"
   ]
  },
  {
   "cell_type": "code",
   "execution_count": 15,
   "metadata": {},
   "outputs": [
    {
     "name": "stdout",
     "output_type": "stream",
     "text": [
      "kalevaru venkatapavanpavankalevaru/n goob boy\n",
      " goob boy\n"
     ]
    }
   ],
   "source": [
    "f=open(\"data1.txt\",\"r\")\n",
    "data=f.read()\n",
    "print data\n",
    "       \n"
   ]
  },
  {
   "cell_type": "code",
   "execution_count": 16,
   "metadata": {},
   "outputs": [
    {
     "name": "stdout",
     "output_type": "stream",
     "text": [
      "yash\n"
     ]
    }
   ],
   "source": [
    "import random\n",
    "names=[\"pavan\",\"yash\",\"reddy\"]\n",
    "print random.choice(names)"
   ]
  },
  {
   "cell_type": "code",
   "execution_count": 18,
   "metadata": {},
   "outputs": [
    {
     "name": "stdout",
     "output_type": "stream",
     "text": [
      "reddy\n"
     ]
    }
   ],
   "source": [
    "import random \n",
    "names=[\"pavan\",\"yash\",\"reddy\"]\n",
    "print random.choice(names)"
   ]
  },
  {
   "cell_type": "code",
   "execution_count": 19,
   "metadata": {},
   "outputs": [
    {
     "name": "stdout",
     "output_type": "stream",
     "text": [
      "reddy\n",
      "100\n"
     ]
    }
   ],
   "source": [
    "import random \n",
    "names=[\"pavan\",\"yash\",\"reddy\"]\n",
    "sal=range(100,200,500)\n",
    "print random.choice(names)\n",
    "print random.choice(sal)"
   ]
  },
  {
   "cell_type": "code",
   "execution_count": 23,
   "metadata": {},
   "outputs": [],
   "source": [
    "import random \n",
    "names=[\"pavan\",\"yash\",\"reddy\"]\n",
    "sal=range(100,200,500)\n",
    "f=open(\"d.txt\",\"w\")\n",
    "for i in range(10):\n",
    "    row=\"%s,%s\\n\"%(random.choice(names),random.choice(sal))\n",
    "    f.write(row)\n",
    "f.close()"
   ]
  },
  {
   "cell_type": "code",
   "execution_count": 24,
   "metadata": {},
   "outputs": [
    {
     "name": "stdout",
     "output_type": "stream",
     "text": [
      "yash,100\n",
      "reddy,100\n",
      "reddy,100\n",
      "pavan,100\n",
      "yash,100\n",
      "reddy,100\n",
      "reddy,100\n",
      "reddy,100\n",
      "yash,100\n",
      "yash,100\n",
      "\n"
     ]
    }
   ],
   "source": [
    "f=open(\"d.txt\",\"r\")\n",
    "data=f.read()\n",
    "print data\n"
   ]
  },
  {
   "cell_type": "code",
   "execution_count": 25,
   "metadata": {},
   "outputs": [
    {
     "name": "stdout",
     "output_type": "stream",
     "text": [
      "['yash,100\\n', 'reddy,100\\n', 'reddy,100\\n', 'pavan,100\\n', 'yash,100\\n', 'reddy,100\\n', 'reddy,100\\n', 'reddy,100\\n', 'yash,100\\n', 'yash,100\\n']\n"
     ]
    }
   ],
   "source": [
    "f=open(\"d.txt\",\"r\")\n",
    "data=f.readlines()#print  list \n",
    "print data\n"
   ]
  },
  {
   "cell_type": "code",
   "execution_count": 27,
   "metadata": {},
   "outputs": [
    {
     "name": "stdout",
     "output_type": "stream",
     "text": [
      "yash,100\n",
      "\n"
     ]
    }
   ],
   "source": [
    "f=open(\"d.txt\",\"r\")\n",
    "print f.readline()# print one one index"
   ]
  },
  {
   "cell_type": "code",
   "execution_count": null,
   "metadata": {},
   "outputs": [],
   "source": [
    "# find no of  characters,words,lines,\n",
    "# f=open(\"data.txt\",'r')\n",
    "# data=f.read()\n",
    "# print len(data)\n",
    "# print len(data.split())\n",
    "# print len(data.splitlines())"
   ]
  },
  {
   "cell_type": "code",
   "execution_count": 28,
   "metadata": {},
   "outputs": [],
   "source": [
    "f=open(\"d3.txt\",\"w\")\n",
    "f.write(\"pavankalevaru\")\n",
    "f.close()\n"
   ]
  },
  {
   "cell_type": "code",
   "execution_count": 32,
   "metadata": {},
   "outputs": [
    {
     "name": "stdout",
     "output_type": "stream",
     "text": [
      "yash,100\n",
      "reddy,100\n",
      "reddy,100\n",
      "pavan,100\n",
      "yash,100\n",
      "reddy,100\n",
      "reddy,100\n",
      "reddy,100\n",
      "yash,100\n",
      "yash,100\n",
      "\n",
      "96\n",
      "10\n",
      "10\n"
     ]
    }
   ],
   "source": [
    "#f=open(\"d3.txt\",'r')\n",
    "f=open(\"d.txt\",\"r\")\n",
    "\n",
    "data=f.read()\n",
    "print data\n",
    "print len(data)\n",
    "print len(data.split())#words\n",
    "print len(data.splitlines())#lines"
   ]
  },
  {
   "cell_type": "code",
   "execution_count": 39,
   "metadata": {},
   "outputs": [
    {
     "name": "stdout",
     "output_type": "stream",
     "text": [
      "yash,100\n",
      "reddy,100\n",
      "reddy,100\n",
      "pavan,100\n",
      "yash,100\n",
      "reddy,100\n",
      "reddy,100\n",
      "reddy,100\n",
      "yash,100\n",
      "yash,100\n",
      "\n",
      "['yash,100', 'reddy,100', 'reddy,100', 'pavan,100', 'yash,100', 'reddy,100', 'reddy,100', 'reddy,100', 'yash,100', 'yash,100']\n",
      "yash,100\n",
      "4\n",
      "reddy,100\n",
      "5\n",
      "reddy,100\n",
      "5\n",
      "pavan,100\n",
      "1\n",
      "yash,100\n",
      "4\n",
      "reddy,100\n",
      "5\n",
      "reddy,100\n",
      "5\n",
      "reddy,100\n",
      "5\n",
      "yash,100\n",
      "4\n",
      "yash,100\n",
      "4\n"
     ]
    }
   ],
   "source": [
    "#write a code to list all possible words in the file and number of time each word is repated\n",
    "f=open(\"d.txt\",\"r\")\n",
    "\n",
    "data=f.read()\n",
    "print data \n",
    "word=data.split()\n",
    "print word\n",
    "for i in word:\n",
    "    print i\n",
    "    \n",
    "    print word.count(i)\n",
    "    "
   ]
  },
  {
   "cell_type": "code",
   "execution_count": 44,
   "metadata": {},
   "outputs": [
    {
     "name": "stdout",
     "output_type": "stream",
     "text": [
      "yash,100\n",
      "reddy,100\n",
      "reddy,100\n",
      "pavan,100\n",
      "yash,100\n",
      "reddy,100\n",
      "reddy,100\n",
      "reddy,100\n",
      "yash,100\n",
      "yash,100\n",
      "\n",
      "yash,100\n",
      "yash,100\n",
      "yash,100\n",
      "yash,100\n"
     ]
    }
   ],
   "source": [
    "#write a code to list all possible words in the file and number of time each word is repated\n",
    "f=open(\"d.txt\",\"r\")\n",
    "\n",
    "data=f.read()\n",
    "print data \n",
    "word=data.split()\n",
    "#print word\n",
    "for i in word:\n",
    "    if word.count(i)==4:\n",
    "         print i\n",
    "    \n",
    "    "
   ]
  },
  {
   "cell_type": "code",
   "execution_count": null,
   "metadata": {},
   "outputs": [],
   "source": [
    "print \"hell\""
   ]
  },
  {
   "cell_type": "code",
   "execution_count": 2,
   "metadata": {},
   "outputs": [
    {
     "name": "stdout",
     "output_type": "stream",
     "text": [
      "enter number:10\n",
      "enter number:5\n",
      "a=10,b=5\n"
     ]
    },
    {
     "ename": "TypeError",
     "evalue": "unsupported operand type(s) for /: 'str' and 'str'",
     "output_type": "error",
     "traceback": [
      "\u001b[1;31m---------------------------------------------------------------------------\u001b[0m",
      "\u001b[1;31mTypeError\u001b[0m                                 Traceback (most recent call last)",
      "\u001b[1;32m<ipython-input-2-dcd85a225e75>\u001b[0m in \u001b[0;36m<module>\u001b[1;34m()\u001b[0m\n\u001b[0;32m      2\u001b[0m \u001b[0mb\u001b[0m\u001b[1;33m=\u001b[0m\u001b[0mraw_input\u001b[0m\u001b[1;33m(\u001b[0m\u001b[1;34m\"enter number:\"\u001b[0m\u001b[1;33m)\u001b[0m\u001b[1;33m\u001b[0m\u001b[0m\n\u001b[0;32m      3\u001b[0m \u001b[1;32mprint\u001b[0m \u001b[1;34m\"a=%s,b=%s\"\u001b[0m\u001b[1;33m%\u001b[0m\u001b[1;33m(\u001b[0m\u001b[0ma\u001b[0m\u001b[1;33m,\u001b[0m\u001b[0mb\u001b[0m\u001b[1;33m)\u001b[0m\u001b[1;33m\u001b[0m\u001b[0m\n\u001b[1;32m----> 4\u001b[1;33m \u001b[1;32mprint\u001b[0m \u001b[0ma\u001b[0m\u001b[1;33m/\u001b[0m\u001b[0mb\u001b[0m\u001b[1;33m\u001b[0m\u001b[0m\n\u001b[0m",
      "\u001b[1;31mTypeError\u001b[0m: unsupported operand type(s) for /: 'str' and 'str'"
     ]
    }
   ],
   "source": [
    "a=raw_input(\"enter number:\")\n",
    "b=raw_input(\"enter number:\")\n",
    "print \"a=%s,b=%s\"%(a,b)\n",
    "\n",
    "print a/b"
   ]
  },
  {
   "cell_type": "code",
   "execution_count": 3,
   "metadata": {},
   "outputs": [
    {
     "name": "stdout",
     "output_type": "stream",
     "text": [
      "enter number:10\n",
      "enter number:2\n",
      "a=10,b=2\n",
      "5\n"
     ]
    }
   ],
   "source": [
    "a=raw_input(\"enter number:\")\n",
    "b=raw_input(\"enter number:\")\n",
    "print \"a=%s,b=%s\"%(a,b)\n",
    "\n",
    "print int(a)/int(b)"
   ]
  },
  {
   "cell_type": "code",
   "execution_count": 4,
   "metadata": {},
   "outputs": [
    {
     "name": "stdout",
     "output_type": "stream",
     "text": [
      "enter number:10/0\n",
      "enter number:2\n",
      "a=10/0,b=2\n"
     ]
    },
    {
     "ename": "ValueError",
     "evalue": "invalid literal for int() with base 10: '10/0'",
     "output_type": "error",
     "traceback": [
      "\u001b[1;31m---------------------------------------------------------------------------\u001b[0m",
      "\u001b[1;31mValueError\u001b[0m                                Traceback (most recent call last)",
      "\u001b[1;32m<ipython-input-4-aeca4fcee48c>\u001b[0m in \u001b[0;36m<module>\u001b[1;34m()\u001b[0m\n\u001b[0;32m      3\u001b[0m \u001b[1;32mprint\u001b[0m \u001b[1;34m\"a=%s,b=%s\"\u001b[0m\u001b[1;33m%\u001b[0m\u001b[1;33m(\u001b[0m\u001b[0ma\u001b[0m\u001b[1;33m,\u001b[0m\u001b[0mb\u001b[0m\u001b[1;33m)\u001b[0m\u001b[1;33m\u001b[0m\u001b[0m\n\u001b[0;32m      4\u001b[0m \u001b[1;33m\u001b[0m\u001b[0m\n\u001b[1;32m----> 5\u001b[1;33m \u001b[1;32mprint\u001b[0m \u001b[0mint\u001b[0m\u001b[1;33m(\u001b[0m\u001b[0ma\u001b[0m\u001b[1;33m)\u001b[0m\u001b[1;33m/\u001b[0m\u001b[0mint\u001b[0m\u001b[1;33m(\u001b[0m\u001b[0mb\u001b[0m\u001b[1;33m)\u001b[0m\u001b[1;33m\u001b[0m\u001b[0m\n\u001b[0m",
      "\u001b[1;31mValueError\u001b[0m: invalid literal for int() with base 10: '10/0'"
     ]
    }
   ],
   "source": [
    "a=raw_input(\"enter number:\")\n",
    "b=raw_input(\"enter number:\")\n",
    "print \"a=%s,b=%s\"%(a,b)\n",
    "\n",
    "print int(a)/int(b)"
   ]
  },
  {
   "cell_type": "code",
   "execution_count": 5,
   "metadata": {},
   "outputs": [
    {
     "name": "stdout",
     "output_type": "stream",
     "text": [
      "enter number:1\n",
      "enter number:0\n",
      "a=1,b=0\n"
     ]
    },
    {
     "ename": "ZeroDivisionError",
     "evalue": "integer division or modulo by zero",
     "output_type": "error",
     "traceback": [
      "\u001b[1;31m---------------------------------------------------------------------------\u001b[0m",
      "\u001b[1;31mZeroDivisionError\u001b[0m                         Traceback (most recent call last)",
      "\u001b[1;32m<ipython-input-5-aeca4fcee48c>\u001b[0m in \u001b[0;36m<module>\u001b[1;34m()\u001b[0m\n\u001b[0;32m      3\u001b[0m \u001b[1;32mprint\u001b[0m \u001b[1;34m\"a=%s,b=%s\"\u001b[0m\u001b[1;33m%\u001b[0m\u001b[1;33m(\u001b[0m\u001b[0ma\u001b[0m\u001b[1;33m,\u001b[0m\u001b[0mb\u001b[0m\u001b[1;33m)\u001b[0m\u001b[1;33m\u001b[0m\u001b[0m\n\u001b[0;32m      4\u001b[0m \u001b[1;33m\u001b[0m\u001b[0m\n\u001b[1;32m----> 5\u001b[1;33m \u001b[1;32mprint\u001b[0m \u001b[0mint\u001b[0m\u001b[1;33m(\u001b[0m\u001b[0ma\u001b[0m\u001b[1;33m)\u001b[0m\u001b[1;33m/\u001b[0m\u001b[0mint\u001b[0m\u001b[1;33m(\u001b[0m\u001b[0mb\u001b[0m\u001b[1;33m)\u001b[0m\u001b[1;33m\u001b[0m\u001b[0m\n\u001b[0m",
      "\u001b[1;31mZeroDivisionError\u001b[0m: integer division or modulo by zero"
     ]
    }
   ],
   "source": [
    "a=raw_input(\"enter number:\")\n",
    "b=raw_input(\"enter number:\")\n",
    "print \"a=%s,b=%s\"%(a,b)\n",
    "\n",
    "print int(a)/int(b)"
   ]
  },
  {
   "cell_type": "code",
   "execution_count": 7,
   "metadata": {},
   "outputs": [
    {
     "name": "stdout",
     "output_type": "stream",
     "text": [
      "enter number:1\n",
      "enter number:0\n",
      "a=1,b=0\n",
      "some thing\n"
     ]
    }
   ],
   "source": [
    "try:\n",
    "    a=raw_input(\"enter number:\")\n",
    "    b=raw_input(\"enter number:\")\n",
    "    print \"a=%s,b=%s\"%(a,b)\n",
    "\n",
    "    print int(a)/int(b)\n",
    "except:\n",
    "    print \"some thing\""
   ]
  },
  {
   "cell_type": "code",
   "execution_count": 8,
   "metadata": {},
   "outputs": [
    {
     "name": "stdout",
     "output_type": "stream",
     "text": [
      "startpogram\n",
      "enter number:1\n",
      "enter number:0\n",
      "a=1,b=0\n",
      "integer division or modulo by zero\n",
      " end programs\n"
     ]
    }
   ],
   "source": [
    "print \"startpogram\"\n",
    "a=raw_input(\"enter number:\")\n",
    "b=raw_input(\"enter number:\")\n",
    "print \"a=%s,b=%s\"%(a,b)\n",
    "try:\n",
    "    print int(a)/int(b)\n",
    "except Exception as err:\n",
    "    print err\n",
    "print \" end programs\"\n"
   ]
  },
  {
   "cell_type": "code",
   "execution_count": 9,
   "metadata": {},
   "outputs": [
    {
     "name": "stdout",
     "output_type": "stream",
     "text": [
      "startpogram\n",
      "enter number:1\n",
      "enter number:0\n",
      "a=1,b=0\n",
      "integer division or modulo by zero\n",
      "this is final block\n",
      " end programs\n"
     ]
    }
   ],
   "source": [
    "print \"startpogram\"\n",
    "a=raw_input(\"enter number:\")\n",
    "b=raw_input(\"enter number:\")\n",
    "print \"a=%s,b=%s\"%(a,b)\n",
    "try:\n",
    "    print int(a)/int(b)\n",
    "except Exception as err:\n",
    "    print err\n",
    "finally:\n",
    "    print \"this is final block\"\n",
    "print \" end programs\"\n"
   ]
  },
  {
   "cell_type": "code",
   "execution_count": 10,
   "metadata": {},
   "outputs": [
    {
     "name": "stdout",
     "output_type": "stream",
     "text": [
      "startpogram\n",
      "enter number:10\n",
      "enter number:2\n",
      "a=10,b=2\n",
      "5\n",
      " end programs\n"
     ]
    }
   ],
   "source": [
    "print \"startpogram\"\n",
    "a=raw_input(\"enter number:\")\n",
    "b=raw_input(\"enter number:\")\n",
    "print \"a=%s,b=%s\"%(a,b)\n",
    "try:\n",
    "    print int(a)/int(b)\n",
    "except Exception as err:\n",
    "    print err\n",
    "\n",
    "print \" end programs\"\n"
   ]
  },
  {
   "cell_type": "code",
   "execution_count": 11,
   "metadata": {},
   "outputs": [
    {
     "name": "stdout",
     "output_type": "stream",
     "text": [
      "startpogram\n",
      "enter number:20\n",
      "enter number:4\n",
      "a=20,b=4\n",
      "5\n",
      "this is final block\n",
      " end programs\n"
     ]
    }
   ],
   "source": [
    "print \"startpogram\"\n",
    "a=raw_input(\"enter number:\")\n",
    "b=raw_input(\"enter number:\")\n",
    "print \"a=%s,b=%s\"%(a,b)\n",
    "try:\n",
    "    print int(a)/int(b)\n",
    "except Exception as err:\n",
    "    print err\n",
    "finally:\n",
    "    print \"this is final block\"\n",
    "print \" end programs\"\n"
   ]
  },
  {
   "cell_type": "code",
   "execution_count": 1,
   "metadata": {},
   "outputs": [],
   "source": [
    "f=open(\"pavan.csv\",'w')\n",
    "f.write(\"pavan kalevaru is a lover boy\")\n",
    "f.close()\n"
   ]
  },
  {
   "cell_type": "code",
   "execution_count": 3,
   "metadata": {},
   "outputs": [
    {
     "name": "stdout",
     "output_type": "stream",
     "text": [
      "<open file 'pavan.csv', mode 'r' at 0x000000000409A8A0>\n",
      "pavan kalevaru is a lover boy\n"
     ]
    }
   ],
   "source": [
    "f=open(\"pavan.csv\",\"r\")\n",
    "data=f.read()\n",
    "print f\n",
    "print data"
   ]
  },
  {
   "cell_type": "code",
   "execution_count": 6,
   "metadata": {},
   "outputs": [],
   "source": [
    "f=open(\"pavan.csv\",'w')\n",
    "f.write(\"pavan \")\n",
    "\n",
    "f.close()\n"
   ]
  },
  {
   "cell_type": "code",
   "execution_count": 7,
   "metadata": {},
   "outputs": [
    {
     "name": "stdout",
     "output_type": "stream",
     "text": [
      "pavan \n"
     ]
    }
   ],
   "source": [
    "f=open(\"pavan.csv\",\"r\")\n",
    "data=f.read()\n",
    "print data"
   ]
  },
  {
   "cell_type": "code",
   "execution_count": 12,
   "metadata": {},
   "outputs": [],
   "source": [
    "f=open(\"pavan.csv\",'w')\n",
    "f.write(\"pavan \")\n",
    "f.flush()\n",
    "f.write('kaleavru')\n",
    "f.close()\n"
   ]
  },
  {
   "cell_type": "code",
   "execution_count": 13,
   "metadata": {},
   "outputs": [
    {
     "name": "stdout",
     "output_type": "stream",
     "text": [
      "pavan kaleavru\n"
     ]
    }
   ],
   "source": [
    "f=open(\"pavan.csv\",\"r\")\n",
    "data=f.read()\n",
    "print data"
   ]
  },
  {
   "cell_type": "code",
   "execution_count": 16,
   "metadata": {},
   "outputs": [],
   "source": [
    "f=open(\"pavan.csv\",'w')\n",
    "f.write('/n b.tech')\n",
    "f.close()\n"
   ]
  },
  {
   "cell_type": "code",
   "execution_count": 17,
   "metadata": {},
   "outputs": [
    {
     "name": "stdout",
     "output_type": "stream",
     "text": [
      "/nb.tech\n"
     ]
    }
   ],
   "source": [
    "f=open(\"pavan.csv\",\"r\")\n",
    "data=f.read()\n",
    "print data"
   ]
  },
  {
   "cell_type": "code",
   "execution_count": 21,
   "metadata": {},
   "outputs": [
    {
     "name": "stdout",
     "output_type": "stream",
     "text": [
      "10\n"
     ]
    }
   ],
   "source": [
    "import random\n",
    "i=[10,20]\n",
    "print random.choice(i)"
   ]
  },
  {
   "cell_type": "code",
   "execution_count": 2,
   "metadata": {},
   "outputs": [],
   "source": [
    "import calendar"
   ]
  },
  {
   "cell_type": "code",
   "execution_count": 3,
   "metadata": {},
   "outputs": [
    {
     "name": "stdout",
     "output_type": "stream",
     "text": [
      "                                                                                                                                           2019\n",
      "\n",
      "                                         January                                                                                         February                                                                                         March\n",
      "   Monday      Tuesday     Wednesday     Thursday      Friday      Saturday      Sunday            Monday      Tuesday     Wednesday     Thursday      Friday      Saturday      Sunday            Monday      Tuesday     Wednesday     Thursday      Friday      Saturday      Sunday\n",
      "                   1            2            3            4            5            6                                                                     1            2            3                                                                     1            2            3\n",
      "      7            8            9           10           11           12           13                 4            5            6            7            8            9           10                 4            5            6            7            8            9           10\n",
      "     14           15           16           17           18           19           20                11           12           13           14           15           16           17                11           12           13           14           15           16           17\n",
      "     21           22           23           24           25           26           27                18           19           20           21           22           23           24                18           19           20           21           22           23           24\n",
      "     28           29           30           31                                                       25           26           27           28                                                       25           26           27           28           29           30           31\n",
      "\n",
      "                                          April                                                                                            May                                                                                             June\n",
      "   Monday      Tuesday     Wednesday     Thursday      Friday      Saturday      Sunday            Monday      Tuesday     Wednesday     Thursday      Friday      Saturday      Sunday            Monday      Tuesday     Wednesday     Thursday      Friday      Saturday      Sunday\n",
      "      1            2            3            4            5            6            7                                           1            2            3            4            5                                                                                  1            2\n",
      "      8            9           10           11           12           13           14                 6            7            8            9           10           11           12                 3            4            5            6            7            8            9\n",
      "     15           16           17           18           19           20           21                13           14           15           16           17           18           19                10           11           12           13           14           15           16\n",
      "     22           23           24           25           26           27           28                20           21           22           23           24           25           26                17           18           19           20           21           22           23\n",
      "     29           30                                                                                 27           28           29           30           31                                          24           25           26           27           28           29           30\n",
      "\n",
      "                                           July                                                                                           August                                                                                        September\n",
      "   Monday      Tuesday     Wednesday     Thursday      Friday      Saturday      Sunday            Monday      Tuesday     Wednesday     Thursday      Friday      Saturday      Sunday            Monday      Tuesday     Wednesday     Thursday      Friday      Saturday      Sunday\n",
      "      1            2            3            4            5            6            7                                                        1            2            3            4                                                                                               1\n",
      "      8            9           10           11           12           13           14                 5            6            7            8            9           10           11                 2            3            4            5            6            7            8\n",
      "     15           16           17           18           19           20           21                12           13           14           15           16           17           18                 9           10           11           12           13           14           15\n",
      "     22           23           24           25           26           27           28                19           20           21           22           23           24           25                16           17           18           19           20           21           22\n",
      "     29           30           31                                                                    26           27           28           29           30           31                             23           24           25           26           27           28           29\n",
      "                                                                                                                                                                                                     30\n",
      "\n",
      "                                         October                                                                                         November                                                                                        December\n",
      "   Monday      Tuesday     Wednesday     Thursday      Friday      Saturday      Sunday            Monday      Tuesday     Wednesday     Thursday      Friday      Saturday      Sunday            Monday      Tuesday     Wednesday     Thursday      Friday      Saturday      Sunday\n",
      "                   1            2            3            4            5            6                                                                     1            2            3                                                                                               1\n",
      "      7            8            9           10           11           12           13                 4            5            6            7            8            9           10                 2            3            4            5            6            7            8\n",
      "     14           15           16           17           18           19           20                11           12           13           14           15           16           17                 9           10           11           12           13           14           15\n",
      "     21           22           23           24           25           26           27                18           19           20           21           22           23           24                16           17           18           19           20           21           22\n",
      "     28           29           30           31                                                       25           26           27           28           29           30                             23           24           25           26           27           28           29\n",
      "                                                                                                                                                                                                     30           31\n",
      "\n"
     ]
    }
   ],
   "source": [
    "print calendar.calendar(2019,12)"
   ]
  },
  {
   "cell_type": "code",
   "execution_count": 6,
   "metadata": {},
   "outputs": [
    {
     "name": "stdout",
     "output_type": "stream",
     "text": [
      "True\n"
     ]
    }
   ],
   "source": [
    "print calendar.isleap(2020)"
   ]
  },
  {
   "cell_type": "code",
   "execution_count": 11,
   "metadata": {},
   "outputs": [
    {
     "name": "stdout",
     "output_type": "stream",
     "text": [
      "Fri Feb  1 22:42:34 2019\n"
     ]
    }
   ],
   "source": [
    "import time\n",
    "print time.asctime()"
   ]
  },
  {
   "cell_type": "code",
   "execution_count": 9,
   "metadata": {},
   "outputs": [
    {
     "data": {
      "text/plain": [
       "['__doc__',\n",
       " '__name__',\n",
       " '__package__',\n",
       " 'accept2dyear',\n",
       " 'altzone',\n",
       " 'asctime',\n",
       " 'clock',\n",
       " 'ctime',\n",
       " 'daylight',\n",
       " 'gmtime',\n",
       " 'localtime',\n",
       " 'mktime',\n",
       " 'sleep',\n",
       " 'strftime',\n",
       " 'strptime',\n",
       " 'struct_time',\n",
       " 'time',\n",
       " 'timezone',\n",
       " 'tzname']"
      ]
     },
     "execution_count": 9,
     "metadata": {},
     "output_type": "execute_result"
    }
   ],
   "source": [
    "dir(time)"
   ]
  },
  {
   "cell_type": "code",
   "execution_count": 1,
   "metadata": {},
   "outputs": [],
   "source": [
    "import json\n"
   ]
  },
  {
   "cell_type": "code",
   "execution_count": 21,
   "metadata": {},
   "outputs": [
    {
     "data": {
      "text/plain": [
       "str"
      ]
     },
     "execution_count": 21,
     "metadata": {},
     "output_type": "execute_result"
    }
   ],
   "source": [
    "d={\"name\":\"pavn\",\"age\":25}\n",
    "data=json.dumps(d)\n",
    "data\n",
    "type(data)"
   ]
  },
  {
   "cell_type": "code",
   "execution_count": 22,
   "metadata": {},
   "outputs": [],
   "source": [
    "d=open(\"dm.json\",\"w\")\n",
    "d.write(data)\n",
    "d.close()"
   ]
  },
  {
   "cell_type": "code",
   "execution_count": 27,
   "metadata": {},
   "outputs": [],
   "source": []
  },
  {
   "cell_type": "code",
   "execution_count": 28,
   "metadata": {},
   "outputs": [],
   "source": [
    "\n",
    "# data=d.read()\n"
   ]
  },
  {
   "cell_type": "code",
   "execution_count": 25,
   "metadata": {},
   "outputs": [
    {
     "data": {
      "text/plain": [
       "'{\"age\": 25, \"name\": \"pavn\"}'"
      ]
     },
     "execution_count": 25,
     "metadata": {},
     "output_type": "execute_result"
    }
   ],
   "source": [
    "data"
   ]
  },
  {
   "cell_type": "code",
   "execution_count": 30,
   "metadata": {},
   "outputs": [],
   "source": [
    "f=open(\"d122.txt\",\"w\")\n",
    "f.write(\"kalevaru pavan\")\n",
    "f.close()"
   ]
  },
  {
   "cell_type": "code",
   "execution_count": 32,
   "metadata": {},
   "outputs": [
    {
     "data": {
      "text/plain": [
       "'kalevaru pavan'"
      ]
     },
     "execution_count": 32,
     "metadata": {},
     "output_type": "execute_result"
    }
   ],
   "source": [
    "f=open(\"d122.txt\",\"r\")\n",
    "data=f.read()\n",
    "data\n"
   ]
  },
  {
   "cell_type": "code",
   "execution_count": 33,
   "metadata": {},
   "outputs": [],
   "source": [
    "f=open(\"d122.json\",\"w\")\n",
    "f.write(json.dumps(data))\n",
    "f.close()\n"
   ]
  },
  {
   "cell_type": "code",
   "execution_count": 36,
   "metadata": {},
   "outputs": [
    {
     "data": {
      "text/plain": [
       "u'kalevaru pavan'"
      ]
     },
     "execution_count": 36,
     "metadata": {},
     "output_type": "execute_result"
    }
   ],
   "source": [
    "f=open(\"d122.json\",\"r\")\n",
    "\n",
    "data=json.load(f)\n",
    "data"
   ]
  },
  {
   "cell_type": "code",
   "execution_count": null,
   "metadata": {},
   "outputs": [],
   "source": []
  },
  {
   "cell_type": "code",
   "execution_count": null,
   "metadata": {},
   "outputs": [],
   "source": []
  }
 ],
 "metadata": {
  "kernelspec": {
   "display_name": "Python 2",
   "language": "python",
   "name": "python2"
  },
  "language_info": {
   "codemirror_mode": {
    "name": "ipython",
    "version": 2
   },
   "file_extension": ".py",
   "mimetype": "text/x-python",
   "name": "python",
   "nbconvert_exporter": "python",
   "pygments_lexer": "ipython2",
   "version": "2.7.15"
  }
 },
 "nbformat": 4,
 "nbformat_minor": 2
}
