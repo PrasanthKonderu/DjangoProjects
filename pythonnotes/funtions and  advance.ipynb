{
 "cells": [
  {
   "cell_type": "code",
   "execution_count": 1,
   "metadata": {},
   "outputs": [
    {
     "name": "stdout",
     "output_type": "stream",
     "text": [
      "wellcome to function\n",
      "bye function\n"
     ]
    }
   ],
   "source": [
    "print \"wellcome to function\"\n",
    "def fun():# if did not  call to function does not excute\n",
    "    print \"hii\"\n",
    "print \"bye function\""
   ]
  },
  {
   "cell_type": "code",
   "execution_count": 2,
   "metadata": {},
   "outputs": [
    {
     "name": "stdout",
     "output_type": "stream",
     "text": [
      "wellcome to function\n",
      "hii\n",
      "bye function\n"
     ]
    }
   ],
   "source": [
    "print \"wellcome to function\"\n",
    "def fun():# if did not  call to function does not excute\n",
    "    print \"hii\"\n",
    "fun()\n",
    "print \"bye function\""
   ]
  },
  {
   "cell_type": "code",
   "execution_count": 6,
   "metadata": {},
   "outputs": [
    {
     "name": "stdout",
     "output_type": "stream",
     "text": [
      "wellcome to function\n",
      "hii\n",
      "a=10\n",
      "b=20\n",
      "bye function\n"
     ]
    }
   ],
   "source": [
    "print \"wellcome to function\"\n",
    "def fun(a,b):# if did not  call to function does not excute\n",
    "    print \"hii\"\n",
    "    print \"a=%s\"%a\n",
    "    print \"b=%s\"%b\n",
    "\n",
    "    \n",
    "fun(10,20)#call by values\n",
    "\n",
    "print \"bye function\""
   ]
  },
  {
   "cell_type": "code",
   "execution_count": 3,
   "metadata": {},
   "outputs": [
    {
     "name": "stdout",
     "output_type": "stream",
     "text": [
      "wellcome to function\n",
      "hii\n",
      "a=30\n",
      "b=20\n",
      "bye function\n"
     ]
    }
   ],
   "source": [
    "print \"wellcome to function\"\n",
    "def fun(a,b):# if did not  call to function does not excute\n",
    "    print \"hii\"\n",
    "    print \"a=%s\"%a\n",
    "    print \"b=%s\"%b\n",
    "\n",
    "c1=30\n",
    "c2=20\n",
    "fun(c1,c2)#call by reference\n",
    "\n",
    "print \"bye function\""
   ]
  },
  {
   "cell_type": "code",
   "execution_count": 8,
   "metadata": {},
   "outputs": [
    {
     "name": "stdout",
     "output_type": "stream",
     "text": [
      "wellcome to function\n"
     ]
    },
    {
     "ename": "TypeError",
     "evalue": "fun() takes exactly 2 arguments (3 given)",
     "output_type": "error",
     "traceback": [
      "\u001b[1;31m---------------------------------------------------------------------------\u001b[0m",
      "\u001b[1;31mTypeError\u001b[0m                                 Traceback (most recent call last)",
      "\u001b[1;32m<ipython-input-8-d7f53c648df6>\u001b[0m in \u001b[0;36m<module>\u001b[1;34m()\u001b[0m\n\u001b[0;32m      6\u001b[0m \u001b[1;33m\u001b[0m\u001b[0m\n\u001b[0;32m      7\u001b[0m \u001b[1;33m\u001b[0m\u001b[0m\n\u001b[1;32m----> 8\u001b[1;33m \u001b[0mfun\u001b[0m\u001b[1;33m(\u001b[0m\u001b[1;36m10\u001b[0m\u001b[1;33m,\u001b[0m\u001b[1;36m20\u001b[0m\u001b[1;33m,\u001b[0m\u001b[1;36m30\u001b[0m\u001b[1;33m)\u001b[0m\u001b[1;31m#call by values\u001b[0m\u001b[1;33m\u001b[0m\u001b[0m\n\u001b[0m\u001b[0;32m      9\u001b[0m \u001b[1;33m\u001b[0m\u001b[0m\n\u001b[0;32m     10\u001b[0m \u001b[1;32mprint\u001b[0m \u001b[1;34m\"bye function\"\u001b[0m\u001b[1;33m\u001b[0m\u001b[0m\n",
      "\u001b[1;31mTypeError\u001b[0m: fun() takes exactly 2 arguments (3 given)"
     ]
    }
   ],
   "source": [
    "print \"wellcome to function\"\n",
    "def fun(a,b):# if did not  call to function does not excute\n",
    "    print \"hii\"\n",
    "    print \"a=%s\"%a\n",
    "    print \"b=%s\"%b\n",
    "\n",
    "    \n",
    "fun(10,20,30)#call by values\n",
    "# number of argments equal to number of values\n",
    "\n",
    "print \"bye function\""
   ]
  },
  {
   "cell_type": "code",
   "execution_count": 9,
   "metadata": {},
   "outputs": [
    {
     "name": "stdout",
     "output_type": "stream",
     "text": [
      "wellcome to function\n",
      "hii\n",
      "a=10\n",
      "b=20\n",
      "0\n",
      "bye function\n"
     ]
    }
   ],
   "source": [
    "#defult values\n",
    "print \"wellcome to function\"\n",
    "def fun(a,b,c=0):# if did not  call to function does not excute\n",
    "    print \"hii\"\n",
    "    print \"a=%s\"%a\n",
    "    print \"b=%s\"%b\n",
    "    print c\n",
    "\n",
    "    \n",
    "fun(10,20)#call by values\n",
    "\n",
    "print \"bye function\""
   ]
  },
  {
   "cell_type": "code",
   "execution_count": 10,
   "metadata": {},
   "outputs": [
    {
     "name": "stdout",
     "output_type": "stream",
     "text": [
      "wellcome to function\n",
      "hii\n",
      "a=10\n",
      "b=20\n",
      "10\n",
      "bye function\n"
     ]
    }
   ],
   "source": [
    "print \"wellcome to function\"\n",
    "def fun(a,b,c=0):# if did not  call to function does not excute\n",
    "    print \"hii\"\n",
    "    print \"a=%s\"%a\n",
    "    print \"b=%s\"%b\n",
    "    print c\n",
    "\n",
    "    \n",
    "fun(10,20,10)#call by values\n",
    "\n",
    "print \"bye function\""
   ]
  },
  {
   "cell_type": "code",
   "execution_count": 15,
   "metadata": {},
   "outputs": [
    {
     "name": "stdout",
     "output_type": "stream",
     "text": [
      "wellcome to function\n",
      "hii\n",
      "a=10\n",
      "b=20\n",
      "30\n",
      "bye function\n"
     ]
    }
   ],
   "source": [
    "print \"wellcome to function\"\n",
    "def fun(a,b,):# if did not  call to function does not excute\n",
    "    print \"hii\"\n",
    "    print \"a=%s\"%a\n",
    "    print \"b=%s\"%b\n",
    "    c=a+b\n",
    "    return c\n",
    "print fun(10,20)#call by values\n",
    "\n",
    "print \"bye function\""
   ]
  },
  {
   "cell_type": "code",
   "execution_count": 16,
   "metadata": {},
   "outputs": [
    {
     "name": "stdout",
     "output_type": "stream",
     "text": [
      "wellcome to function\n",
      "hii\n",
      "a=10\n",
      "b=20\n"
     ]
    },
    {
     "ename": "TypeError",
     "evalue": "'int' object is not iterable",
     "output_type": "error",
     "traceback": [
      "\u001b[1;31m---------------------------------------------------------------------------\u001b[0m",
      "\u001b[1;31mTypeError\u001b[0m                                 Traceback (most recent call last)",
      "\u001b[1;32m<ipython-input-16-c06d830ac305>\u001b[0m in \u001b[0;36m<module>\u001b[1;34m()\u001b[0m\n\u001b[0;32m      7\u001b[0m \u001b[1;33m\u001b[0m\u001b[0m\n\u001b[0;32m      8\u001b[0m \u001b[1;33m\u001b[0m\u001b[0m\n\u001b[1;32m----> 9\u001b[1;33m \u001b[0mfun\u001b[0m\u001b[1;33m(\u001b[0m\u001b[1;36m10\u001b[0m\u001b[1;33m,\u001b[0m\u001b[1;36m20\u001b[0m\u001b[1;33m)\u001b[0m\u001b[1;31m#call by values\u001b[0m\u001b[1;33m\u001b[0m\u001b[0m\n\u001b[0m\u001b[0;32m     10\u001b[0m \u001b[1;33m\u001b[0m\u001b[0m\n\u001b[0;32m     11\u001b[0m \u001b[1;32mprint\u001b[0m \u001b[1;34m\"bye function\"\u001b[0m\u001b[1;33m\u001b[0m\u001b[0m\n",
      "\u001b[1;32m<ipython-input-16-c06d830ac305>\u001b[0m in \u001b[0;36mfun\u001b[1;34m(a, b, c)\u001b[0m\n\u001b[0;32m      4\u001b[0m     \u001b[1;32mprint\u001b[0m \u001b[1;34m\"a=%s\"\u001b[0m\u001b[1;33m%\u001b[0m\u001b[0ma\u001b[0m\u001b[1;33m\u001b[0m\u001b[0m\n\u001b[0;32m      5\u001b[0m     \u001b[1;32mprint\u001b[0m \u001b[1;34m\"b=%s\"\u001b[0m\u001b[1;33m%\u001b[0m\u001b[0mb\u001b[0m\u001b[1;33m\u001b[0m\u001b[0m\n\u001b[1;32m----> 6\u001b[1;33m     \u001b[1;32mprint\u001b[0m \u001b[0msum\u001b[0m\u001b[1;33m(\u001b[0m\u001b[0ma\u001b[0m\u001b[1;33m,\u001b[0m\u001b[0mb\u001b[0m\u001b[1;33m)\u001b[0m\u001b[1;33m\u001b[0m\u001b[0m\n\u001b[0m\u001b[0;32m      7\u001b[0m \u001b[1;33m\u001b[0m\u001b[0m\n\u001b[0;32m      8\u001b[0m \u001b[1;33m\u001b[0m\u001b[0m\n",
      "\u001b[1;31mTypeError\u001b[0m: 'int' object is not iterable"
     ]
    }
   ],
   "source": [
    "print \"wellcome to function\"\n",
    "def fun(a,b,c=0):# if did not  call to function does not excute\n",
    "    print \"hii\"\n",
    "    print \"a=%s\"%a\n",
    "    print \"b=%s\"%b\n",
    "    print sum(a,b)\n",
    "\n",
    "    \n",
    "fun(10,20)#call by values\n",
    "\n",
    "print \"bye function\""
   ]
  },
  {
   "cell_type": "code",
   "execution_count": 17,
   "metadata": {},
   "outputs": [
    {
     "name": "stdout",
     "output_type": "stream",
     "text": [
      "wellcome to function\n",
      "hii\n",
      "a=10\n",
      "b=20\n",
      "30\n",
      "bye function\n"
     ]
    }
   ],
   "source": [
    "print \"wellcome to function\"\n",
    "def fun(a,b,c=0):# if did not  call to function does not excute\n",
    "    print \"hii\"\n",
    "    print \"a=%s\"%a\n",
    "    print \"b=%s\"%b\n",
    "    c=a+b\n",
    "    print c\n",
    "\n",
    "    \n",
    "fun(10,20)#call by values\n",
    "\n",
    "print \"bye function\""
   ]
  },
  {
   "cell_type": "code",
   "execution_count": 20,
   "metadata": {},
   "outputs": [
    {
     "name": "stdout",
     "output_type": "stream",
     "text": [
      "(10,)\n",
      "(10, 20, 30)\n",
      "()\n"
     ]
    }
   ],
   "source": [
    "def fun(*a):\n",
    "    print a\n",
    "fun(10)\n",
    "fun(10,20,30)\n",
    "fun()"
   ]
  },
  {
   "cell_type": "code",
   "execution_count": 24,
   "metadata": {},
   "outputs": [
    {
     "name": "stdout",
     "output_type": "stream",
     "text": [
      "{'add': 40, 'name': 10}\n",
      "{}\n"
     ]
    }
   ],
   "source": [
    "def fun(**a):\n",
    "    print a\n",
    "fun(name=10,add=40)\n",
    "fun()"
   ]
  },
  {
   "cell_type": "code",
   "execution_count": 27,
   "metadata": {},
   "outputs": [
    {
     "name": "stdout",
     "output_type": "stream",
     "text": [
      "wellcome to function\n",
      "hii\n",
      "a=10\n",
      "b=20\n",
      "30\n",
      "bye\n",
      "None\n",
      "bye function\n"
     ]
    }
   ],
   "source": [
    "print \"wellcome to function\"\n",
    "def fun(a,b):# if did not  call to function does not excute\n",
    "    print \"hii\"\n",
    "    print \"a=%s\"%a\n",
    "    print \"b=%s\"%b\n",
    "    c=a+b\n",
    "    print  c\n",
    "    print \"bye\"\n",
    "\n",
    "\n",
    "    \n",
    "d=fun(10,20)#call by values\n",
    "print d\n",
    "print \"bye function\""
   ]
  },
  {
   "cell_type": "code",
   "execution_count": 28,
   "metadata": {},
   "outputs": [
    {
     "name": "stdout",
     "output_type": "stream",
     "text": [
      "wellcome to function\n",
      "hii\n",
      "a=10\n",
      "b=20\n",
      "30\n",
      "bye function\n"
     ]
    }
   ],
   "source": [
    "print \"wellcome to function\"\n",
    "def fun(a,b):# if did not  call to function does not excute\n",
    "    print \"hii\"\n",
    "    print \"a=%s\"%a\n",
    "    print \"b=%s\"%b\n",
    "    c=a+b\n",
    "    return c\n",
    "\n",
    "    \n",
    "f=fun(10,20)#call by values\n",
    "print f\n",
    "print \"bye function\""
   ]
  },
  {
   "cell_type": "code",
   "execution_count": 29,
   "metadata": {},
   "outputs": [
    {
     "name": "stdout",
     "output_type": "stream",
     "text": [
      "wellcome to function\n",
      "hii\n",
      "a=10\n",
      "b=20\n",
      "30\n",
      "bye function\n"
     ]
    }
   ],
   "source": [
    "print \"wellcome to function\"\n",
    "def fun(a,b):# if did not  call to function does not excute\n",
    "    print \"hii\"\n",
    "    print \"a=%s\"%a\n",
    "    print \"b=%s\"%b\n",
    "    c=a+b\n",
    "    return c # once excute the return statement comeout form the fun\n",
    "    print \"end\"\n",
    "\n",
    "    \n",
    "f=fun(10,20)#call by values\n",
    "print f\n",
    "print \"bye function\""
   ]
  },
  {
   "cell_type": "code",
   "execution_count": 30,
   "metadata": {},
   "outputs": [
    {
     "name": "stdout",
     "output_type": "stream",
     "text": [
      "wellcome to function\n",
      "<generator object fun at 0x0000000006E9E708>\n",
      "bye function\n"
     ]
    }
   ],
   "source": [
    "print \"wellcome to function\"\n",
    "def fun():# if did not  call to function does not excute\n",
    "    print \"hii\"\n",
    "    yield 10\n",
    "    yield 20\n",
    "    \n",
    "    \n",
    "f=fun()#call by values\n",
    "print f\n",
    "print \"bye function\""
   ]
  },
  {
   "cell_type": "code",
   "execution_count": 39,
   "metadata": {},
   "outputs": [
    {
     "name": "stdout",
     "output_type": "stream",
     "text": [
      "wellcome to function\n",
      "hii\n",
      "10\n",
      "20\n",
      "bye function\n"
     ]
    }
   ],
   "source": [
    "print \"wellcome to function\"\n",
    "def fun():# if did not  call to function does not excute\n",
    "    print \"hii\"\n",
    "    yield 10\n",
    "    yield 20\n",
    "    \n",
    "    \n",
    "f=fun()#call by values\n",
    "f1= f.next()\n",
    "print f1\n",
    "f2=f.next()\n",
    "print f2\n",
    "print \"bye function\""
   ]
  },
  {
   "cell_type": "code",
   "execution_count": 40,
   "metadata": {},
   "outputs": [
    {
     "name": "stdout",
     "output_type": "stream",
     "text": [
      "wellcome to function\n",
      "hii\n",
      "10\n",
      "20\n",
      "bye function\n"
     ]
    }
   ],
   "source": [
    "print \"wellcome to function\"\n",
    "def fun():# if did not  call to function does not excute\n",
    "    print \"hii\"\n",
    "    yield 10\n",
    "    yield 20\n",
    "    \n",
    "    \n",
    "f=fun()#call by values\n",
    "for i in f:\n",
    "    print i\n",
    "print \"bye function\""
   ]
  },
  {
   "cell_type": "code",
   "execution_count": 41,
   "metadata": {},
   "outputs": [
    {
     "name": "stdout",
     "output_type": "stream",
     "text": [
      "[1, 2, 3, 4]\n"
     ]
    }
   ],
   "source": [
    "l=[1,2]\n",
    "l1=[3,4]\n",
    "print l+l1"
   ]
  },
  {
   "cell_type": "code",
   "execution_count": 42,
   "metadata": {},
   "outputs": [
    {
     "name": "stdout",
     "output_type": "stream",
     "text": [
      "[(1, 3), (2, 4)]\n"
     ]
    }
   ],
   "source": [
    "z=zip(l,l1)\n",
    "print z\n"
   ]
  },
  {
   "cell_type": "code",
   "execution_count": 2,
   "metadata": {},
   "outputs": [
    {
     "data": {
      "text/plain": [
       "['a', 'a']"
      ]
     },
     "execution_count": 2,
     "metadata": {},
     "output_type": "execute_result"
    }
   ],
   "source": [
    "def function1(s1,s2):\n",
    "    l=[]\n",
    "    for x in s1:\n",
    "        if x in s2:\n",
    "            l.append(x)\n",
    "    return l\n",
    "a=\"pavan\"\n",
    "b=\"yash\"\n",
    "function1(a,b)"
   ]
  },
  {
   "cell_type": "code",
   "execution_count": 4,
   "metadata": {},
   "outputs": [
    {
     "data": {
      "text/plain": [
       "['a', 'a']"
      ]
     },
     "execution_count": 4,
     "metadata": {},
     "output_type": "execute_result"
    }
   ],
   "source": [
    "#list \n",
    "[i for i in a if i in b]"
   ]
  },
  {
   "cell_type": "code",
   "execution_count": 5,
   "metadata": {},
   "outputs": [],
   "source": [
    "# If a variable is assigned inside a def, it is local to that function.\n",
    "# If a variable is assigned in an enclosing def, it is nonlocal to nested functions.\n",
    "# If a variable is assigned outside all defs, it is global to the entir"
   ]
  },
  {
   "cell_type": "code",
   "execution_count": 7,
   "metadata": {},
   "outputs": [
    {
     "name": "stdout",
     "output_type": "stream",
     "text": [
      "1000\n"
     ]
    }
   ],
   "source": [
    "x=1000#global varibel\n",
    "def fun5():\n",
    "    print x\n",
    "fun5()"
   ]
  },
  {
   "cell_type": "code",
   "execution_count": 9,
   "metadata": {},
   "outputs": [
    {
     "name": "stdout",
     "output_type": "stream",
     "text": [
      "10\n"
     ]
    },
    {
     "ename": "NameError",
     "evalue": "name 'y' is not defined",
     "output_type": "error",
     "traceback": [
      "\u001b[1;31m---------------------------------------------------------------------------\u001b[0m",
      "\u001b[1;31mNameError\u001b[0m                                 Traceback (most recent call last)",
      "\u001b[1;32m<ipython-input-9-7b829a6ad95b>\u001b[0m in \u001b[0;36m<module>\u001b[1;34m()\u001b[0m\n\u001b[0;32m      3\u001b[0m     \u001b[1;32mprint\u001b[0m \u001b[0my\u001b[0m\u001b[1;33m\u001b[0m\u001b[0m\n\u001b[0;32m      4\u001b[0m \u001b[0mfun6\u001b[0m\u001b[1;33m(\u001b[0m\u001b[1;33m)\u001b[0m\u001b[1;33m\u001b[0m\u001b[0m\n\u001b[1;32m----> 5\u001b[1;33m \u001b[1;32mprint\u001b[0m \u001b[0my\u001b[0m\u001b[1;33m\u001b[0m\u001b[0m\n\u001b[0m",
      "\u001b[1;31mNameError\u001b[0m: name 'y' is not defined"
     ]
    }
   ],
   "source": [
    "def fun6():\n",
    "    y=10\n",
    "    print y\n",
    "fun6()\n",
    "print y"
   ]
  },
  {
   "cell_type": "code",
   "execution_count": 11,
   "metadata": {},
   "outputs": [
    {
     "name": "stdout",
     "output_type": "stream",
     "text": [
      "100\n",
      "10\n"
     ]
    }
   ],
   "source": [
    "z=10 #gloabal\n",
    "def fun7():\n",
    "    z=100#local varia\n",
    "    print z\n",
    "fun7()\n",
    "print z\n"
   ]
  },
  {
   "cell_type": "code",
   "execution_count": 12,
   "metadata": {},
   "outputs": [
    {
     "name": "stdout",
     "output_type": "stream",
     "text": [
      "100\n",
      "100\n"
     ]
    }
   ],
   "source": [
    "z=10 #gloabal\n",
    "def fun7():\n",
    "    global z\n",
    "    z=100#local varia\n",
    "    print z\n",
    "fun7()\n",
    "print z\n"
   ]
  },
  {
   "cell_type": "code",
   "execution_count": 13,
   "metadata": {},
   "outputs": [
    {
     "name": "stdout",
     "output_type": "stream",
     "text": [
      "100\n",
      "100\n",
      "10\n"
     ]
    }
   ],
   "source": [
    "z=10 #gloabal\n",
    "def fun7():\n",
    "    z=100#local varia\n",
    "    print z\n",
    "    def fun8():\n",
    "        print z#not consider this varibel is global\n",
    "    fun8()\n",
    "fun7()\n",
    "print z\n"
   ]
  },
  {
   "cell_type": "code",
   "execution_count": 15,
   "metadata": {},
   "outputs": [
    {
     "name": "stdout",
     "output_type": "stream",
     "text": [
      "100\n",
      "100\n"
     ]
    }
   ],
   "source": [
    "#z=10 #gloabal\n",
    "def fun7():\n",
    "    y=100#local varia\n",
    "    print y\n",
    "    def fun8():\n",
    "        print y#not consider this varibel is global\n",
    "    fun8()\n",
    "fun7()\n"
   ]
  },
  {
   "cell_type": "code",
   "execution_count": 18,
   "metadata": {},
   "outputs": [
    {
     "name": "stdout",
     "output_type": "stream",
     "text": [
      "10\n"
     ]
    }
   ],
   "source": [
    "a=10\n",
    "def fun():\n",
    "    x=\"pavan\"\n",
    "fun()\n",
    "print a\n"
   ]
  },
  {
   "cell_type": "code",
   "execution_count": 20,
   "metadata": {},
   "outputs": [
    {
     "name": "stdout",
     "output_type": "stream",
     "text": [
      "NI\n"
     ]
    },
    {
     "data": {
      "text/plain": [
       "'Spam'"
      ]
     },
     "execution_count": 20,
     "metadata": {},
     "output_type": "execute_result"
    }
   ],
   "source": [
    "X = 'Spam'\n",
    "def func():\n",
    "    X = 'NI'\n",
    "    def nested():\n",
    "        print(X)\n",
    "    nested()\n",
    "func()\n",
    "X"
   ]
  },
  {
   "cell_type": "code",
   "execution_count": 21,
   "metadata": {},
   "outputs": [],
   "source": [
    "a=\"pavan\"\n",
    "b=a\n",
    "b=\"hh\""
   ]
  },
  {
   "cell_type": "code",
   "execution_count": 22,
   "metadata": {},
   "outputs": [
    {
     "name": "stdout",
     "output_type": "stream",
     "text": [
      "hh\n"
     ]
    }
   ],
   "source": [
    "print b"
   ]
  },
  {
   "cell_type": "code",
   "execution_count": 23,
   "metadata": {},
   "outputs": [
    {
     "name": "stdout",
     "output_type": "stream",
     "text": [
      "pavan\n"
     ]
    }
   ],
   "source": [
    "print a\n"
   ]
  },
  {
   "cell_type": "code",
   "execution_count": 24,
   "metadata": {},
   "outputs": [
    {
     "name": "stdout",
     "output_type": "stream",
     "text": [
      "112\n"
     ]
    }
   ],
   "source": [
    "a=\"p\"\n",
    "print ord(a)# ascii"
   ]
  },
  {
   "cell_type": "code",
   "execution_count": null,
   "metadata": {},
   "outputs": [],
   "source": []
  },
  {
   "cell_type": "code",
   "execution_count": null,
   "metadata": {},
   "outputs": [],
   "source": [
    "pt"
   ]
  }
 ],
 "metadata": {
  "kernelspec": {
   "display_name": "Python 2",
   "language": "python",
   "name": "python2"
  },
  "language_info": {
   "codemirror_mode": {
    "name": "ipython",
    "version": 2
   },
   "file_extension": ".py",
   "mimetype": "text/x-python",
   "name": "python",
   "nbconvert_exporter": "python",
   "pygments_lexer": "ipython2",
   "version": "2.7.15"
  }
 },
 "nbformat": 4,
 "nbformat_minor": 2
}
