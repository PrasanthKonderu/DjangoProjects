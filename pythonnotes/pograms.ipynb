{
 "cells": [
  {
   "cell_type": "code",
   "execution_count": 9,
   "metadata": {},
   "outputs": [
    {
     "name": "stdout",
     "output_type": "stream",
     "text": [
      "enter given string:pavan k\n",
      "7\n",
      "2\n"
     ]
    }
   ],
   "source": [
    "# count the nuuber of words and senstance,letter in string\n",
    "a=raw_input(\"enter given string:\")\n",
    "char=0\n",
    "words=1\n",
    "for i in a:\n",
    "    char=char+1\n",
    "\n",
    "#     if i==\" \":\n",
    "#         continue\n",
    "    if i==\" \":\n",
    "        words=words+1\n",
    "\n",
    "print char\n",
    "print words\n",
    "    "
   ]
  },
  {
   "cell_type": "code",
   "execution_count": 13,
   "metadata": {},
   "outputs": [],
   "source": [
    "# reverse string"
   ]
  },
  {
   "cell_type": "code",
   "execution_count": 14,
   "metadata": {},
   "outputs": [
    {
     "name": "stdout",
     "output_type": "stream",
     "text": [
      "enter given string:pavan\n",
      "navap\n"
     ]
    }
   ],
   "source": [
    "a=raw_input(\"enter given string:\")\n",
    "b=a[::-1]\n",
    "print b"
   ]
  },
  {
   "cell_type": "code",
   "execution_count": 15,
   "metadata": {},
   "outputs": [],
   "source": [
    "# positive sum"
   ]
  },
  {
   "cell_type": "code",
   "execution_count": null,
   "metadata": {},
   "outputs": [],
   "source": [
    "a=int(raw_input(\"enter given string:\"))\n",
    "result=0\n",
    "while a>0:\n",
    "    d=a%10\n",
    "    result=d+result\n",
    "    a=a//10\n",
    "print a\n"
   ]
  },
  {
   "cell_type": "code",
   "execution_count": 4,
   "metadata": {},
   "outputs": [
    {
     "name": "stdout",
     "output_type": "stream",
     "text": [
      "enter positive number:123\n",
      "3\n",
      "12\n",
      "5\n",
      "1\n",
      "6\n",
      "0\n",
      "6\n"
     ]
    }
   ],
   "source": [
    "num=int(raw_input(\"enter positive number:\"))\n",
    "result=0\n",
    "while num>0:\n",
    "    digit=num%10\n",
    "    result=result+digit\n",
    "    print result\n",
    "    num=num//10\n",
    "    print num\n",
    "print result"
   ]
  },
  {
   "cell_type": "code",
   "execution_count": 10,
   "metadata": {},
   "outputs": [
    {
     "name": "stdout",
     "output_type": "stream",
     "text": [
      "0\n"
     ]
    }
   ],
   "source": [
    "print 1/10"
   ]
  },
  {
   "cell_type": "code",
   "execution_count": 9,
   "metadata": {},
   "outputs": [
    {
     "name": "stdout",
     "output_type": "stream",
     "text": [
      "enter  number:7\n",
      " prime number\n"
     ]
    }
   ],
   "source": [
    "# prime\n",
    "num=int(raw_input(\"enter  number:\"))\n",
    "if num>1:\n",
    "    for i in range(2,num):\n",
    "        if num%i==0:\n",
    "            print \"not prime number\"\n",
    "            break\n",
    "    else:\n",
    "        print \" prime number\"\n",
    "else:\n",
    "    print \"not prime\"\n"
   ]
  },
  {
   "cell_type": "code",
   "execution_count": 10,
   "metadata": {},
   "outputs": [],
   "source": [
    "# range "
   ]
  },
  {
   "cell_type": "code",
   "execution_count": 16,
   "metadata": {},
   "outputs": [
    {
     "name": "stdout",
     "output_type": "stream",
     "text": [
      "enter  number:1\n",
      "enter  number:10\n",
      "2\n",
      "3\n",
      "5\n",
      "7\n"
     ]
    }
   ],
   "source": [
    "lower_num=int(raw_input(\"enter  number:\"))\n",
    "upper_num=int(raw_input(\"enter  number:\"))\n",
    "for number in range(lower_num,upper_num+1):\n",
    "    if number>1:\n",
    "        for i in range(2,number):\n",
    "            if number%i==0:\n",
    "                break\n",
    "        else:\n",
    "            print number\n"
   ]
  },
  {
   "cell_type": "code",
   "execution_count": 20,
   "metadata": {},
   "outputs": [
    {
     "name": "stdout",
     "output_type": "stream",
     "text": [
      "enter  number:1\n",
      "enter  number:15\n",
      "2\n",
      "3\n",
      "5\n",
      "7\n",
      "11\n",
      "13\n",
      "sum of prime number is 41\n"
     ]
    }
   ],
   "source": [
    "#sum of prime\n",
    "sum=0\n",
    "lower_num=int(raw_input(\"enter  number:\"))\n",
    "upper_num=int(raw_input(\"enter  number:\"))\n",
    "for number in range(lower_num,upper_num+1):\n",
    "    if number>1:\n",
    "        for i in range(2,number):\n",
    "            if number%i==0:\n",
    "                break\n",
    "        else:\n",
    "            print number\n",
    "            sum =number+sum\n",
    "print\"sum of prime number is\", sum\n"
   ]
  },
  {
   "cell_type": "code",
   "execution_count": 22,
   "metadata": {},
   "outputs": [
    {
     "name": "stdout",
     "output_type": "stream",
     "text": [
      "enter number:20\n",
      "1\n",
      "2\n",
      "4\n",
      "5\n",
      "10\n",
      "20\n"
     ]
    }
   ],
   "source": [
    "# factorial\n",
    "f=int(raw_input(\"enter number:\"))\n",
    "for i in range(1,f+1):\n",
    "    if f%i==0:\n",
    "        print i\n",
    "    "
   ]
  },
  {
   "cell_type": "code",
   "execution_count": 23,
   "metadata": {},
   "outputs": [
    {
     "name": "stdout",
     "output_type": "stream",
     "text": [
      "enter number:10\n",
      "1\n",
      "2\n",
      "5\n",
      "10\n",
      "18\n"
     ]
    }
   ],
   "source": [
    "sum=0\n",
    "f=int(raw_input(\"enter number:\"))\n",
    "for i in range(1,f+1):\n",
    "    if f%i==0:\n",
    "        print i\n",
    "\n",
    "        sum=sum+i\n",
    "print sum"
   ]
  },
  {
   "cell_type": "code",
   "execution_count": 25,
   "metadata": {},
   "outputs": [
    {
     "name": "stdout",
     "output_type": "stream",
     "text": [
      "{'a': 2, 'p': 1, 'n': 1, 'v': 1}\n"
     ]
    }
   ],
   "source": [
    "s=\"pavan\"\n",
    "d={}\n",
    "for i in s:\n",
    "    d[i]=s.count(i)\n",
    "print d"
   ]
  },
  {
   "cell_type": "code",
   "execution_count": null,
   "metadata": {},
   "outputs": [],
   "source": []
  }
 ],
 "metadata": {
  "kernelspec": {
   "display_name": "Python 2",
   "language": "python",
   "name": "python2"
  },
  "language_info": {
   "codemirror_mode": {
    "name": "ipython",
    "version": 2
   },
   "file_extension": ".py",
   "mimetype": "text/x-python",
   "name": "python",
   "nbconvert_exporter": "python",
   "pygments_lexer": "ipython2",
   "version": "2.7.15"
  }
 },
 "nbformat": 4,
 "nbformat_minor": 2
}
