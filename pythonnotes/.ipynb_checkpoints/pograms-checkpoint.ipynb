{
 "cells": [
  {
   "cell_type": "code",
   "execution_count": 9,
   "metadata": {},
   "outputs": [
    {
     "name": "stdout",
     "output_type": "stream",
     "text": [
      "enter given string:pavan k\n",
      "7\n",
      "2\n"
     ]
    }
   ],
   "source": [
    "# count the nuuber of words and senstance,letter in string\n",
    "a=raw_input(\"enter given string:\")\n",
    "char=0\n",
    "words=1\n",
    "for i in a:\n",
    "    char=char+1\n",
    "\n",
    "#     if i==\" \":\n",
    "#         continue\n",
    "    if i==\" \":\n",
    "        words=words+1\n",
    "\n",
    "print char\n",
    "print words\n",
    "    "
   ]
  },
  {
   "cell_type": "code",
   "execution_count": 13,
   "metadata": {},
   "outputs": [],
   "source": [
    "# reverse string"
   ]
  },
  {
   "cell_type": "code",
   "execution_count": 14,
   "metadata": {},
   "outputs": [
    {
     "name": "stdout",
     "output_type": "stream",
     "text": [
      "enter given string:pavan\n",
      "navap\n"
     ]
    }
   ],
   "source": [
    "a=raw_input(\"enter given string:\")\n",
    "b=a[::-1]\n",
    "print b"
   ]
  },
  {
   "cell_type": "code",
   "execution_count": 15,
   "metadata": {},
   "outputs": [],
   "source": [
    "# positive sum"
   ]
  },
  {
   "cell_type": "code",
   "execution_count": null,
   "metadata": {},
   "outputs": [],
   "source": [
    "a=int(raw_input(\"enter given string:\"))\n",
    "result=0\n",
    "while a>0:\n",
    "    d=a%10\n",
    "    result=d+result\n",
    "    a=a//10\n",
    "print a\n"
   ]
  },
  {
   "cell_type": "code",
   "execution_count": 4,
   "metadata": {},
   "outputs": [
    {
     "name": "stdout",
     "output_type": "stream",
     "text": [
      "enter positive number:123\n",
      "3\n",
      "12\n",
      "5\n",
      "1\n",
      "6\n",
      "0\n",
      "6\n"
     ]
    }
   ],
   "source": [
    "num=int(raw_input(\"enter positive number:\"))\n",
    "result=0\n",
    "while num>0:\n",
    "    digit=num%10\n",
    "    result=result+digit\n",
    "    print result\n",
    "    num=num//10\n",
    "    print num\n",
    "print result"
   ]
  },
  {
   "cell_type": "code",
   "execution_count": 10,
   "metadata": {},
   "outputs": [
    {
     "name": "stdout",
     "output_type": "stream",
     "text": [
      "0\n"
     ]
    }
   ],
   "source": [
    "print 1/10"
   ]
  },
  {
   "cell_type": "code",
   "execution_count": 2,
   "metadata": {},
   "outputs": [
    {
     "name": "stdout",
     "output_type": "stream",
     "text": [
      "enter  number:5\n",
      "not prime number\n",
      "not prime number\n",
      "not prime number\n"
     ]
    }
   ],
   "source": [
    "# prime\n",
    "num=int(raw_input(\"enter  number:\"))\n",
    "if num>1:\n",
    "    for i in range(2,num):\n",
    "        if n%i==0:\n",
    "            print \"not prime number\"\n",
    "            break\n",
    "        else:\n",
    "            print \"not prime number\"\n",
    "else:\n",
    "    print \"not prime\"\n"
   ]
  },
  {
   "cell_type": "code",
   "execution_count": null,
   "metadata": {},
   "outputs": [],
   "source": []
  }
 ],
 "metadata": {
  "kernelspec": {
   "display_name": "Python 2",
   "language": "python",
   "name": "python2"
  },
  "language_info": {
   "codemirror_mode": {
    "name": "ipython",
    "version": 2
   },
   "file_extension": ".py",
   "mimetype": "text/x-python",
   "name": "python",
   "nbconvert_exporter": "python",
   "pygments_lexer": "ipython2",
   "version": "2.7.15"
  }
 },
 "nbformat": 4,
 "nbformat_minor": 2
}
