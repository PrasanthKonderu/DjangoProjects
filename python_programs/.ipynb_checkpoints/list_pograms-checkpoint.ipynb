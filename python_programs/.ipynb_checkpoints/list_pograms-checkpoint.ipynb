{
 "cells": [
  {
   "cell_type": "code",
   "execution_count": 1,
   "metadata": {},
   "outputs": [
    {
     "name": "stdout",
     "output_type": "stream",
     "text": [
      "[0, 3, 4, 5, 8]\n"
     ]
    }
   ],
   "source": [
    "# write a pogram to sort a list1=[4,8,3,0,5]\n",
    "l1=[4,8,3,0,5]\n",
    "for i in range(0,len(l1)-1):\n",
    "    for j in range(0,len(l1)-1):\n",
    "        if l1[j]>l1[j+1]:\n",
    "            l1[j],l1[j+1]=l1[j+1],l1[j]\n",
    "            \n",
    "print(l1)"
   ]
  },
  {
   "cell_type": "code",
   "execution_count": 6,
   "metadata": {},
   "outputs": [
    {
     "name": "stdout",
     "output_type": "stream",
     "text": [
      "[['y', 1], ['a', 20], ['s', 50], ['h', 80], ['l', 90]]\n",
      "second highesst number :h \n"
     ]
    }
   ],
   "source": [
    "# WAP to find the name of the second highest number\n",
    "l1 = [['y', 80], ['a', 20], ['s', 1], ['h', 90], ['l', 50]]\n",
    "\n",
    "for i in range(0,len(l1)-1):\n",
    "    for j in range(0,len(l1)-1):\n",
    "        if l1[j][1]>l1[j+1][1]:\n",
    "            l1[j][1],l1[j+1][1]=l1[j+1][1],l1[j][1]\n",
    "            \n",
    "print(l1)\n",
    "print(f\"second highesst number :{l1[-2][0]} \")"
   ]
  },
  {
   "cell_type": "code",
   "execution_count": 10,
   "metadata": {},
   "outputs": [
    {
     "name": "stdout",
     "output_type": "stream",
     "text": [
      "[(1, 3), (2, 4), (3, 5)]\n"
     ]
    }
   ],
   "source": [
    "# how to convert to list int to list of tuple \n",
    "l1=[1,2,3]\n",
    "l2=[3,4,5]\n",
    "l3=[(l1[i],l2[i]) for i in range(len(l1))]\n",
    "print(l3)"
   ]
  },
  {
   "cell_type": "code",
   "execution_count": 18,
   "metadata": {},
   "outputs": [
    {
     "name": "stdout",
     "output_type": "stream",
     "text": [
      "[3, 9, 7, 8, 4]\n"
     ]
    }
   ],
   "source": [
    "# Reverse the list without using slicing operation and reverse function\n",
    "l=[4,8,7,9,3]\n",
    "\n",
    "mid=len(l)//2\n",
    "for i in range(mid):\n",
    "    l[len(l)-i-1],l[i]=l[i],l[len(l)-i-1]\n",
    "print(l)"
   ]
  },
  {
   "cell_type": "code",
   "execution_count": 39,
   "metadata": {},
   "outputs": [
    {
     "name": "stdout",
     "output_type": "stream",
     "text": [
      "[[1, 2, 3], [4, 5, 6], [7, 8, 9]]\n"
     ]
    }
   ],
   "source": [
    "# # list of 3 nos in sequence in the list and sort it\n",
    "l=[1,2,3,4,5,6,7,8,9]\n",
    "n=3\n",
    "l2=[]\n",
    "for i in range(0,len(l),n):\n",
    "    #print(l[i:i+n])\n",
    "    l2.append(l[i:i+n])\n",
    "print(l2)"
   ]
  },
  {
   "cell_type": "code",
   "execution_count": 34,
   "metadata": {},
   "outputs": [
    {
     "name": "stdout",
     "output_type": "stream",
     "text": [
      "18\n",
      "30\n"
     ]
    }
   ],
   "source": [
    "# To find the duplicate elements\n",
    "my_list = [12,18,30,18,30]\n",
    "for j in range(0,len(my_list)-1):\n",
    "        if my_list[j] in my_list[j+1:]:\n",
    "            print(my_list[j])"
   ]
  },
  {
   "cell_type": "code",
   "execution_count": 37,
   "metadata": {},
   "outputs": [
    {
     "name": "stdout",
     "output_type": "stream",
     "text": [
      "[12, 18, 30]\n"
     ]
    }
   ],
   "source": [
    "# remove duplicate elements\n",
    "my_list = [12,18,30,18,30]\n",
    "j=0\n",
    "while j < len(my_list):\n",
    "    if my_list[j] in my_list[j+1:]:\n",
    "        my_list=my_list[:j]+my_list[j+1:]\n",
    "    else:\n",
    "        j=j+1\n",
    "print(my_list)"
   ]
  },
  {
   "cell_type": "code",
   "execution_count": 40,
   "metadata": {},
   "outputs": [
    {
     "name": "stdout",
     "output_type": "stream",
     "text": [
      "No. of times substring present in string: 2\n"
     ]
    }
   ],
   "source": [
    "string = 'ABCDCDC'\n",
    "sub_str = 'CDC'\n",
    "\n",
    "count = 0\n",
    "for i in range(0, len(string)):\n",
    "    if string[i] == sub_str[0]:\n",
    "       \n",
    "        if string[i:i+len(sub_str)] == sub_str:\n",
    "            count = count+1\n",
    "print('No. of times substring present in string:', count)"
   ]
  },
  {
   "cell_type": "code",
   "execution_count": 42,
   "metadata": {},
   "outputs": [
    {
     "name": "stdout",
     "output_type": "stream",
     "text": [
      "palidram 141\n"
     ]
    }
   ],
   "source": [
    "#palidram number\n",
    "\n",
    "n=141\n",
    "res=0\n",
    "temp=n\n",
    "while n>0:\n",
    "    d=n%10\n",
    "    res=res*10+d\n",
    "    n=n//10\n",
    "if temp==res:\n",
    "    print(\"palidram\",temp)"
   ]
  },
  {
   "cell_type": "code",
   "execution_count": 46,
   "metadata": {},
   "outputs": [],
   "source": [
    "#primenumber\n",
    "n=11\n",
    "for i in range(2,n):\n",
    "    if n%i==0:\n",
    "        break\n",
    "else:\n",
    "    print(n)"
   ]
  },
  {
   "cell_type": "code",
   "execution_count": 50,
   "metadata": {},
   "outputs": [
    {
     "name": "stdout",
     "output_type": "stream",
     "text": [
      " aecdi\n"
     ]
    }
   ],
   "source": [
    "input=\"a4cd5\"\n",
    "output=\" \"\n",
    "for i in input:\n",
    "    if i.isalpha():\n",
    "        output=output+i\n",
    "        each=i\n",
    "    else:\n",
    "        output=output+chr(ord(each)+int(i))\n",
    "print(output)"
   ]
  },
  {
   "cell_type": "code",
   "execution_count": 3,
   "metadata": {},
   "outputs": [
    {
     "name": "stdout",
     "output_type": "stream",
     "text": [
      "150\n"
     ]
    }
   ],
   "source": [
    "#lcd hcf\n",
    "x=50\n",
    "y=3\n",
    "if x>y:\n",
    "    h=x\n",
    "else:\n",
    "    h=y\n",
    "    \n",
    "while(True):\n",
    "    if h%x==0 and h%y==0:\n",
    "        break\n",
    "    h=h+1\n",
    "print(h)    "
   ]
  },
  {
   "cell_type": "code",
   "execution_count": 5,
   "metadata": {},
   "outputs": [
    {
     "ename": "NameError",
     "evalue": "name 'g' is not defined",
     "output_type": "error",
     "traceback": [
      "\u001b[1;31m---------------------------------------------------------------------------\u001b[0m",
      "\u001b[1;31mNameError\u001b[0m                                 Traceback (most recent call last)",
      "\u001b[1;32m<ipython-input-5-7db8105750c7>\u001b[0m in \u001b[0;36m<module>\u001b[1;34m\u001b[0m\n\u001b[0;32m      9\u001b[0m     \u001b[1;32mif\u001b[0m \u001b[0mx\u001b[0m\u001b[1;33m%\u001b[0m\u001b[0mi\u001b[0m\u001b[1;33m==\u001b[0m\u001b[1;36m0\u001b[0m \u001b[1;32mand\u001b[0m \u001b[0my\u001b[0m\u001b[1;33m%\u001b[0m\u001b[0mi\u001b[0m\u001b[1;33m==\u001b[0m\u001b[1;36m0\u001b[0m\u001b[1;33m:\u001b[0m\u001b[1;33m\u001b[0m\u001b[1;33m\u001b[0m\u001b[0m\n\u001b[0;32m     10\u001b[0m         \u001b[0mg\u001b[0m\u001b[1;33m=\u001b[0m\u001b[0mi\u001b[0m\u001b[1;33m\u001b[0m\u001b[1;33m\u001b[0m\u001b[0m\n\u001b[1;32m---> 11\u001b[1;33m     \u001b[0mprint\u001b[0m\u001b[1;33m(\u001b[0m\u001b[0mg\u001b[0m\u001b[1;33m)\u001b[0m\u001b[1;33m\u001b[0m\u001b[1;33m\u001b[0m\u001b[0m\n\u001b[0m",
      "\u001b[1;31mNameError\u001b[0m: name 'g' is not defined"
     ]
    }
   ],
   "source": [
    "x=50\n",
    "y=3\n",
    "if x>y:\n",
    "    s=x\n",
    "else:\n",
    "    s=y\n",
    "    \n",
    "for i in range(1,s+1):\n",
    "    if x%i==0 and y%i==0:\n",
    "        g=i\n",
    "    print(g)"
   ]
  },
  {
   "cell_type": "code",
   "execution_count": null,
   "metadata": {},
   "outputs": [],
   "source": []
  }
 ],
 "metadata": {
  "kernelspec": {
   "display_name": "Python 3",
   "language": "python",
   "name": "python3"
  },
  "language_info": {
   "codemirror_mode": {
    "name": "ipython",
    "version": 3
   },
   "file_extension": ".py",
   "mimetype": "text/x-python",
   "name": "python",
   "nbconvert_exporter": "python",
   "pygments_lexer": "ipython3",
   "version": "3.7.1"
  }
 },
 "nbformat": 4,
 "nbformat_minor": 2
}
